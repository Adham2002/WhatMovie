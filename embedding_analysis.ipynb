{
 "cells": [
  {
   "cell_type": "markdown",
   "id": "cf468fec",
   "metadata": {},
   "source": [
    "# Analyse embedding models"
   ]
  },
  {
   "cell_type": "code",
   "execution_count": null,
   "id": "4b82e4be",
   "metadata": {},
   "outputs": [],
   "source": [
    "from movie_bot import SparseVectorizer, DenseVectorizer"
   ]
  },
  {
   "cell_type": "code",
   "execution_count": null,
   "id": "9f243890",
   "metadata": {},
   "outputs": [],
   "source": []
  },
  {
   "cell_type": "code",
   "execution_count": null,
   "id": "384be43e",
   "metadata": {},
   "outputs": [],
   "source": []
  },
  {
   "cell_type": "code",
   "execution_count": null,
   "id": "3bb0c19f",
   "metadata": {},
   "outputs": [],
   "source": []
  },
  {
   "cell_type": "code",
   "execution_count": null,
   "id": "1d4859ea",
   "metadata": {},
   "outputs": [],
   "source": []
  }
 ],
 "metadata": {
  "kernelspec": {
   "display_name": "Python (data_analytics)",
   "language": "python",
   "name": "data_analytics"
  },
  "language_info": {
   "name": "python",
   "version": "3.12.9"
  }
 },
 "nbformat": 4,
 "nbformat_minor": 5
}
