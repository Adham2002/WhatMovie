{
 "cells": [
  {
   "cell_type": "markdown",
   "id": "134394a0",
   "metadata": {},
   "source": [
    "# Create index endpoint for hybrid search"
   ]
  },
  {
   "cell_type": "markdown",
   "id": "eae4c5c6",
   "metadata": {},
   "source": [
    "## Setup"
   ]
  },
  {
   "cell_type": "code",
   "execution_count": null,
   "id": "fb8cab9f",
   "metadata": {},
   "outputs": [
    {
     "name": "stdout",
     "output_type": "stream",
     "text": [
      "Note: you may need to restart the kernel to use updated packages.\n"
     ]
    },
    {
     "name": "stderr",
     "output_type": "stream",
     "text": [
      "  WARNING: The script websockets.exe is installed in 'C:\\Users\\Adham\\AppData\\Roaming\\Python\\Python312\\Scripts' which is not on PATH.\n",
      "  Consider adding this directory to PATH or, if you prefer to suppress this warning, use --no-warn-script-location.\n",
      "  WARNING: The script tb-gcp-uploader.exe is installed in 'C:\\Users\\Adham\\AppData\\Roaming\\Python\\Python312\\Scripts' which is not on PATH.\n",
      "  Consider adding this directory to PATH or, if you prefer to suppress this warning, use --no-warn-script-location.\n"
     ]
    }
   ],
   "source": [
    "%pip install --upgrade --quiet --user google-cloud-aiplatform google-cloud-storage"
   ]
  },
  {
   "cell_type": "code",
   "execution_count": null,
   "id": "3341c316",
   "metadata": {},
   "outputs": [],
   "source": [
    "# Inbuild python packages\n",
    "import os\n",
    "from datetime import datetime\n",
    "import json\n",
    "\n",
    "# Data manipulation packages\n",
    "import pandas as pd\n",
    "import numpy as np\n",
    "\n",
    "# GCP imports\n",
    "from google.cloud import aiplatform\n",
    "from vertexai.language_models import TextEmbeddingModel\n",
    "from google.cloud.aiplatform.matching_engine.matching_engine_index_endpoint import HybridQuery\n",
    "\n",
    "# Embeddings methods\n",
    "from movie_bot import SparseVectorizer, DenseVectorizer"
   ]
  },
  {
   "cell_type": "code",
   "execution_count": null,
   "id": "a29e61ac",
   "metadata": {},
   "outputs": [
    {
     "name": "stdout",
     "output_type": "stream",
     "text": [
      "Project ID: synthetic-diode-459014-v9\n",
      "Region: europe-west1\n",
      "Bucket URI: gs://synthetic-diode-459014-v9\n",
      "Deployed Hybrid Index ID: vs_hybridsearch_deployed_07041616\n"
     ]
    }
   ],
   "source": [
    "# Set Google Cloud project information\n",
    "UID = datetime.now().strftime(\"%m%d%H%M\")                       # timestamp to create Unique IDs (UID)\n",
    "PROJECT_ID = 'synthetic-diode-459014-v9'                        # ID of project that has already been created\n",
    "LOCATION = \"europe-west1\"\n",
    "BUCKET_URI = f\"gs://{PROJECT_ID}\"                               # URI for new bucket to store embeddings\n",
    "\n",
    "INDEX_NAME = \"WhatMovie-1-index\"                                # name for the index we will create\n",
    "INDEX_ENDPOINT_NAME = \"WhatMovie-1-index-endpoint\"              # name for the index endpoint we will create\n",
    "DEPLOYED_INDEX_NAME = \"WhatMovie-1-deployed-index\"              # name for the index we will deploy\n",
    "\n",
    "# Initialize Vertex AI SDK\n",
    "aiplatform.init(project=PROJECT_ID, location=LOCATION)\n",
    "\n",
    "print(f\"UID: {UID}\")\n",
    "print(f\"Project ID: {PROJECT_ID}\")\n",
    "print(f\"Region: {LOCATION}\")\n",
    "print(f\"Bucket URI: {BUCKET_URI}\")\n",
    "print(f\"Deployed Hybrid Index ID: {DEPLOYED_HYBRID_INDEX_ID}\")"
   ]
  },
  {
   "cell_type": "code",
   "execution_count": null,
   "id": "68350436",
   "metadata": {},
   "outputs": [],
   "source": [
    "# Saving setup information to config.json\n",
    "setup_info = {\n",
    "    \"UID\": UID,\n",
    "    \"project_id\": PROJECT_ID,\n",
    "    \"location\": LOCATION,\n",
    "}"
   ]
  },
  {
   "cell_type": "markdown",
   "id": "46da6359",
   "metadata": {},
   "source": [
    "## Get dataset"
   ]
  },
  {
   "cell_type": "code",
   "execution_count": 4,
   "id": "c2eed247",
   "metadata": {},
   "outputs": [
    {
     "data": {
      "application/vnd.microsoft.datawrangler.viewer.v0+json": {
       "columns": [
        {
         "name": "id",
         "rawType": "int64",
         "type": "integer"
        },
        {
         "name": "title",
         "rawType": "object",
         "type": "string"
        },
        {
         "name": "vote_average",
         "rawType": "float64",
         "type": "float"
        },
        {
         "name": "vote_count",
         "rawType": "int64",
         "type": "integer"
        },
        {
         "name": "release_date",
         "rawType": "object",
         "type": "string"
        },
        {
         "name": "overview",
         "rawType": "object",
         "type": "string"
        },
        {
         "name": "popularity",
         "rawType": "float64",
         "type": "float"
        },
        {
         "name": "tagline",
         "rawType": "object",
         "type": "string"
        },
        {
         "name": "genres",
         "rawType": "object",
         "type": "string"
        },
        {
         "name": "production_companies",
         "rawType": "object",
         "type": "string"
        },
        {
         "name": "keywords",
         "rawType": "object",
         "type": "string"
        },
        {
         "name": "movie_details",
         "rawType": "object",
         "type": "string"
        }
       ],
       "ref": "ef3545d2-d1cb-4f39-9b26-b3f854ef5cfd",
       "rows": [
        [
         "27205",
         "Inception",
         "8.364",
         "34495",
         "2010-07-15",
         "Cobb, a skilled thief who commits corporate espionage by infiltrating the subconscious of his targets is offered a chance to regain his old life as payment for a task considered to be impossible: \"inception\", the implantation of another person's idea into a target's subconscious.",
         "83.952",
         "Your mind is the scene of the crime.",
         "Action, Science Fiction, Adventure",
         "Legendary Pictures, Syncopy, Warner Bros. Pictures",
         "rescue, mission, dream, airplane, paris, france, virtual reality, kidnapping, philosophy, spy, allegory, manipulation, car crash, heist, memory, architecture, los angeles, california, dream world, subconscious",
         "title: Inception release_date: 2010-07-15 genres: Action, Science Fiction, Adventure tagline: Your mind is the scene of the crime. keywords: rescue, mission, dream, airplane, paris, france, virtual reality, kidnapping, philosophy, spy, allegory, manipulation, car crash, heist, memory, architecture, los angeles, california, dream world, subconscious overview: Cobb, a skilled thief who commits corporate espionage by infiltrating the subconscious of his targets is offered a chance to regain his old life as payment for a task considered to be impossible: \"inception\", the implantation of another person's idea into a target's subconscious."
        ],
        [
         "157336",
         "Interstellar",
         "8.417",
         "32571",
         "2014-11-05",
         "The adventures of a group of explorers who make use of a newly discovered wormhole to surpass the limitations on human space travel and conquer the vast distances involved in an interstellar voyage.",
         "140.241",
         "Mankind was born on Earth. It was never meant to die here.",
         "Adventure, Drama, Science Fiction",
         "Legendary Pictures, Syncopy, Lynda Obst Productions",
         "rescue, future, spacecraft, race against time, artificial intelligence (a.i.), nasa, time warp, dystopia, expedition, space travel, wormhole, famine, black hole, quantum mechanics, family relationships, space, robot, astronaut, scientist, single father, farmer, space station, curious, space adventure, time paradox, thoughtful, time-manipulation, father daughter relationship, 2060s, cornfield, time manipulation, complicated",
         "title: Interstellar release_date: 2014-11-05 genres: Adventure, Drama, Science Fiction tagline: Mankind was born on Earth. It was never meant to die here. keywords: rescue, future, spacecraft, race against time, artificial intelligence (a.i.), nasa, time warp, dystopia, expedition, space travel, wormhole, famine, black hole, quantum mechanics, family relationships, space, robot, astronaut, scientist, single father, farmer, space station, curious, space adventure, time paradox, thoughtful, time-manipulation, father daughter relationship, 2060s, cornfield, time manipulation, complicated overview: The adventures of a group of explorers who make use of a newly discovered wormhole to surpass the limitations on human space travel and conquer the vast distances involved in an interstellar voyage."
        ],
        [
         "155",
         "The Dark Knight",
         "8.512",
         "30619",
         "2008-07-16",
         "Batman raises the stakes in his war on crime. With the help of Lt. Jim Gordon and District Attorney Harvey Dent, Batman sets out to dismantle the remaining criminal organizations that plague the streets. The partnership proves to be effective, but they soon find themselves prey to a reign of chaos unleashed by a rising criminal mastermind known to the terrified citizens of Gotham as the Joker.",
         "130.643",
         "Welcome to a world without rules.",
         "Drama, Action, Crime, Thriller",
         "DC Comics, Legendary Pictures, Syncopy, Isobel Griffiths, Warner Bros. Pictures",
         "joker, sadism, chaos, secret identity, crime fighter, superhero, anti hero, scarecrow, based on comic, vigilante, organized crime, tragic hero, anti villain, criminal mastermind, district attorney, super power, super villain, neo-noir",
         "title: The Dark Knight release_date: 2008-07-16 genres: Drama, Action, Crime, Thriller tagline: Welcome to a world without rules. keywords: joker, sadism, chaos, secret identity, crime fighter, superhero, anti hero, scarecrow, based on comic, vigilante, organized crime, tragic hero, anti villain, criminal mastermind, district attorney, super power, super villain, neo-noir overview: Batman raises the stakes in his war on crime. With the help of Lt. Jim Gordon and District Attorney Harvey Dent, Batman sets out to dismantle the remaining criminal organizations that plague the streets. The partnership proves to be effective, but they soon find themselves prey to a reign of chaos unleashed by a rising criminal mastermind known to the terrified citizens of Gotham as the Joker."
        ],
        [
         "19995",
         "Avatar",
         "7.573",
         "29815",
         "2009-12-15",
         "In the 22nd century, a paraplegic Marine is dispatched to the moon Pandora on a unique mission, but becomes torn between following orders and protecting an alien civilization.",
         "79.932",
         "Enter the world of Pandora.",
         "Action, Adventure, Fantasy, Science Fiction",
         "Dune Entertainment, Lightstorm Entertainment, 20th Century Fox, Ingenious Media",
         "future, society, culture clash, space travel, space war, space colony, tribe, romance, alien, futuristic, space, alien planet, marine, soldier, battle, love affair, nature, anti war, power relations, joyful",
         "title: Avatar release_date: 2009-12-15 genres: Action, Adventure, Fantasy, Science Fiction tagline: Enter the world of Pandora. keywords: future, society, culture clash, space travel, space war, space colony, tribe, romance, alien, futuristic, space, alien planet, marine, soldier, battle, love affair, nature, anti war, power relations, joyful overview: In the 22nd century, a paraplegic Marine is dispatched to the moon Pandora on a unique mission, but becomes torn between following orders and protecting an alien civilization."
        ],
        [
         "24428",
         "The Avengers",
         "7.71",
         "29166",
         "2012-04-25",
         "When an unexpected enemy emerges and threatens global safety and security, Nick Fury, director of the international peacekeeping agency known as S.H.I.E.L.D., finds himself in need of a team to pull the world back from the brink of disaster. Spanning the globe, a daring recruitment effort begins!",
         "98.082",
         "Some assembly required.",
         "Science Fiction, Action, Adventure",
         "Marvel Studios",
         "new york city, superhero, shield, based on comic, alien invasion, superhero team, aftercreditsstinger, duringcreditsstinger, marvel cinematic universe (mcu)",
         "title: The Avengers release_date: 2012-04-25 genres: Science Fiction, Action, Adventure tagline: Some assembly required. keywords: new york city, superhero, shield, based on comic, alien invasion, superhero team, aftercreditsstinger, duringcreditsstinger, marvel cinematic universe (mcu) overview: When an unexpected enemy emerges and threatens global safety and security, Nick Fury, director of the international peacekeeping agency known as S.H.I.E.L.D., finds himself in need of a team to pull the world back from the brink of disaster. Spanning the globe, a daring recruitment effort begins!"
        ]
       ],
       "shape": {
        "columns": 11,
        "rows": 5
       }
      },
      "text/html": [
       "<div>\n",
       "<style scoped>\n",
       "    .dataframe tbody tr th:only-of-type {\n",
       "        vertical-align: middle;\n",
       "    }\n",
       "\n",
       "    .dataframe tbody tr th {\n",
       "        vertical-align: top;\n",
       "    }\n",
       "\n",
       "    .dataframe thead th {\n",
       "        text-align: right;\n",
       "    }\n",
       "</style>\n",
       "<table border=\"1\" class=\"dataframe\">\n",
       "  <thead>\n",
       "    <tr style=\"text-align: right;\">\n",
       "      <th></th>\n",
       "      <th>title</th>\n",
       "      <th>vote_average</th>\n",
       "      <th>vote_count</th>\n",
       "      <th>release_date</th>\n",
       "      <th>overview</th>\n",
       "      <th>popularity</th>\n",
       "      <th>tagline</th>\n",
       "      <th>genres</th>\n",
       "      <th>production_companies</th>\n",
       "      <th>keywords</th>\n",
       "      <th>movie_details</th>\n",
       "    </tr>\n",
       "    <tr>\n",
       "      <th>id</th>\n",
       "      <th></th>\n",
       "      <th></th>\n",
       "      <th></th>\n",
       "      <th></th>\n",
       "      <th></th>\n",
       "      <th></th>\n",
       "      <th></th>\n",
       "      <th></th>\n",
       "      <th></th>\n",
       "      <th></th>\n",
       "      <th></th>\n",
       "    </tr>\n",
       "  </thead>\n",
       "  <tbody>\n",
       "    <tr>\n",
       "      <th>27205</th>\n",
       "      <td>Inception</td>\n",
       "      <td>8.364</td>\n",
       "      <td>34495</td>\n",
       "      <td>2010-07-15</td>\n",
       "      <td>Cobb, a skilled thief who commits corporate es...</td>\n",
       "      <td>83.952</td>\n",
       "      <td>Your mind is the scene of the crime.</td>\n",
       "      <td>Action, Science Fiction, Adventure</td>\n",
       "      <td>Legendary Pictures, Syncopy, Warner Bros. Pict...</td>\n",
       "      <td>rescue, mission, dream, airplane, paris, franc...</td>\n",
       "      <td>title: Inception release_date: 2010-07-15 genr...</td>\n",
       "    </tr>\n",
       "    <tr>\n",
       "      <th>157336</th>\n",
       "      <td>Interstellar</td>\n",
       "      <td>8.417</td>\n",
       "      <td>32571</td>\n",
       "      <td>2014-11-05</td>\n",
       "      <td>The adventures of a group of explorers who mak...</td>\n",
       "      <td>140.241</td>\n",
       "      <td>Mankind was born on Earth. It was never meant ...</td>\n",
       "      <td>Adventure, Drama, Science Fiction</td>\n",
       "      <td>Legendary Pictures, Syncopy, Lynda Obst Produc...</td>\n",
       "      <td>rescue, future, spacecraft, race against time,...</td>\n",
       "      <td>title: Interstellar release_date: 2014-11-05 g...</td>\n",
       "    </tr>\n",
       "    <tr>\n",
       "      <th>155</th>\n",
       "      <td>The Dark Knight</td>\n",
       "      <td>8.512</td>\n",
       "      <td>30619</td>\n",
       "      <td>2008-07-16</td>\n",
       "      <td>Batman raises the stakes in his war on crime. ...</td>\n",
       "      <td>130.643</td>\n",
       "      <td>Welcome to a world without rules.</td>\n",
       "      <td>Drama, Action, Crime, Thriller</td>\n",
       "      <td>DC Comics, Legendary Pictures, Syncopy, Isobel...</td>\n",
       "      <td>joker, sadism, chaos, secret identity, crime f...</td>\n",
       "      <td>title: The Dark Knight release_date: 2008-07-1...</td>\n",
       "    </tr>\n",
       "    <tr>\n",
       "      <th>19995</th>\n",
       "      <td>Avatar</td>\n",
       "      <td>7.573</td>\n",
       "      <td>29815</td>\n",
       "      <td>2009-12-15</td>\n",
       "      <td>In the 22nd century, a paraplegic Marine is di...</td>\n",
       "      <td>79.932</td>\n",
       "      <td>Enter the world of Pandora.</td>\n",
       "      <td>Action, Adventure, Fantasy, Science Fiction</td>\n",
       "      <td>Dune Entertainment, Lightstorm Entertainment, ...</td>\n",
       "      <td>future, society, culture clash, space travel, ...</td>\n",
       "      <td>title: Avatar release_date: 2009-12-15 genres:...</td>\n",
       "    </tr>\n",
       "    <tr>\n",
       "      <th>24428</th>\n",
       "      <td>The Avengers</td>\n",
       "      <td>7.710</td>\n",
       "      <td>29166</td>\n",
       "      <td>2012-04-25</td>\n",
       "      <td>When an unexpected enemy emerges and threatens...</td>\n",
       "      <td>98.082</td>\n",
       "      <td>Some assembly required.</td>\n",
       "      <td>Science Fiction, Action, Adventure</td>\n",
       "      <td>Marvel Studios</td>\n",
       "      <td>new york city, superhero, shield, based on com...</td>\n",
       "      <td>title: The Avengers release_date: 2012-04-25 g...</td>\n",
       "    </tr>\n",
       "  </tbody>\n",
       "</table>\n",
       "</div>"
      ],
      "text/plain": [
       "                  title  vote_average  vote_count release_date  \\\n",
       "id                                                               \n",
       "27205         Inception         8.364       34495   2010-07-15   \n",
       "157336     Interstellar         8.417       32571   2014-11-05   \n",
       "155     The Dark Knight         8.512       30619   2008-07-16   \n",
       "19995            Avatar         7.573       29815   2009-12-15   \n",
       "24428      The Avengers         7.710       29166   2012-04-25   \n",
       "\n",
       "                                                 overview  popularity  \\\n",
       "id                                                                      \n",
       "27205   Cobb, a skilled thief who commits corporate es...      83.952   \n",
       "157336  The adventures of a group of explorers who mak...     140.241   \n",
       "155     Batman raises the stakes in his war on crime. ...     130.643   \n",
       "19995   In the 22nd century, a paraplegic Marine is di...      79.932   \n",
       "24428   When an unexpected enemy emerges and threatens...      98.082   \n",
       "\n",
       "                                                  tagline  \\\n",
       "id                                                          \n",
       "27205                Your mind is the scene of the crime.   \n",
       "157336  Mankind was born on Earth. It was never meant ...   \n",
       "155                     Welcome to a world without rules.   \n",
       "19995                         Enter the world of Pandora.   \n",
       "24428                             Some assembly required.   \n",
       "\n",
       "                                             genres  \\\n",
       "id                                                    \n",
       "27205            Action, Science Fiction, Adventure   \n",
       "157336            Adventure, Drama, Science Fiction   \n",
       "155                  Drama, Action, Crime, Thriller   \n",
       "19995   Action, Adventure, Fantasy, Science Fiction   \n",
       "24428            Science Fiction, Action, Adventure   \n",
       "\n",
       "                                     production_companies  \\\n",
       "id                                                          \n",
       "27205   Legendary Pictures, Syncopy, Warner Bros. Pict...   \n",
       "157336  Legendary Pictures, Syncopy, Lynda Obst Produc...   \n",
       "155     DC Comics, Legendary Pictures, Syncopy, Isobel...   \n",
       "19995   Dune Entertainment, Lightstorm Entertainment, ...   \n",
       "24428                                      Marvel Studios   \n",
       "\n",
       "                                                 keywords  \\\n",
       "id                                                          \n",
       "27205   rescue, mission, dream, airplane, paris, franc...   \n",
       "157336  rescue, future, spacecraft, race against time,...   \n",
       "155     joker, sadism, chaos, secret identity, crime f...   \n",
       "19995   future, society, culture clash, space travel, ...   \n",
       "24428   new york city, superhero, shield, based on com...   \n",
       "\n",
       "                                            movie_details  \n",
       "id                                                         \n",
       "27205   title: Inception release_date: 2010-07-15 genr...  \n",
       "157336  title: Interstellar release_date: 2014-11-05 g...  \n",
       "155     title: The Dark Knight release_date: 2008-07-1...  \n",
       "19995   title: Avatar release_date: 2009-12-15 genres:...  \n",
       "24428   title: The Avengers release_date: 2012-04-25 g...  "
      ]
     },
     "execution_count": 4,
     "metadata": {},
     "output_type": "execute_result"
    }
   ],
   "source": [
    "# load in dataset\n",
    "df = pd.read_csv(\n",
    "    'data/processed_dataset.csv',\n",
    "    index_col = 'id'\n",
    ")\n",
    "df.head()"
   ]
  },
  {
   "cell_type": "code",
   "execution_count": 5,
   "id": "d8731716",
   "metadata": {},
   "outputs": [
    {
     "data": {
      "application/vnd.microsoft.datawrangler.viewer.v0+json": {
       "columns": [
        {
         "name": "index",
         "rawType": "int64",
         "type": "integer"
        },
        {
         "name": "id",
         "rawType": "int64",
         "type": "integer"
        },
        {
         "name": "movie_details",
         "rawType": "object",
         "type": "string"
        }
       ],
       "ref": "00eb4767-2222-4257-ae13-ef51dab2f456",
       "rows": [
        [
         "0",
         "834586",
         "title: Astralis release_date: 1972-05-08 genres: Animation tagline: NA keywords: NA overview: A man is lonely. In his tragic alienation he cannot become close with another person."
        ],
        [
         "1",
         "1431329",
         "title: David Hurn: A Life in Pictures release_date: 2017-11-04 genres: Documentary tagline: NA keywords: photographer, photography, biography overview: Documentary celebrating the life and career of world-renowned Magnum photographer David Hurn, possibly Wales's most important living photographer."
        ],
        [
         "2",
         "316340",
         "title: Two, Mississippi release_date: 2015-07-26 genres: Drama, Comedy tagline: Friendship has a scoreboard. keywords: friendship, dark comedy, conversation, handheld camera, best friend, improvisation, argument, flipping coin, phone call, rock paper scissors, coin toss, short film overview: Two friends resort to playing Rock, Paper, Scissors, flipping a coin, and detailed, yet petty analyzation of their friendship to determine which of them will call the mother of their recently deceased best friend, informing her of his demise."
        ],
        [
         "3",
         "1021328",
         "title: THE SILENT VOYAGE release_date: 2003-01-01 genres: Documentary tagline: NA keywords: NA overview: A Jian, Zhang Chiand Gou Zi took the train from Beijing to Tongliao. They made a promise that no one could speak during the trip, and who broke the rules should be punished. But it's still necessary to pick up some phone call, ask the way after you get off the train...For educated decadents, life is as if always in a state of intoxication, without goal or objective."
        ],
        [
         "4",
         "849757",
         "title: God Knows I Tried release_date: 2019-08-06 genres: Drama tagline: NA keywords: NA overview: In a new society which condemns all forms of sexual relations considered abnormal, Charles, a young homosexual, enters of his own free will in a sect, which seeks to cure deviants, in order to survive the dictatorship."
        ],
        [
         "5",
         "580880",
         "title: Captain Hagen's Bed & Breakfast release_date: 2019-01-08 genres: Comedy tagline: NA keywords: bed and breakfast (b&b), sea captain, hamptons overview: Four couples spend the weekend at a Bed and Breakfast in the Hamptons run by an eccentric German sea captain and his strange family."
        ],
        [
         "6",
         "1240167",
         "title: Inside release_date: 2020-03-31 genres: NA tagline: NA keywords: NA overview: INSIDE - \"Stay at Home\" 1 Minute Film Riot Short Film Challenge."
        ],
        [
         "7",
         "17671",
         "title: Fleetwood Mac: The Dance release_date: 1997-08-12 genres: Music tagline: NA keywords: musical, concert film overview: Recorded live at Warner Brothers Studios in Burbank, Fleetwood Mac performs their greatest hits – including the classics 'Rhiannon', 'Everywhere', 'Dreams', 'Don't Stop' and 'Landslide' – and several new songs."
        ],
        [
         "8",
         "510577",
         "title: La dama del alba release_date: 1950-02-25 genres: NA tagline: NA keywords: NA overview: Family rescues a woman from the river nearby where their daughter committed suicide years before. Unresolved mysteries. And meanwhile, there's a mysterious woman in black who shows up at the hacienda just before somebody dies."
        ],
        [
         "9",
         "1001814",
         "title: The Growler Story release_date: 1957-01-01 genres: Drama, War tagline: NA keywords: submarine, short film overview: True story of Lt.Cdr. Howard W.Gilmore who was awarded the Medal of Honor for sacrificing himself to save his submarine, February 1943."
        ],
        [
         "10",
         "376435",
         "title: 10 Minute Trainer - Upper Body release_date: 2007-07-09 genres: NA tagline: NA keywords: NA overview: 10 Minute Trainer Upper Body Workout"
        ],
        [
         "11",
         "292777",
         "title: Flower & Snake: Zero release_date: 2014-05-17 genres: Mystery, Thriller, Drama, Romance tagline: NA keywords: bondage, rope, bdsm, pink film overview: Misaki Amemiya is an assistant inspector for the Metropolitan Police Department's Community Safety Bureau who becomes ensnared in a trap while investigating a mysterious illegal video website called \"Babylon\". Soon, she's bound and tortured along with Shizuko and an oversexed housewife named Ruri."
        ],
        [
         "12",
         "980880",
         "title: Captain Jenks' Diplomacy release_date: 1912-04-13 genres: Comedy tagline: NA keywords: NA overview: Sir Brian, an irascible old gentleman, who suffers from gout, receives a note saying his son Gerald is very ill at college, and asking him to come to Dublin. He is too ill to go so he gets his friend, Captain Jenks, to go instead of him. Jenks finds Gerald being nursed by a pretty girl and soon discovers that Gerald is in love with her."
        ],
        [
         "13",
         "45332",
         "title: To Hell With The Ugly release_date: 2010-04-23 genres: Comedy tagline: NA keywords: NA overview: Eliseo is ugly, lame and single. He hasn't met the woman of his life and has never known love. Nati is ugly, missing a breast and separated. She found the man of her life but, even so, has never experienced true love. Eliseo thinks that the worst of his life is still to come. Nati thinks that the best of her life is still to come. The death of Eliseo's mother reunites them twenty years on in a last chance to find happiness and love. But what happens when the woman of your life is married to your brother"
        ],
        [
         "14",
         "336691",
         "title: Paternity Leave release_date: 2015-11-24 genres: Comedy, Romance tagline: NA keywords: baby, single parent, parenthood, robe, parenting, lgbt, nashville tennessee, long term relationship, male pregnancy, pregnant man, same sex marriage, nashville, gay theme overview: Four years into his first stable relationship, a man finds out that he is pregnant with his partner's baby."
        ],
        [
         "15",
         "529877",
         "title: The Bay of Happiness release_date: 1977-01-16 genres: Drama, History, Romance tagline: NA keywords: NA overview: The film is about the first oil-well in the world in the world in the 1920th."
        ],
        [
         "16",
         "325176",
         "title: The Runaway release_date: 2013-06-08 genres: Drama tagline: NA keywords: NA overview: A youth worker in a home for juvenile offenders goes to court along with one of the teenagers he's in charge of, Sabrina."
        ],
        [
         "17",
         "503628",
         "title: Stillpoint release_date: 2016-12-31 genres: NA tagline: NA keywords: NA overview: An elusive point of stillness in a shifting and expanding world."
        ],
        [
         "18",
         "1130927",
         "title: Marluku Wirlinyi: The Kangaroo Hunters release_date: 1998-05-01 genres: Documentary tagline: NA keywords: NA overview: MARLUKU WIRLINYI is a tale of kangaroo hunting that weaves its way through Dreamtime, to the present and back again. A group of old Warlpiri men transport us back to a time of rarely heard history and we follow their journey into the present. Songs, stories and dance relate the importances of the past to the present."
        ],
        [
         "19",
         "149044",
         "title: Mission: Improbable release_date: 2001-06-02 genres: Documentary tagline: NA keywords: NA overview: A behind the scenes look at the stunt work of \"Mission: Impossible 2\", told through one stunt man who looks like a certain superstar, who's got his looks, but certainly not his smarts."
        ],
        [
         "20",
         "570005",
         "title: Interview release_date: 2018-08-11 genres: Drama tagline: NA keywords: NA overview: A story about real characters who find themselves in a fictional situation. Four young actresses come to a job interview at the children’s playroom, totally unprepared for the issues they will have to face."
        ],
        [
         "21",
         "1038350",
         "title: Madeline's Rescue release_date: 1991-10-23 genres: NA tagline: NA keywords: NA overview: Madeline's Rescue"
        ],
        [
         "22",
         "719908",
         "title: The End of Silence release_date: 2021-12-02 genres: Documentary tagline: NA keywords: NA overview: A docudrama about the Gay Trials of Frankfurt 1950-51. When a teenage hustler was arrested by the police he revealed the names of his clients to save his own neck. His betrayal destroyed the lives of more than 200 gay men within 10 months."
        ],
        [
         "23",
         "1258288",
         "title: Only Godard release_date: 2024-03-15 genres: Documentary tagline: NA keywords: NA overview: How do you craft the portrait of Jean-Luc Godard, or better yet a portrait of his methodology, his universe, his way of constructing or deconstructing cinema, that is equal to his own cinematic audacity and genius? How could it be anything other than by taking risks, and trying out equally radical methods, never straying from to his example. The two filmmakers immerse us into the storage warehouse where, in 2010, all the archives kept by Godard in Switzerland were transferred, and they create a doppelganger (or a duplicate) of the director, who takes up the role of our guide into his world. Excerpts from his writings, his images, his perspective in cinema give us a glimpse into his mythology, his techniques, his singular gaze, and therefore also in his worldview."
        ],
        [
         "24",
         "447788",
         "title: Searching for Balance release_date: 1973-03-19 genres: NA tagline: NA keywords: NA overview: 1973 Czech experimental short by Petr Skala"
        ],
        [
         "25",
         "780290",
         "title: Wuliang release_date: 2020-12-04 genres: NA tagline: NA keywords: NA overview: A Chinese short film directed by Guō Jìngmíng (郭敬明) as part of the final films for \"Everybody Stand By 2\" (演员请就位)"
        ],
        [
         "26",
         "1073578",
         "title: David release_date: 2022-09-01 genres: NA tagline: NA keywords: NA overview: If you were a gay man in the 1980s, an apocalypse raged. The deadly HIV/AIDS pandemic was devastating the gay community, and with no cure, no vaccine and no treatment in sight, gay men had to watch helplessly while a generation of precious human beings was lost. Despite the horror of these deaths, the dominant feelings in straight society were indifference and contempt. Despite all this, David Shannon, a real gay man, was moved to help out as best he could. Many HIV/AIDS patients were completely abandoned by family and friends and left to die alone. David would sit with these ostracized men, and while he couldn't cure their illness he could at least comfort them and keep them company in their final. David never talked about it; his friends only found out after he passed away in 2018. This film encapsulates David's silent crusade, portraying him caring for one fictional patient as he dies."
        ],
        [
         "27",
         "397864",
         "title: Tarfaya release_date: 2004-09-17 genres: NA tagline: NA keywords: NA overview: Just like so many North Africans, a young Moroccan woman wants to reach Spain by the sea. But she'll face a lot of difficulties along the way."
        ],
        [
         "28",
         "1129383",
         "title: Cinema Para os Mortos release_date: 2023-05-01 genres: NA tagline: NA keywords: NA overview: In the village of Barra Grande, among appearances and disappearances, the animals keep the dead company."
        ],
        [
         "29",
         "796105",
         "title: An Eye for an Eye and a Hole for a Hole release_date: 2015-12-25 genres: NA tagline: NA keywords: gay theme, boys' love (bl), gay pink film overview: Kenji, the young head of Kato yakuza organisation, just got out of the jail. He comes home and founds out the opposing Sawaki yakuza is invading Kato's territory. Sawaki recruited Ikeyama and asked him to kill Kenji, but Ikeyama was Kenji's lover who exchanged the cup of brothers in a jail."
        ],
        [
         "30",
         "797773",
         "title: Long Time Love release_date: 2014-10-19 genres: NA tagline: NA keywords: NA overview: Five lesbian couples in long-term relationships, all of them sympathetic, very conscious women, including Sunci and Fab, the founders of the popular lesbian online portal Shoe.org, ask themselves 10 basic questions about their relationships, e.g .: Was it love at first sight? What keeps you together and what could separate you? What are your strengths and what are your weaknesses as a couple? Do you still have sex?"
        ],
        [
         "31",
         "741080",
         "title: Lovey-Dovey: The Rise of Machines release_date: 2023-03-30 genres: Comedy tagline: NA keywords: NA overview: In the new film, the Golubevs will swap bodies with robots and get the opportunity to rethink their attitude to modern technology and come to an understanding."
        ],
        [
         "32",
         "499281",
         "title: On the Line release_date: 2008-11-08 genres: Documentary, Drama tagline: NA keywords: NA overview: An ordinary Saturday in the South of California. Adam, a lower middle class North-American man, sees off his wife and children to carry out his weekly task."
        ],
        [
         "33",
         "989368",
         "title: ECW Fan Cam: November 10, 2000 release_date: 2000-11-10 genres: NA tagline: NA keywords: NA overview: November 10, 2000 from The Sportsplex in Schenectady, New York"
        ],
        [
         "34",
         "1221357",
         "title: Thapadya release_date: 1973-03-14 genres: NA tagline: NA keywords: NA overview: Directed by Prabhakar Manajirao Nayak. With Usha Chavan, Dinkar Inamdar, Raghavendra Kadkol, Nilu Phule."
        ],
        [
         "35",
         "1250273",
         "title: Blockade Scene release_date: 2023-12-06 genres: Documentary tagline: NA keywords: NA overview: Music, dance and art are not just components of human existence. It's something that can keep you alive when there's nothing else left. We know examples when only the strength of the spirit, backed by hope, helped people to survive in the most difficult conditions and resist cold, hunger and death itself."
        ],
        [
         "36",
         "1016362",
         "title: Hughie Fury vs Michael Hunter release_date: 2022-10-29 genres: NA tagline: NA keywords: NA overview: The long-awaited WBA World Title Eliminator clash between British contender Hughie Fury and US rival Michael Hunter now has a new date confirmed.  The two are set to face off at the Resorts World Arena in Birmingham, England, on Saturday, October 29th with the winner emerging as the next contender to challenge for the WBA heavyweight title currently held by Daniel Dubois."
        ],
        [
         "37",
         "177750",
         "title: El Gusto release_date: 2012-01-11 genres: Music, Documentary tagline: NA keywords: algeria, chaabi, maghreb, djazair, casbah alger, algerian music, chaabi algerois, arabo andalous overview: El Gusto is the story of an orchestra of Jewish and Muslim musicians torn apart by war 50 years ago, and recently reunited for an exceptional concert. These musicians share a passion they never lost: the soul of Algiers, Chaabi music."
        ],
        [
         "38",
         "314431",
         "title: Friday, August 28th, 2009. 8:24pm release_date: 2014-09-22 genres: Drama, Horror, Thriller tagline: Based On Actual Events keywords: biography, based on true story, dysfunctional family, domestic violence overview: A glimpse into the lives of a family torn apart by violence."
        ],
        [
         "39",
         "23984",
         "title: Cremaster 1 release_date: 1996-01-17 genres: Comedy, Music tagline: NA keywords: short film overview: CREMASTER 1 (1995) is a musical revue performed on the blue Astroturf playing field of Bronco Stadium in Boise, Idaho - Barney's hometown. Two Goodyear Blimps float above the arena like the airships that often transmit live sporting events via television broadcast. Four air hostesses tend to each blimp. The only sound is soft ambient music, which suggests the hum of the engines."
        ],
        [
         "40",
         "714132",
         "title: Warrior Angels release_date: 2018-03-24 genres: Action, Comedy tagline: NA keywords: martial arts, parody, female assassin, based on video game overview: Qiao Fan can't control her power. After she is attacked by an unknown assassin, she is forced to avenge her father. She transforms into a \"red clad woman\". Faced with a more mysterious evil force, Qiao Fan is about to challenge an incredible journey of revenge."
        ],
        [
         "41",
         "234652",
         "title: I Heart Monster Movies release_date: 2012-10-12 genres: Horror, Documentary tagline: NA keywords: fan culture, horror fans, horror culture, fan convention, fandom overview: Documentary about horror fans"
        ],
        [
         "42",
         "104916",
         "title: Marked Eyes release_date: 1964-09-02 genres: Drama, Crime tagline: NA keywords: blackmail, inspector, murder, inheritance, alps mountains overview: A story about a widow who begins to receive blackmail letters demanding money from her. This is when everyone in the small town she lives in dismissing her husband."
        ],
        [
         "43",
         "356439",
         "title: Hopfenanbau release_date: 1935-01-01 genres: Documentary tagline: NA keywords: silent film overview: A silent short documentary produced by Weid-Film."
        ],
        [
         "44",
         "250096",
         "title: Shadey release_date: 1985-05-31 genres: Comedy tagline: NA keywords: NA overview: A young man discovers that not only does he have the ability to read minds, but that if he holds a camera next to his head he can transmit the thoughts he sees onto film."
        ],
        [
         "45",
         "539044",
         "title: Rock Sugar release_date: 2021-06-01 genres: Thriller tagline: NA keywords: NA overview: Twelve-year-old Charlotte commits the unthinkable when she stands up to Brenda the bully late one night."
        ],
        [
         "46",
         "770470",
         "title: The Library That Dolly Built release_date: 2020-12-09 genres: Documentary tagline: NA keywords: NA overview: A behind-the-scenes look at Dolly Parton's literacy-focused non-profit, Imagination Library, to show how the famous performer shares her love of reading."
        ],
        [
         "47",
         "11519",
         "title: 1941 release_date: 1979-12-14 genres: Comedy, War tagline: Paranoia meets pandemonium. keywords: california, panic, submarine, war ship, world war ii, pearl harbor, satire, los angeles, california, 1940s, anarchic comedy overview: In the days after the attack on Pearl Harbor, panic grips California, where a military officer leads a mob chasing a Japanese sub."
        ],
        [
         "48",
         "504003",
         "title: Transformation release_date: 2016-04-22 genres: Drama, Horror tagline: Wake up keywords: dual identity, identity, black and white, freud overview: A brief, abstract exploration of identity."
        ],
        [
         "49",
         "270360",
         "title: Sonic: The Birth of an Icon release_date: 2011-11-04 genres: Documentary tagline: NA keywords: video game overview: This documentary is an exclusive collection of interviews and footage charting Sonic's life from inception through to becoming one of the most iconic characters in video game history."
        ]
       ],
       "shape": {
        "columns": 2,
        "rows": 500
       }
      },
      "text/html": [
       "<div>\n",
       "<style scoped>\n",
       "    .dataframe tbody tr th:only-of-type {\n",
       "        vertical-align: middle;\n",
       "    }\n",
       "\n",
       "    .dataframe tbody tr th {\n",
       "        vertical-align: top;\n",
       "    }\n",
       "\n",
       "    .dataframe thead th {\n",
       "        text-align: right;\n",
       "    }\n",
       "</style>\n",
       "<table border=\"1\" class=\"dataframe\">\n",
       "  <thead>\n",
       "    <tr style=\"text-align: right;\">\n",
       "      <th></th>\n",
       "      <th>id</th>\n",
       "      <th>movie_details</th>\n",
       "    </tr>\n",
       "  </thead>\n",
       "  <tbody>\n",
       "    <tr>\n",
       "      <th>0</th>\n",
       "      <td>834586</td>\n",
       "      <td>title: Astralis release_date: 1972-05-08 genre...</td>\n",
       "    </tr>\n",
       "    <tr>\n",
       "      <th>1</th>\n",
       "      <td>1431329</td>\n",
       "      <td>title: David Hurn: A Life in Pictures release_...</td>\n",
       "    </tr>\n",
       "    <tr>\n",
       "      <th>2</th>\n",
       "      <td>316340</td>\n",
       "      <td>title: Two, Mississippi release_date: 2015-07-...</td>\n",
       "    </tr>\n",
       "    <tr>\n",
       "      <th>3</th>\n",
       "      <td>1021328</td>\n",
       "      <td>title: THE SILENT VOYAGE release_date: 2003-01...</td>\n",
       "    </tr>\n",
       "    <tr>\n",
       "      <th>4</th>\n",
       "      <td>849757</td>\n",
       "      <td>title: God Knows I Tried release_date: 2019-08...</td>\n",
       "    </tr>\n",
       "    <tr>\n",
       "      <th>...</th>\n",
       "      <td>...</td>\n",
       "      <td>...</td>\n",
       "    </tr>\n",
       "    <tr>\n",
       "      <th>495</th>\n",
       "      <td>1342122</td>\n",
       "      <td>title: Beyond the Binary release_date: 2024-04...</td>\n",
       "    </tr>\n",
       "    <tr>\n",
       "      <th>496</th>\n",
       "      <td>195859</td>\n",
       "      <td>title: Hunters Since the Beginning of Time rel...</td>\n",
       "    </tr>\n",
       "    <tr>\n",
       "      <th>497</th>\n",
       "      <td>215877</td>\n",
       "      <td>title: Dolls release_date: 2013-03-13 genres: ...</td>\n",
       "    </tr>\n",
       "    <tr>\n",
       "      <th>498</th>\n",
       "      <td>681767</td>\n",
       "      <td>title: Free Your Mind release_date: 2003-01-01...</td>\n",
       "    </tr>\n",
       "    <tr>\n",
       "      <th>499</th>\n",
       "      <td>77682</td>\n",
       "      <td>title: Ayo: Live at Olympia release_date: 2007...</td>\n",
       "    </tr>\n",
       "  </tbody>\n",
       "</table>\n",
       "<p>500 rows × 2 columns</p>\n",
       "</div>"
      ],
      "text/plain": [
       "          id                                      movie_details\n",
       "0     834586  title: Astralis release_date: 1972-05-08 genre...\n",
       "1    1431329  title: David Hurn: A Life in Pictures release_...\n",
       "2     316340  title: Two, Mississippi release_date: 2015-07-...\n",
       "3    1021328  title: THE SILENT VOYAGE release_date: 2003-01...\n",
       "4     849757  title: God Knows I Tried release_date: 2019-08...\n",
       "..       ...                                                ...\n",
       "495  1342122  title: Beyond the Binary release_date: 2024-04...\n",
       "496   195859  title: Hunters Since the Beginning of Time rel...\n",
       "497   215877  title: Dolls release_date: 2013-03-13 genres: ...\n",
       "498   681767  title: Free Your Mind release_date: 2003-01-01...\n",
       "499    77682  title: Ayo: Live at Olympia release_date: 2007...\n",
       "\n",
       "[500 rows x 2 columns]"
      ]
     },
     "execution_count": 5,
     "metadata": {},
     "output_type": "execute_result"
    }
   ],
   "source": [
    "sample_movie_details = df['movie_details'].sample(500).reset_index()\n",
    "sample_movie_details"
   ]
  },
  {
   "cell_type": "code",
   "execution_count": 6,
   "id": "c708b6f3",
   "metadata": {},
   "outputs": [
    {
     "data": {
      "text/plain": [
       "True"
      ]
     },
     "execution_count": 6,
     "metadata": {},
     "output_type": "execute_result"
    }
   ],
   "source": [
    "sample_movie_details['id'].is_unique"
   ]
  },
  {
   "cell_type": "markdown",
   "id": "4433ef1f",
   "metadata": {},
   "source": [
    "## Generate embeddings"
   ]
  },
  {
   "cell_type": "code",
   "execution_count": 20,
   "id": "5e2b2607",
   "metadata": {},
   "outputs": [
    {
     "name": "stderr",
     "output_type": "stream",
     "text": [
      "C:\\Users\\Adham\\AppData\\Roaming\\Python\\Python312\\site-packages\\vertexai\\_model_garden\\_model_garden_models.py:278: UserWarning: This feature is deprecated as of June 24, 2025 and will be removed on June 24, 2026. For details, see https://cloud.google.com/vertex-ai/generative-ai/docs/deprecations/genai-vertexai-sdk.\n",
      "  warning_logs.show_deprecation_warning()\n"
     ]
    }
   ],
   "source": [
    "# Set vectorisers\n",
    "sparse_vectorizer = TfidfVectorizer()\n",
    "sparse_vectorizer.fit_transform(sample_movie_details['movie_details'])\n",
    "\n",
    "dense_vectorizer = TextEmbeddingModel.from_pretrained(\"text-embedding-005\")\n",
    "\n",
    "# Embedding methods\n",
    "def get_sparse_embedding(text):\n",
    "    '''Vectorises movie details using TF-IDF encoding'''\n",
    "    # Transform Text into TF-IDF Sparse Vector\n",
    "    tfidf_vector = sparse_vectorizer.transform([text])\n",
    "    # Convert to google embedding format\n",
    "    return {\"values\": list(tfidf_vector.data), \"dimensions\": list(tfidf_vector.indices)}\n",
    "\n",
    "def get_dense_embedding(text):\n",
    "    '''Wrapper for dense embedding method'''\n",
    "    return dense_vectorizer.get_embeddings([text])[0].values"
   ]
  },
  {
   "cell_type": "code",
   "execution_count": null,
   "id": "f88d6163",
   "metadata": {},
   "outputs": [],
   "source": [
    "from sklearn.feature_extraction.text import TfidfVectorizer\n",
    "\n",
    "class SparseVectorSet():\n",
    "    vectorizer = TfidfVectorizer()\n",
    "    \n",
    "    def __init__(self, corpus):\n",
    "        '''Vectorizes movie details using TF-IDF encoding'''\n",
    "        self.vectors = self.vectorizer.fit_transform(corpus)\n",
    "    \n",
    "    def similarity(self, other_vectors):\n",
    "        '''Calculates dot product similarity between two texts'''\n",
    "        return self.v.dot(other_vectors.vectors.T).toarray()[0][0]\n",
    "    \n",
    "    def to_json(self, vector):\n",
    "        '''Converts sparse vector to JSON format'''\n",
    "        return {\"values\": list(vector.data), \"dimensions\": list(vector.indices)}\n",
    "    \n",
    "    def __repr__(self):\n",
    "        return f'{self.vectors[0]}'\n",
    "        #SparseVector({len(self.values)} values: [{self.values[0:5].join(', ')}...], {len(self.dimensions)} dimensions: [{self.dimensions[0:5].join(', ')}...]\n"
   ]
  },
  {
   "cell_type": "code",
   "execution_count": 26,
   "id": "9b237952",
   "metadata": {},
   "outputs": [
    {
     "data": {
      "text/plain": [
       "'  (0, 6113)\\t0.05024573002612159\\n  (0, 543)\\t0.32777595575718965\\n  (0, 5033)\\t0.05024573002612159\\n  (0, 86)\\t0.2929482696544073\\n  (0, 6)\\t0.16915016490372892\\n  (0, 9)\\t0.1724642711464672\\n  (0, 2584)\\t0.05024573002612159\\n  (0, 431)\\t0.18254711673481253\\n  (0, 5938)\\t0.05024573002612159\\n  (0, 4130)\\t0.10950925385921373\\n  (0, 3395)\\t0.05024573002612159\\n  (0, 4413)\\t0.05024573002612159\\n  (0, 3774)\\t0.15945757937458863\\n  (0, 3228)\\t0.10224114453819809\\n  (0, 3665)\\t0.3074030654001747\\n  (0, 3069)\\t0.08020249732256808\\n  (0, 2902)\\t0.11576371075977117\\n  (0, 6176)\\t0.2929482696544073\\n  (0, 357)\\t0.32777595575718965\\n  (0, 2817)\\t0.13763658504368487\\n  (0, 1010)\\t0.2929482696544073\\n  (0, 706)\\t0.22024676906811827\\n  (0, 1242)\\t0.258120583551625\\n  (0, 6624)\\t0.10635713015823627\\n  (0, 443)\\t0.23372588891428564\\n  (0, 4559)\\t0.24211964335203198'"
      ]
     },
     "execution_count": 26,
     "metadata": {},
     "output_type": "execute_result"
    }
   ],
   "source": [
    "vectors = SparseVectorSet(sample_movie_details['movie_details'])\n",
    "f'{vectors.vectors[0]}'"
   ]
  },
  {
   "cell_type": "code",
   "execution_count": null,
   "id": "5c80e478",
   "metadata": {},
   "outputs": [
    {
     "data": {
      "text/plain": [
       "(dict_keys(['id', 'movie_details', 'sparse_embedding', 'embedding']),\n",
       " 768,\n",
       " 98,\n",
       " 98)"
      ]
     },
     "execution_count": 33,
     "metadata": {},
     "output_type": "execute_result"
    }
   ],
   "source": [
    "# Get vectorizers\n",
    "sparse_vectorizer = SparseVectorizer(sample_movie_details['movie_details'])\n",
    "dense_vectorizer = DenseVectorizer()\n",
    "\n",
    "# Generate embeddings\n",
    "sample_movie_details['sparse_embedding'] = sample_movie_details[\"movie_details\"].map(sparse_vectorizer.embed)\n",
    "sample_movie_details['embedding'] = sample_movie_details[\"movie_details\"].map(dense_vectorizer.embed)\n",
    "sample_movie_details.to_json(\"embeddings.json\", orient=\"records\", lines = True, force_ascii = False)"
   ]
  },
  {
   "cell_type": "markdown",
   "id": "67ed768f",
   "metadata": {},
   "source": [
    "## Save embeddings to cloud object storage"
   ]
  },
  {
   "cell_type": "code",
   "execution_count": 21,
   "id": "084a2f2b",
   "metadata": {},
   "outputs": [
    {
     "name": "stderr",
     "output_type": "stream",
     "text": [
      "Creating gs://synthetic-diode-459014-v9/...\n"
     ]
    }
   ],
   "source": [
    "# Create cloud bucket\n",
    "!gsutil mb -c standard -l europe-west1 $BUCKET_URI"
   ]
  },
  {
   "cell_type": "code",
   "execution_count": 45,
   "id": "6db45972",
   "metadata": {},
   "outputs": [
    {
     "name": "stderr",
     "output_type": "stream",
     "text": [
      "Copying file://embeddings.json [Content-Type=application/json]...\n",
      "/ [0 files][    0.0 B/  5.6 MiB]                                                \n",
      "-\n",
      "- [0 files][  2.8 MiB/  5.6 MiB]                                                \n",
      "\\\n",
      "\\ [1 files][  5.6 MiB/  5.6 MiB]                                                \n",
      "|\n",
      "\n",
      "Operation completed over 1 objects/5.6 MiB.                                      \n"
     ]
    }
   ],
   "source": [
    "# Upload file to bucket\n",
    "!gsutil cp embeddings.json $BUCKET_URI"
   ]
  },
  {
   "cell_type": "markdown",
   "id": "918e9a2b",
   "metadata": {},
   "source": [
    "## Create and deploy index"
   ]
  },
  {
   "cell_type": "code",
   "execution_count": null,
   "id": "2d16ce39",
   "metadata": {},
   "outputs": [],
   "source": [
    "# Create index endpoint\n",
    "my_index_endpoint = aiplatform.MatchingEngineIndexEndpoint.create(\n",
    "    display_name = INDEX_ENDPOINT_NAME, \n",
    "    public_endpoint_enabled = True\n",
    ")"
   ]
  },
  {
   "cell_type": "code",
   "execution_count": null,
   "id": "22a9ae65",
   "metadata": {},
   "outputs": [
    {
     "name": "stdout",
     "output_type": "stream",
     "text": [
      "Creating MatchingEngineIndex\n",
      "Create MatchingEngineIndex backing LRO: projects/128273250653/locations/europe-west1/indexes/4006963419243610112/operations/5719318364208234496\n",
      "MatchingEngineIndex created. Resource name: projects/128273250653/locations/europe-west1/indexes/4006963419243610112\n",
      "To use this MatchingEngineIndex in another session:\n",
      "index = aiplatform.MatchingEngineIndex('projects/128273250653/locations/europe-west1/indexes/4006963419243610112')\n"
     ]
    }
   ],
   "source": [
    "# Create index\n",
    "my_index = aiplatform.MatchingEngineIndex.create_tree_ah_index(\n",
    "    display_name = INDEX_NAME,\n",
    "    contents_delta_uri = BUCKET_URI,\n",
    "    dimensions = 768,\n",
    "    approximate_neighbors_count = 10,\n",
    ")"
   ]
  },
  {
   "cell_type": "code",
   "execution_count": null,
   "id": "0d7dd3c4",
   "metadata": {},
   "outputs": [
    {
     "name": "stdout",
     "output_type": "stream",
     "text": [
      "Deploying index MatchingEngineIndexEndpoint index_endpoint: projects/128273250653/locations/europe-west1/indexEndpoints/5309946270809325568\n"
     ]
    },
    {
     "name": "stdout",
     "output_type": "stream",
     "text": [
      "Deploy index MatchingEngineIndexEndpoint index_endpoint backing LRO: projects/128273250653/locations/europe-west1/indexEndpoints/5309946270809325568/operations/8448921950859821056\n",
      "MatchingEngineIndexEndpoint index_endpoint Deployed index. Resource name: projects/128273250653/locations/europe-west1/indexEndpoints/5309946270809325568\n"
     ]
    },
    {
     "data": {
      "text/plain": [
       "<google.cloud.aiplatform.matching_engine.matching_engine_index_endpoint.MatchingEngineIndexEndpoint object at 0x0000025803111370> \n",
       "resource name: projects/128273250653/locations/europe-west1/indexEndpoints/5309946270809325568"
      ]
     },
     "execution_count": 55,
     "metadata": {},
     "output_type": "execute_result"
    }
   ],
   "source": [
    "# Deploy index to endpoint\n",
    "my_index_endpoint.deploy_index(\n",
    "    index = my_index,\n",
    "    deployed_index_display_name = DEPLOYED_INDEX_NAME,\n",
    "    deployed_index_id = f\"{DEPLOYED_INDEX_NAME}-{UID}\"\n",
    ")"
   ]
  },
  {
   "cell_type": "markdown",
   "id": "6a4ef134",
   "metadata": {},
   "source": [
    "## Query index endpoint"
   ]
  },
  {
   "cell_type": "code",
   "execution_count": 74,
   "id": "cce35099",
   "metadata": {},
   "outputs": [
    {
     "data": {
      "application/vnd.microsoft.datawrangler.viewer.v0+json": {
       "columns": [
        {
         "name": "id",
         "rawType": "int64",
         "type": "integer"
        },
        {
         "name": "title",
         "rawType": "object",
         "type": "string"
        },
        {
         "name": "vote_average",
         "rawType": "float64",
         "type": "float"
        },
        {
         "name": "vote_count",
         "rawType": "int64",
         "type": "integer"
        },
        {
         "name": "release_date",
         "rawType": "object",
         "type": "string"
        },
        {
         "name": "overview",
         "rawType": "object",
         "type": "string"
        },
        {
         "name": "popularity",
         "rawType": "float64",
         "type": "float"
        },
        {
         "name": "tagline",
         "rawType": "object",
         "type": "unknown"
        },
        {
         "name": "genres",
         "rawType": "object",
         "type": "unknown"
        },
        {
         "name": "production_companies",
         "rawType": "object",
         "type": "unknown"
        },
        {
         "name": "keywords",
         "rawType": "object",
         "type": "unknown"
        },
        {
         "name": "movie_details",
         "rawType": "object",
         "type": "string"
        }
       ],
       "ref": "fd50bbe1-6819-4b92-ac5d-e9ff32844916",
       "rows": [
        [
         "294176",
         "Zwei Seiten der Liebe",
         "5.0",
         "1",
         "2002-09-13",
         "Carola and Dieter Martin have been married for 25 years. After Dieter dies in a car accident, Carola finds out that he was gay and had been in a relationship with the much younger lawyer Tobias Volperius for six years. Deeply shaken by this discovery, she withdraws from the outside world and tries to drown her sorrow in alcohol. When she attempts suicide, it is Tobias who finds and saves her. As a result, the two become friends, and Tobias is able to help Carola save her late husband's furniture business, which has been run down by fraudulent proxy Viktor Lipinski and is about to be taken over by another company.",
         "0.6",
         null,
         "Romance, Drama, TV Movie",
         "ARD",
         null,
         "title: Zwei Seiten der Liebe release_date: 2002-09-13 genres: Romance, Drama, TV Movie tagline: NA keywords: NA overview: Carola and Dieter Martin have been married for 25 years. After Dieter dies in a car accident, Carola finds out that he was gay and had been in a relationship with the much younger lawyer Tobias Volperius for six years. Deeply shaken by this discovery, she withdraws from the outside world and tries to drown her sorrow in alcohol. When she attempts suicide, it is Tobias who finds and saves her. As a result, the two become friends, and Tobias is able to help Carola save her late husband's furniture business, which has been run down by fraudulent proxy Viktor Lipinski and is about to be taken over by another company."
        ],
        [
         "493621",
         "Blood Circus",
         "6.0",
         "2",
         "2017-12-19",
         "A retired MMA world champion gets caught up in an underground fight club called the \"Blood Circus\" and must fight to survive and save his family.",
         "4.325",
         null,
         "Action, Thriller",
         "DTLA Entertainment Group, LLC, Octane Entertainment",
         null,
         "title: Blood Circus release_date: 2017-12-19 genres: Action, Thriller tagline: NA keywords: NA overview: A retired MMA world champion gets caught up in an underground fight club called the \"Blood Circus\" and must fight to survive and save his family."
        ],
        [
         "812289",
         "A Fistful of Barrels",
         "0.0",
         "0",
         "2006-01-02",
         "A FISTFUL OF BARRELS is the first surf film of its kind...it wont be the last!  Seven Films Presents A FISTFUL OF BARRELS  SOMEWHERE IN MEXICO...The ASP held the Rip Curl Search WCT  SOMEWHERE IN MEXICO...The best swell in ten years served up perfect 6-8 foot barrels for the 44 best surfers in the world.  SOMEWHERE IN MEXICO...This wave awaits you!",
         "0.859",
         null,
         null,
         "Seven Films",
         null,
         "title: A Fistful of Barrels release_date: 2006-01-02 genres: NA tagline: NA keywords: NA overview: A FISTFUL OF BARRELS is the first surf film of its kind...it wont be the last!  Seven Films Presents A FISTFUL OF BARRELS  SOMEWHERE IN MEXICO...The ASP held the Rip Curl Search WCT  SOMEWHERE IN MEXICO...The best swell in ten years served up perfect 6-8 foot barrels for the 44 best surfers in the world.  SOMEWHERE IN MEXICO...This wave awaits you!"
        ],
        [
         "225175",
         "Aquila Nera",
         "6.55",
         "10",
         "1946-09-21",
         "An evil Czarist landowner had mistreated the father and friends of an officer.The officer wreaks vengeance by committing masked coach robberies and insinuates himself into his enemy's castle by pretending to be a French teacher.",
         "1.301",
         null,
         "Romance, Adventure",
         "Lux Film",
         null,
         "title: Aquila Nera release_date: 1946-09-21 genres: Romance, Adventure tagline: NA keywords: NA overview: An evil Czarist landowner had mistreated the father and friends of an officer.The officer wreaks vengeance by committing masked coach robberies and insinuates himself into his enemy's castle by pretending to be a French teacher."
        ],
        [
         "652722",
         "In the Arms of an Assassin",
         "7.98",
         "348",
         "2019-12-06",
         "Victor (William Levy) is one of the world’s most handsome  men, but he has a deep secret – he is a cold blooded assassin. Smooth talking and seductive, Victor was raised to do one thing only, which is to kill for money. When he is sent to the home of a brutal drug lord to collect payment for his most recent hit, he encounters the beautiful Sarai (Alicia Sanz), who has been forced to spend the last 9 years of her life with the drug lord.",
         "17.049",
         null,
         "Romance, Thriller",
         null,
         null,
         "title: In the Arms of an Assassin release_date: 2019-12-06 genres: Romance, Thriller tagline: NA keywords: NA overview: Victor (William Levy) is one of the world’s most handsome  men, but he has a deep secret – he is a cold blooded assassin. Smooth talking and seductive, Victor was raised to do one thing only, which is to kill for money. When he is sent to the home of a brutal drug lord to collect payment for his most recent hit, he encounters the beautiful Sarai (Alicia Sanz), who has been forced to spend the last 9 years of her life with the drug lord."
        ],
        [
         "34420",
         "Wrong Rosary",
         "7.0",
         "22",
         "2009-10-09",
         "Muezzin Musa falls for his neighbor, the Catholic nurse Clara. The story gets even more exceptional when Musa meets Yakup, who turns out to be connected with Clara.",
         "1.389",
         null,
         "Drama",
         "Hokusfokus Film",
         null,
         "title: Wrong Rosary release_date: 2009-10-09 genres: Drama tagline: NA keywords: NA overview: Muezzin Musa falls for his neighbor, the Catholic nurse Clara. The story gets even more exceptional when Musa meets Yakup, who turns out to be connected with Clara."
        ],
        [
         "1157783",
         "Orange Lipstick",
         "0.0",
         "0",
         "2017-03-05",
         "An exhausted working mom takes one night off from her daily routine to reclaim her youth.",
         "0.6",
         "Don't lose you",
         "Comedy, Drama",
         "EBM Productions",
         "short film",
         "title: Orange Lipstick release_date: 2017-03-05 genres: Comedy, Drama tagline: Don't lose you keywords: short film overview: An exhausted working mom takes one night off from her daily routine to reclaim her youth."
        ],
        [
         "1235323",
         "Poquelin",
         "0.0",
         "0",
         "2022-01-14",
         "5 little stories, all told with Molière’s words",
         "0.6",
         "Is death really the end of an artist ?",
         "Comedy, Drama, History",
         null,
         null,
         "title: Poquelin release_date: 2022-01-14 genres: Comedy, Drama, History tagline: Is death really the end of an artist ? keywords: NA overview: 5 little stories, all told with Molière’s words"
        ],
        [
         "182925",
         "Suddenly It's Spring",
         "4.0",
         "3",
         "1947-02-13",
         "A WAC officer returns from the war to find her husband wants a divorce.",
         "1.376",
         "Macdonald Carey's got a line...and a million bucks to bait it with!",
         "Comedy, Romance",
         "Paramount",
         "screwball comedy, wac, signature, ski club",
         "title: Suddenly It's Spring release_date: 1947-02-13 genres: Comedy, Romance tagline: Macdonald Carey's got a line...and a million bucks to bait it with! keywords: screwball comedy, wac, signature, ski club overview: A WAC officer returns from the war to find her husband wants a divorce."
        ],
        [
         "277695",
         "The Boys of Cellblock Q",
         "3.5",
         "2",
         "1992-07-01",
         "The Boys of Cellblock Q is set within the bowels of the Sunnyvale Labor Farm. Without the presence of women, the prisoners indulge in regular trysts with one another, make full use out of the jail's supply of priests, turn the eyes several policemen, and help a young convict learn the ins and outs of the prison community.",
         "0.844",
         "They locked them up, but they couldn't make them go straight!",
         "Drama, Comedy",
         "Out & About Pictures",
         null,
         "title: The Boys of Cellblock Q release_date: 1992-07-01 genres: Drama, Comedy tagline: They locked them up, but they couldn't make them go straight! keywords: NA overview: The Boys of Cellblock Q is set within the bowels of the Sunnyvale Labor Farm. Without the presence of women, the prisoners indulge in regular trysts with one another, make full use out of the jail's supply of priests, turn the eyes several policemen, and help a young convict learn the ins and outs of the prison community."
        ],
        [
         "663409",
         "The Hike",
         "0.0",
         "0",
         "2011-06-23",
         "Four friends. Two couples. A planned hike in the wilderness. Sometimes things don't go as planned.",
         "0.6",
         null,
         null,
         null,
         null,
         "title: The Hike release_date: 2011-06-23 genres: NA tagline: NA keywords: NA overview: Four friends. Two couples. A planned hike in the wilderness. Sometimes things don't go as planned."
        ],
        [
         "946404",
         "Why Sausage is Cut at an Angle?",
         "0.0",
         "0",
         "2018-12-08",
         "A fictional story with elements of humor, which introduces the viewer to a rather unusual version of the origin of the well-known fact. Cutting sausage at an angle - this is what we are talking about. Why is everyone used to cutting it just one way or another?",
         "0.6",
         null,
         "Animation",
         "Kyiv National I. K. Karpenko-Karyi Theatre, Cinema and Television University",
         null,
         "title: Why Sausage is Cut at an Angle? release_date: 2018-12-08 genres: Animation tagline: NA keywords: NA overview: A fictional story with elements of humor, which introduces the viewer to a rather unusual version of the origin of the well-known fact. Cutting sausage at an angle - this is what we are talking about. Why is everyone used to cutting it just one way or another?"
        ],
        [
         "1111839",
         "The Homeland",
         "0.0",
         "0",
         "1923-02-25",
         "A Japanese silent drama about two farmers",
         "0.6",
         null,
         "Drama",
         "Nikkatsu-Mukôjima",
         null,
         "title: The Homeland release_date: 1923-02-25 genres: Drama tagline: NA keywords: NA overview: A Japanese silent drama about two farmers"
        ],
        [
         "642785",
         "Una furtiva lagrima",
         "0.0",
         "0",
         "2000-01-01",
         "A music video for opera singer Izzy.",
         "0.6",
         null,
         null,
         null,
         null,
         "title: Una furtiva lagrima release_date: 2000-01-01 genres: NA tagline: NA keywords: NA overview: A music video for opera singer Izzy."
        ],
        [
         "703536",
         "For One More Day",
         "0.0",
         "0",
         "2016-01-01",
         "A group of young people having a dinner together, during which they shared their personal experiences and played them out through a game.",
         "0.6",
         null,
         "Drama",
         null,
         null,
         "title: For One More Day release_date: 2016-01-01 genres: Drama tagline: NA keywords: NA overview: A group of young people having a dinner together, during which they shared their personal experiences and played them out through a game."
        ],
        [
         "827797",
         "Lady of the Lake",
         "0.0",
         "0",
         "1974-01-01",
         "Made by Bill and Louise Etra with the Rutt/Etra Video Synthesizer in 1974. \"A short piece of Gothic horror.\"",
         "0.6",
         null,
         "Horror",
         null,
         null,
         "title: Lady of the Lake release_date: 1974-01-01 genres: Horror tagline: NA keywords: NA overview: Made by Bill and Louise Etra with the Rutt/Etra Video Synthesizer in 1974. \"A short piece of Gothic horror.\""
        ],
        [
         "1449062",
         "François About parle du Beau Mec",
         "0.0",
         "0",
         "2024-11-12",
         "François About talks about the movie Le Beau Mec, directed in 1979 by Wallace Potts for which he was cinematographer.",
         "0.6",
         null,
         null,
         null,
         null,
         "title: François About parle du Beau Mec release_date: 2024-11-12 genres: NA tagline: NA keywords: NA overview: François About talks about the movie Le Beau Mec, directed in 1979 by Wallace Potts for which he was cinematographer."
        ],
        [
         "76811",
         "Blind Beast vs Dwarf Killer",
         "3.727",
         "11",
         "2001-06-24",
         "A blind masseur kidnaps young women and kills them and then make sculptures of them, while a mysterious dwarf spreading severed body parts around. Detective Akechi Kogorô investigating crimes.",
         "1.675",
         null,
         null,
         null,
         null,
         "title: Blind Beast vs Dwarf Killer release_date: 2001-06-24 genres: NA tagline: NA keywords: NA overview: A blind masseur kidnaps young women and kills them and then make sculptures of them, while a mysterious dwarf spreading severed body parts around. Detective Akechi Kogorô investigating crimes."
        ],
        [
         "471788",
         "Los pajaritos",
         "5.0",
         "1",
         "1983-01-04",
         "An accordion player moves to Madrid when tourist season ends in Benidorm",
         "0.6",
         null,
         "Comedy",
         null,
         null,
         "title: Los pajaritos release_date: 1983-01-04 genres: Comedy tagline: NA keywords: NA overview: An accordion player moves to Madrid when tourist season ends in Benidorm"
        ],
        [
         "1386192",
         "Rock & Roll",
         "0.0",
         "0",
         "2019-05-27",
         "Johnny Ghost is an aspiring rock star, who wakes up just before his make or break gig is about to start. However, due to surreal circumstances, he struggles to leave his home.",
         "0.6",
         "Sex, drugs and existential self-deprecation.",
         "Comedy, Music, Fantasy",
         "Swynnerton Pictures",
         "dark comedy, surreal, rock music, black and white, deadpan comedy, music, rock-and-roll, comedy",
         "title: Rock & Roll release_date: 2019-05-27 genres: Comedy, Music, Fantasy tagline: Sex, drugs and existential self-deprecation. keywords: dark comedy, surreal, rock music, black and white, deadpan comedy, music, rock-and-roll, comedy overview: Johnny Ghost is an aspiring rock star, who wakes up just before his make or break gig is about to start. However, due to surreal circumstances, he struggles to leave his home."
        ],
        [
         "170975",
         "The Saint and Her Fool",
         "0.0",
         "0",
         "1928-10-03",
         "Agnes Günther’s heart-rending fairy tale dazzled turn-of-the-century German audiences and sold hundreds of thousands of copies before being adapted into this tale of timeless passion, the beautiful The Saint and the Fool. The unapologetically sentimental classic was directed by Wilhelm Dieterle, who launched a successful career in Weimar cinema before becoming known for romantic, lush melodramas and technicolor extravaganzas, including 1945′s Marlene Dietrich unforgettable Love Letters. The dashing Dieterle himself plays Harrogate, Earl of Torstein, whose star-crossed love for the luminous Rosemarie of Brauneck (Lien Deyers, discovered by Fritz Lang) is further doomed by royal heroes and villains, the requisite evil stepmother, and fantastical elements that channel the intoxicating romance of Camille through the magic of the Brothers Grimm.",
         "0.6",
         null,
         "Romance, Drama",
         "Deutsche Film-Union AG (Defu) (Berlin)",
         null,
         "title: The Saint and Her Fool release_date: 1928-10-03 genres: Romance, Drama tagline: NA keywords: NA overview: Agnes Günther’s heart-rending fairy tale dazzled turn-of-the-century German audiences and sold hundreds of thousands of copies before being adapted into this tale of timeless passion, the beautiful The Saint and the Fool. The unapologetically sentimental classic was directed by Wilhelm Dieterle, who launched a successful career in Weimar cinema before becoming known for romantic, lush melodramas and technicolor extravaganzas, including 1945′s Marlene Dietrich unforgettable Love Letters. The dashing Dieterle himself plays Harrogate, Earl of Torstein, whose star-crossed love for the luminous Rosemarie of Brauneck (Lien Deyers, discovered by Fritz Lang) is further doomed by royal heroes and villains, the requisite evil stepmother, and fantastical elements that channel the intoxicating romance of Camille through the magic of the Brothers Grimm."
        ],
        [
         "942526",
         "100 nen gohan",
         "0.0",
         "0",
         "2014-05-14",
         "Documentary of the Usuki Soil Cultivation Center, pioneers in organic farming in Japan",
         "0.6",
         null,
         "Documentary",
         null,
         null,
         "title: 100 nen gohan release_date: 2014-05-14 genres: Documentary tagline: NA keywords: NA overview: Documentary of the Usuki Soil Cultivation Center, pioneers in organic farming in Japan"
        ],
        [
         "184205",
         "Dead on Sight",
         "5.1",
         "4",
         "1994-10-12",
         "A graduate student discovers her nightmares are actually visions of real-life murders committed by a man known as the Clock Killer. Joined by an unbelieving detective, she decides she must stop the killer herself, or become his next victim.",
         "1.208",
         "Her worst nightmares have just come true",
         "Mystery, Thriller",
         "MCEG/Sterling Entertainment",
         null,
         "title: Dead on Sight release_date: 1994-10-12 genres: Mystery, Thriller tagline: Her worst nightmares have just come true keywords: NA overview: A graduate student discovers her nightmares are actually visions of real-life murders committed by a man known as the Clock Killer. Joined by an unbelieving detective, she decides she must stop the killer herself, or become his next victim."
        ],
        [
         "620284",
         "Geek, and You Shall Find",
         "5.5",
         "2",
         "2019-07-23",
         "After attending a local comic book convention, three filmmakers are so moved by the stories shared with them by cosplayers that they decide to investigate geek culture even further. Attending other conventions across the country and speaking with legendary creators such as Kevin Eastman, Stan Lee and George R.R. Martin, the trio not only begins to find answers to why people gravitate towards superheroes and stories about superheroes, but how being a geek could help them live deeper, richer lives. Geek, and You Shall Find tells the stories behind the creation of several popular stories including Superman, Star Wars, Game of Thrones and the Teenage Mutant Ninja Turtles. In sharing how these characters and their worlds came to be, creators reveal how often they have been inspired by real-life social ills. Most importantly, by continuing to speak with fans who have been inspired by these creations, this film reveals how superheroes have the potential to combat these social issues as well.",
         "1.148",
         null,
         "Documentary",
         null,
         "superhero, comic-con, cosplay",
         "title: Geek, and You Shall Find release_date: 2019-07-23 genres: Documentary tagline: NA keywords: superhero, comic-con, cosplay overview: After attending a local comic book convention, three filmmakers are so moved by the stories shared with them by cosplayers that they decide to investigate geek culture even further. Attending other conventions across the country and speaking with legendary creators such as Kevin Eastman, Stan Lee and George R.R. Martin, the trio not only begins to find answers to why people gravitate towards superheroes and stories about superheroes, but how being a geek could help them live deeper, richer lives. Geek, and You Shall Find tells the stories behind the creation of several popular stories including Superman, Star Wars, Game of Thrones and the Teenage Mutant Ninja Turtles. In sharing how these characters and their worlds came to be, creators reveal how often they have been inspired by real-life social ills. Most importantly, by continuing to speak with fans who have been inspired by these creations, this film reveals how superheroes have the potential to combat these social issues as well."
        ],
        [
         "76972",
         "Thoranai",
         "4.7",
         "11",
         "2009-05-29",
         "A man comes to Chennai with a mission to find his brother, who had run away from his house about two decades ago. But a series of events make them both a part of unexpected happenings.",
         "1.874",
         null,
         "Action, Drama",
         "GK Film Corporation",
         null,
         "title: Thoranai release_date: 2009-05-29 genres: Action, Drama tagline: NA keywords: NA overview: A man comes to Chennai with a mission to find his brother, who had run away from his house about two decades ago. But a series of events make them both a part of unexpected happenings."
        ],
        [
         "707269",
         "Swimmer",
         "6.0",
         "4",
         "2020-01-25",
         "A car belonging to a suspected hit-and-run driver has been spotted outside a swimming pool complex and the police are there to arrest the fugitive.",
         "0.6",
         null,
         "Comedy",
         "French Quarter Film, SVT",
         "based on true story, hit-and-run, swimming pool, awkward situation",
         "title: Swimmer release_date: 2020-01-25 genres: Comedy tagline: NA keywords: based on true story, hit-and-run, swimming pool, awkward situation overview: A car belonging to a suspected hit-and-run driver has been spotted outside a swimming pool complex and the police are there to arrest the fugitive."
        ],
        [
         "717707",
         "Margins",
         "0.0",
         "0",
         "2007-01-01",
         "This short animated film looks at the relationship between social spaces and taboos surrounding mental illness and other forms of marginalization. The film is intended as a mood piece, a chance encounter between a lone figure and an indifferent crowd. This film was made as part of the fourth edition of the NFB's Hothouse apprenticeship.",
         "0.6",
         null,
         "Animation",
         "ONF | NFB",
         "mental illness",
         "title: Margins release_date: 2007-01-01 genres: Animation tagline: NA keywords: mental illness overview: This short animated film looks at the relationship between social spaces and taboos surrounding mental illness and other forms of marginalization. The film is intended as a mood piece, a chance encounter between a lone figure and an indifferent crowd. This film was made as part of the fourth edition of the NFB's Hothouse apprenticeship."
        ],
        [
         "546675",
         "The Inherent Traits of Connor James",
         "0.0",
         "0",
         "2018-06-23",
         "A dark dramedy that follows Lea and Court Matheson, a happily-married lesbian couple, and their three-year-old son as they return to Lea's hometown to attend the funeral of her best friend from high school. The deceased, Connor James, also happens to be Lea's sperm donor and when his family discovers that the Matheson's little boy is biologically related to them, they decide they'll go to any lengths to keep him in their lives.",
         "0.634",
         "Dysfunction is a dominant gene.",
         null,
         null,
         null,
         "title: The Inherent Traits of Connor James release_date: 2018-06-23 genres: NA tagline: Dysfunction is a dominant gene. keywords: NA overview: A dark dramedy that follows Lea and Court Matheson, a happily-married lesbian couple, and their three-year-old son as they return to Lea's hometown to attend the funeral of her best friend from high school. The deceased, Connor James, also happens to be Lea's sperm donor and when his family discovers that the Matheson's little boy is biologically related to them, they decide they'll go to any lengths to keep him in their lives."
        ],
        [
         "1338802",
         "Romeo and Juliet",
         "0.0",
         "0",
         "1967-03-12",
         "BBC Play of the Month adaptation of Shakespeare's tragic love story.",
         "1.4",
         null,
         "Romance, Drama, TV Movie",
         "BBC",
         null,
         "title: Romeo and Juliet release_date: 1967-03-12 genres: Romance, Drama, TV Movie tagline: NA keywords: NA overview: BBC Play of the Month adaptation of Shakespeare's tragic love story."
        ],
        [
         "302129",
         "Babla",
         "0.0",
         "0",
         "1951-12-01",
         "Paresh Bannerjee, Naren Bhattacharya and Nibhanani Devi",
         "0.6",
         null,
         null,
         null,
         null,
         "title: Babla release_date: 1951-12-01 genres: NA tagline: NA keywords: NA overview: Paresh Bannerjee, Naren Bhattacharya and Nibhanani Devi"
        ],
        [
         "439562",
         "The Book of Birdie",
         "2.7",
         "5",
         "2017-01-30",
         "When, Birdie, fragile teenager with an overactive imagination is placed in an isolated Midwestern convent on the brink of closure, her strange and in some cases grotesque obsessions begin to consume her attention. Outside life beckons when she meets Julia, the confident, spirited maintenance girl, inspiring a growing infatuation. But privately, Birdie can’t turn away from her fascination with the gory and whimsical hallucinations that plague her. Birdie sets off on her spiritual quest to discover if the source of her visions is something saintly or a dark heresy. The convent itself holds ghosts of nuns who’ve met untimely deaths. Are they calling Birdie to the same fate?",
         "0.776",
         "Beautiful is the Blood.",
         "Fantasy",
         null,
         null,
         "title: The Book of Birdie release_date: 2017-01-30 genres: Fantasy tagline: Beautiful is the Blood. keywords: NA overview: When, Birdie, fragile teenager with an overactive imagination is placed in an isolated Midwestern convent on the brink of closure, her strange and in some cases grotesque obsessions begin to consume her attention. Outside life beckons when she meets Julia, the confident, spirited maintenance girl, inspiring a growing infatuation. But privately, Birdie can’t turn away from her fascination with the gory and whimsical hallucinations that plague her. Birdie sets off on her spiritual quest to discover if the source of her visions is something saintly or a dark heresy. The convent itself holds ghosts of nuns who’ve met untimely deaths. Are they calling Birdie to the same fate?"
        ],
        [
         "569025",
         "Fitzgerald",
         "0.0",
         "0",
         "2017-05-12",
         "When world famous photographer Phil Fitzgerald encounters a mysterious woman from his past, his life is changed forever.",
         "0.6",
         "Photos. Family. Baklava.",
         "Drama",
         "Buffalo and Mustang Studios",
         "photography, father, family drama",
         "title: Fitzgerald release_date: 2017-05-12 genres: Drama tagline: Photos. Family. Baklava. keywords: photography, father, family drama overview: When world famous photographer Phil Fitzgerald encounters a mysterious woman from his past, his life is changed forever."
        ],
        [
         "505320",
         "David Macaulay: Roman City",
         "0.0",
         "0",
         "1994-02-15",
         "The glories of Ancient Rome are explored in ROMAN CITY, based on David Macaulay's acclaimed book. This animated and live-action video recounts life in Verbonia, a fictional city in Gaul.  A well-planned town with all modern conveniences, it is threatened by conflict between conquerors and conquered. Macaulay also visits Pompeii, Herculaneum, Ostia, Nimes, Orange, and Rome, to view actual Roman architecture and engineering greatness.",
         "0.962",
         null,
         "Documentary, History",
         "Unicorn Projects",
         "ancient rome",
         "title: David Macaulay: Roman City release_date: 1994-02-15 genres: Documentary, History tagline: NA keywords: ancient rome overview: The glories of Ancient Rome are explored in ROMAN CITY, based on David Macaulay's acclaimed book. This animated and live-action video recounts life in Verbonia, a fictional city in Gaul.  A well-planned town with all modern conveniences, it is threatened by conflict between conquerors and conquered. Macaulay also visits Pompeii, Herculaneum, Ostia, Nimes, Orange, and Rome, to view actual Roman architecture and engineering greatness."
        ],
        [
         "1111384",
         "Gorilla Ball",
         "0.0",
         "0",
         "1968-01-01",
         "Animated film produced by Zagreb Film",
         "0.6",
         null,
         "Animation",
         null,
         null,
         "title: Gorilla Ball release_date: 1968-01-01 genres: Animation tagline: NA keywords: NA overview: Animated film produced by Zagreb Film"
        ],
        [
         "1038412",
         "A Woman With an Impeccable Image",
         "0.0",
         "0",
         "2022-10-10",
         "Friends and relatives call Lydia Sokolova-Serbskaya a woman with an impeccable image. She visits salons, lectures on fashion, carefully selects outfits, and is proud of her pedigree. In public, the woman is smiling and friendly, she reads poetry with her poet husband, talks about high things, but if you look closely, it turns out that everything is far from being so attractive. What kind of person is really under bright hats and what does the approval of the society in which she is worth to a woman?",
         "0.6",
         null,
         "Documentary",
         null,
         null,
         "title: A Woman With an Impeccable Image release_date: 2022-10-10 genres: Documentary tagline: NA keywords: NA overview: Friends and relatives call Lydia Sokolova-Serbskaya a woman with an impeccable image. She visits salons, lectures on fashion, carefully selects outfits, and is proud of her pedigree. In public, the woman is smiling and friendly, she reads poetry with her poet husband, talks about high things, but if you look closely, it turns out that everything is far from being so attractive. What kind of person is really under bright hats and what does the approval of the society in which she is worth to a woman?"
        ],
        [
         "792141",
         "Broken Pines",
         "0.0",
         "0",
         "2013-01-01",
         "The mundane life of Rita, a nurse and a single mum, changes when she sets eyes on a young photographer named Ernest. Meanwhile, an unexpected encounter with her ex-husband and the father of her child brings back hopes and desires of the past that challenge Rita’s true feelings.",
         "0.6",
         null,
         null,
         "Tasse Film, Latvijas Kultūras akadēmija",
         null,
         "title: Broken Pines release_date: 2013-01-01 genres: NA tagline: NA keywords: NA overview: The mundane life of Rita, a nurse and a single mum, changes when she sets eyes on a young photographer named Ernest. Meanwhile, an unexpected encounter with her ex-husband and the father of her child brings back hopes and desires of the past that challenge Rita’s true feelings."
        ],
        [
         "255406",
         "The Omen Legacy",
         "7.0",
         "4",
         "2001-10-30",
         "The true stories that spawned the eerie tale of Damien, a small boy with an angelic face, whose very name still conjures up thoughts of Satan. This documentary shares spine-tingling information about the the all-too-memorable flick that has terrorized film audiences since 1976.",
         "0.782",
         null,
         "Documentary",
         null,
         null,
         "title: The Omen Legacy release_date: 2001-10-30 genres: Documentary tagline: NA keywords: NA overview: The true stories that spawned the eerie tale of Damien, a small boy with an angelic face, whose very name still conjures up thoughts of Satan. This documentary shares spine-tingling information about the the all-too-memorable flick that has terrorized film audiences since 1976."
        ],
        [
         "311095",
         "Queens of the Stone Age Live at Lollapalooza 2013",
         "0.0",
         "0",
         "2013-08-31",
         "Queens of the stone age live at Lollapalooza 2013",
         "1.094",
         null,
         "Music",
         null,
         null,
         "title: Queens of the Stone Age Live at Lollapalooza 2013 release_date: 2013-08-31 genres: Music tagline: NA keywords: NA overview: Queens of the stone age live at Lollapalooza 2013"
        ],
        [
         "824180",
         "The Haka",
         "10.0",
         "1",
         "2021-04-26",
         "Based on the classic 'Football at Christmas' with a kiwi spin.",
         "0.6",
         null,
         null,
         null,
         null,
         "title: The Haka release_date: 2021-04-26 genres: NA tagline: NA keywords: NA overview: Based on the classic 'Football at Christmas' with a kiwi spin."
        ],
        [
         "1009079",
         "Robert Bresson: The Falls",
         "0.0",
         "0",
         "2019-11-22",
         "From «Les affaires publiques» to «L’ Argent».  The first film of Robert Bresson (“Les Affaires publiques”) reminds us of classic silent comedies with visual tricks and falls that aim to make the audience laugh.  Bresson never shot a comedy again. However, he kept portraying falling people and objects – now intending to provoke other feelings and thoughts.",
         "0.6",
         null,
         null,
         null,
         null,
         "title: Robert Bresson: The Falls release_date: 2019-11-22 genres: NA tagline: NA keywords: NA overview: From «Les affaires publiques» to «L’ Argent».  The first film of Robert Bresson (“Les Affaires publiques”) reminds us of classic silent comedies with visual tricks and falls that aim to make the audience laugh.  Bresson never shot a comedy again. However, he kept portraying falling people and objects – now intending to provoke other feelings and thoughts."
        ],
        [
         "1197347",
         "Digest Diversity",
         "0.0",
         "0",
         "2023-11-01",
         "Experimental short-film made by brazilian students about the trópicalia and cinema novo movement. The narrative revolves around the song Géleia Geral from the album Tropicália ou Panis Et Circensis and also around the political, artistical and social time from that period.",
         "3.842",
         "WHAT FEEDS YOU?",
         "Documentary",
         "Coletivo Marginal",
         "cinema novo, documentary, experimental, film student, documentary film",
         "title: Digest Diversity release_date: 2023-11-01 genres: Documentary tagline: WHAT FEEDS YOU? keywords: cinema novo, documentary, experimental, film student, documentary film overview: Experimental short-film made by brazilian students about the trópicalia and cinema novo movement. The narrative revolves around the song Géleia Geral from the album Tropicália ou Panis Et Circensis and also around the political, artistical and social time from that period."
        ],
        [
         "829647",
         "Tears",
         "0.0",
         "0",
         "2012-09-27",
         "Four stories are united by overlapping characters and tell about dramatic situations in the life of ordinary people, three of which lead to suicide attempts.",
         "0.6",
         null,
         "Crime, Drama",
         "Darkhan Pro Studio",
         null,
         "title: Tears release_date: 2012-09-27 genres: Crime, Drama tagline: NA keywords: NA overview: Four stories are united by overlapping characters and tell about dramatic situations in the life of ordinary people, three of which lead to suicide attempts."
        ],
        [
         "788058",
         "Der Tankwart",
         "0.0",
         "0",
         "1991-01-01",
         "A petrol pump attendant falls in love with a waitress of the service station restaurant. He manages to get the relationship started and even goes as far as buying her a new pair of shoes, but in the end fails to win her heart.",
         "0.6",
         null,
         "Romance",
         "Hochschule für Musik und darstellende Kunst, Wien",
         null,
         "title: Der Tankwart release_date: 1991-01-01 genres: Romance tagline: NA keywords: NA overview: A petrol pump attendant falls in love with a waitress of the service station restaurant. He manages to get the relationship started and even goes as far as buying her a new pair of shoes, but in the end fails to win her heart."
        ],
        [
         "992506",
         "Country Music: Live at the Ryman",
         "10.0",
         "1",
         "2019-09-08",
         "Celebrated musicians perform at Nashville's Ryman Auditorium in anticipation of the soon-to-be-released \"Country Music\" documentary series by Ken Burns. Burns, plus some of his colleagues and some musicians, act as hosts and provide a brief history of country music as they introduce each act and show sneak peek excerpts from the series in between the live performances. Many of the musicians that appear in the documentary perform to demonstrate various country music styles including Dierks Bentley, Rosanne Cash, Ketch Secor, Rhiannon Giddens, Vince Gill, Kathy Mattea, Marty Stuart, Dwight Yoakam, and more.",
         "0.6",
         "Country Music: Live at the Ryman",
         "Music",
         "Florentine Films",
         null,
         "title: Country Music: Live at the Ryman release_date: 2019-09-08 genres: Music tagline: Country Music: Live at the Ryman keywords: NA overview: Celebrated musicians perform at Nashville's Ryman Auditorium in anticipation of the soon-to-be-released \"Country Music\" documentary series by Ken Burns. Burns, plus some of his colleagues and some musicians, act as hosts and provide a brief history of country music as they introduce each act and show sneak peek excerpts from the series in between the live performances. Many of the musicians that appear in the documentary perform to demonstrate various country music styles including Dierks Bentley, Rosanne Cash, Ketch Secor, Rhiannon Giddens, Vince Gill, Kathy Mattea, Marty Stuart, Dwight Yoakam, and more."
        ],
        [
         "504013",
         "People in Tights",
         "0.0",
         "0",
         "2014-06-02",
         "An aspiring superhero, lacking powers, tries out for a real superhero team in this mockumentary.",
         "0.6",
         "The best heroes are homemade.",
         "Comedy, Documentary, Action",
         "Straight Razor Studios",
         "mockumentary, superhero team, superhero spoof",
         "title: People in Tights release_date: 2014-06-02 genres: Comedy, Documentary, Action tagline: The best heroes are homemade. keywords: mockumentary, superhero team, superhero spoof overview: An aspiring superhero, lacking powers, tries out for a real superhero team in this mockumentary."
        ],
        [
         "150808",
         "Come Fill The Cup",
         "7.0",
         "5",
         "1951-10-24",
         "Alcoholic newspaperman Lew Marsh hits bottom, loses his job and is rehabilitated by Charley Dolan. After six years on the wagon he gets his job back and devotes himself to other recovering alcoholics.",
         "1.609",
         "A man with a thirst for trouble!",
         "Drama",
         null,
         "alcoholic, newspaper man, fired from a job",
         "title: Come Fill The Cup release_date: 1951-10-24 genres: Drama tagline: A man with a thirst for trouble! keywords: alcoholic, newspaper man, fired from a job overview: Alcoholic newspaperman Lew Marsh hits bottom, loses his job and is rehabilitated by Charley Dolan. After six years on the wagon he gets his job back and devotes himself to other recovering alcoholics."
        ],
        [
         "579983",
         "The Law of Nature",
         "0.0",
         "0",
         "2019-01-29",
         "The old Finnish farmer Juha is about to retire, but still has one mission to accomplish: to sell his big, but heavily indebted dairy farm to his son Henry (26). But the young man has his own ideas, and as the economic challenges on the farm accumulate, the conflict between father and son escalates.",
         "0.6",
         null,
         "Documentary",
         "New Eyes Productions",
         null,
         "title: The Law of Nature release_date: 2019-01-29 genres: Documentary tagline: NA keywords: NA overview: The old Finnish farmer Juha is about to retire, but still has one mission to accomplish: to sell his big, but heavily indebted dairy farm to his son Henry (26). But the young man has his own ideas, and as the economic challenges on the farm accumulate, the conflict between father and son escalates."
        ],
        [
         "983565",
         "Tokyo Videos of Horror 16",
         "0.0",
         "0",
         "2017-10-03",
         "Spirits, occult, grotesque, violence, madness, bizarre incidents... Born from darkness, the darkness is about to be buried in the shivering taboo video multiple recordings of the popular series, the 16th installment!",
         "0.6",
         null,
         "Horror",
         null,
         "found footage",
         "title: Tokyo Videos of Horror 16 release_date: 2017-10-03 genres: Horror tagline: NA keywords: found footage overview: Spirits, occult, grotesque, violence, madness, bizarre incidents... Born from darkness, the darkness is about to be buried in the shivering taboo video multiple recordings of the popular series, the 16th installment!"
        ],
        [
         "647934",
         "Kaagar",
         "0.0",
         "0",
         "2019-02-14",
         "Yuvraj works for a renowned politician, Prabhakar, and falls in love with his daughter, Rani. However, a brewing political conspiracy changes the course of many lives.",
         "1.1",
         null,
         "Drama",
         null,
         null,
         "title: Kaagar release_date: 2019-02-14 genres: Drama tagline: NA keywords: NA overview: Yuvraj works for a renowned politician, Prabhakar, and falls in love with his daughter, Rani. However, a brewing political conspiracy changes the course of many lives."
        ],
        [
         "1256459",
         "Northern Minnesota's Labor Wars",
         "0.0",
         "0",
         "2017-06-15",
         "Filmmaker Gary Kaunonen of KCC-TV in International Falls just released a new documentary about a pivotal time in Northern Minnesota’s labor history. It’s called “Northern Minnesota’s Labor Wars.”  The years 1916 and 1917 brought major labor uprisings in the mines of the Mesabi Iron Range and the lumber camps of the state’s far northern pine forests. These events not only shaped local history, but became vital turning points in the national and international labor movement.",
         "0.0",
         null,
         "Documentary",
         "Minnesota Historical Society",
         "minnesota, union, labor union, iron mine, small town minnesota",
         "title: Northern Minnesota's Labor Wars release_date: 2017-06-15 genres: Documentary tagline: NA keywords: minnesota, union, labor union, iron mine, small town minnesota overview: Filmmaker Gary Kaunonen of KCC-TV in International Falls just released a new documentary about a pivotal time in Northern Minnesota’s labor history. It’s called “Northern Minnesota’s Labor Wars.”  The years 1916 and 1917 brought major labor uprisings in the mines of the Mesabi Iron Range and the lumber camps of the state’s far northern pine forests. These events not only shaped local history, but became vital turning points in the national and international labor movement."
        ]
       ],
       "shape": {
        "columns": 11,
        "rows": 500
       }
      },
      "text/html": [
       "<div>\n",
       "<style scoped>\n",
       "    .dataframe tbody tr th:only-of-type {\n",
       "        vertical-align: middle;\n",
       "    }\n",
       "\n",
       "    .dataframe tbody tr th {\n",
       "        vertical-align: top;\n",
       "    }\n",
       "\n",
       "    .dataframe thead th {\n",
       "        text-align: right;\n",
       "    }\n",
       "</style>\n",
       "<table border=\"1\" class=\"dataframe\">\n",
       "  <thead>\n",
       "    <tr style=\"text-align: right;\">\n",
       "      <th></th>\n",
       "      <th>title</th>\n",
       "      <th>vote_average</th>\n",
       "      <th>vote_count</th>\n",
       "      <th>release_date</th>\n",
       "      <th>overview</th>\n",
       "      <th>popularity</th>\n",
       "      <th>tagline</th>\n",
       "      <th>genres</th>\n",
       "      <th>production_companies</th>\n",
       "      <th>keywords</th>\n",
       "      <th>movie_details</th>\n",
       "    </tr>\n",
       "    <tr>\n",
       "      <th>id</th>\n",
       "      <th></th>\n",
       "      <th></th>\n",
       "      <th></th>\n",
       "      <th></th>\n",
       "      <th></th>\n",
       "      <th></th>\n",
       "      <th></th>\n",
       "      <th></th>\n",
       "      <th></th>\n",
       "      <th></th>\n",
       "      <th></th>\n",
       "    </tr>\n",
       "  </thead>\n",
       "  <tbody>\n",
       "    <tr>\n",
       "      <th>294176</th>\n",
       "      <td>Zwei Seiten der Liebe</td>\n",
       "      <td>5.00</td>\n",
       "      <td>1</td>\n",
       "      <td>2002-09-13</td>\n",
       "      <td>Carola and Dieter Martin have been married for...</td>\n",
       "      <td>0.600</td>\n",
       "      <td>NaN</td>\n",
       "      <td>Romance, Drama, TV Movie</td>\n",
       "      <td>ARD</td>\n",
       "      <td>NaN</td>\n",
       "      <td>title: Zwei Seiten der Liebe release_date: 200...</td>\n",
       "    </tr>\n",
       "    <tr>\n",
       "      <th>493621</th>\n",
       "      <td>Blood Circus</td>\n",
       "      <td>6.00</td>\n",
       "      <td>2</td>\n",
       "      <td>2017-12-19</td>\n",
       "      <td>A retired MMA world champion gets caught up in...</td>\n",
       "      <td>4.325</td>\n",
       "      <td>NaN</td>\n",
       "      <td>Action, Thriller</td>\n",
       "      <td>DTLA Entertainment Group, LLC, Octane Entertai...</td>\n",
       "      <td>NaN</td>\n",
       "      <td>title: Blood Circus release_date: 2017-12-19 g...</td>\n",
       "    </tr>\n",
       "    <tr>\n",
       "      <th>812289</th>\n",
       "      <td>A Fistful of Barrels</td>\n",
       "      <td>0.00</td>\n",
       "      <td>0</td>\n",
       "      <td>2006-01-02</td>\n",
       "      <td>A FISTFUL OF BARRELS is the first surf film of...</td>\n",
       "      <td>0.859</td>\n",
       "      <td>NaN</td>\n",
       "      <td>NaN</td>\n",
       "      <td>Seven Films</td>\n",
       "      <td>NaN</td>\n",
       "      <td>title: A Fistful of Barrels release_date: 2006...</td>\n",
       "    </tr>\n",
       "    <tr>\n",
       "      <th>225175</th>\n",
       "      <td>Aquila Nera</td>\n",
       "      <td>6.55</td>\n",
       "      <td>10</td>\n",
       "      <td>1946-09-21</td>\n",
       "      <td>An evil Czarist landowner had mistreated the f...</td>\n",
       "      <td>1.301</td>\n",
       "      <td>NaN</td>\n",
       "      <td>Romance, Adventure</td>\n",
       "      <td>Lux Film</td>\n",
       "      <td>NaN</td>\n",
       "      <td>title: Aquila Nera release_date: 1946-09-21 ge...</td>\n",
       "    </tr>\n",
       "    <tr>\n",
       "      <th>652722</th>\n",
       "      <td>In the Arms of an Assassin</td>\n",
       "      <td>7.98</td>\n",
       "      <td>348</td>\n",
       "      <td>2019-12-06</td>\n",
       "      <td>Victor (William Levy) is one of the world’s mo...</td>\n",
       "      <td>17.049</td>\n",
       "      <td>NaN</td>\n",
       "      <td>Romance, Thriller</td>\n",
       "      <td>NaN</td>\n",
       "      <td>NaN</td>\n",
       "      <td>title: In the Arms of an Assassin release_date...</td>\n",
       "    </tr>\n",
       "    <tr>\n",
       "      <th>...</th>\n",
       "      <td>...</td>\n",
       "      <td>...</td>\n",
       "      <td>...</td>\n",
       "      <td>...</td>\n",
       "      <td>...</td>\n",
       "      <td>...</td>\n",
       "      <td>...</td>\n",
       "      <td>...</td>\n",
       "      <td>...</td>\n",
       "      <td>...</td>\n",
       "      <td>...</td>\n",
       "    </tr>\n",
       "    <tr>\n",
       "      <th>640450</th>\n",
       "      <td>Brouillard #13</td>\n",
       "      <td>0.00</td>\n",
       "      <td>0</td>\n",
       "      <td>2013-01-01</td>\n",
       "      <td>A colour reversal film shot on 35mm.</td>\n",
       "      <td>0.600</td>\n",
       "      <td>NaN</td>\n",
       "      <td>NaN</td>\n",
       "      <td>NaN</td>\n",
       "      <td>NaN</td>\n",
       "      <td>title: Brouillard #13 release_date: 2013-01-01...</td>\n",
       "    </tr>\n",
       "    <tr>\n",
       "      <th>1327857</th>\n",
       "      <td>Среди мертвых, среди живых</td>\n",
       "      <td>0.00</td>\n",
       "      <td>0</td>\n",
       "      <td>2024-09-06</td>\n",
       "      <td>Not far from the Great Patriotic War burial si...</td>\n",
       "      <td>0.000</td>\n",
       "      <td>NaN</td>\n",
       "      <td>Documentary</td>\n",
       "      <td>NaN</td>\n",
       "      <td>NaN</td>\n",
       "      <td>title: Среди мертвых, среди живых release_date...</td>\n",
       "    </tr>\n",
       "    <tr>\n",
       "      <th>385690</th>\n",
       "      <td>Lord Tokugawa Ieyasu</td>\n",
       "      <td>8.50</td>\n",
       "      <td>2</td>\n",
       "      <td>1965-01-03</td>\n",
       "      <td>In turbulent 16th-century Japan, the leaders o...</td>\n",
       "      <td>1.487</td>\n",
       "      <td>NaN</td>\n",
       "      <td>Drama</td>\n",
       "      <td>Toei Company</td>\n",
       "      <td>samurai, hostage, feudal japan</td>\n",
       "      <td>title: Lord Tokugawa Ieyasu release_date: 1965...</td>\n",
       "    </tr>\n",
       "    <tr>\n",
       "      <th>729250</th>\n",
       "      <td>Bananarama: Live At The London Eventim Hammers...</td>\n",
       "      <td>9.00</td>\n",
       "      <td>1</td>\n",
       "      <td>2018-09-14</td>\n",
       "      <td>They were the girl group that defined the 80s....</td>\n",
       "      <td>0.600</td>\n",
       "      <td>NaN</td>\n",
       "      <td>Music</td>\n",
       "      <td>PledgeMusic</td>\n",
       "      <td>NaN</td>\n",
       "      <td>title: Bananarama: Live At The London Eventim ...</td>\n",
       "    </tr>\n",
       "    <tr>\n",
       "      <th>956160</th>\n",
       "      <td>Baghdad Messi</td>\n",
       "      <td>0.00</td>\n",
       "      <td>0</td>\n",
       "      <td>2023-08-03</td>\n",
       "      <td>The talented Hamoudi is an 11-year-old boy wit...</td>\n",
       "      <td>0.600</td>\n",
       "      <td>NaN</td>\n",
       "      <td>Drama</td>\n",
       "      <td>NaN</td>\n",
       "      <td>NaN</td>\n",
       "      <td>title: Baghdad Messi release_date: 2023-08-03 ...</td>\n",
       "    </tr>\n",
       "  </tbody>\n",
       "</table>\n",
       "<p>500 rows × 11 columns</p>\n",
       "</div>"
      ],
      "text/plain": [
       "                                                     title  vote_average  \\\n",
       "id                                                                         \n",
       "294176                               Zwei Seiten der Liebe          5.00   \n",
       "493621                                        Blood Circus          6.00   \n",
       "812289                                A Fistful of Barrels          0.00   \n",
       "225175                                         Aquila Nera          6.55   \n",
       "652722                          In the Arms of an Assassin          7.98   \n",
       "...                                                    ...           ...   \n",
       "640450                                      Brouillard #13          0.00   \n",
       "1327857                         Среди мертвых, среди живых          0.00   \n",
       "385690                                Lord Tokugawa Ieyasu          8.50   \n",
       "729250   Bananarama: Live At The London Eventim Hammers...          9.00   \n",
       "956160                                       Baghdad Messi          0.00   \n",
       "\n",
       "         vote_count release_date  \\\n",
       "id                                 \n",
       "294176            1   2002-09-13   \n",
       "493621            2   2017-12-19   \n",
       "812289            0   2006-01-02   \n",
       "225175           10   1946-09-21   \n",
       "652722          348   2019-12-06   \n",
       "...             ...          ...   \n",
       "640450            0   2013-01-01   \n",
       "1327857           0   2024-09-06   \n",
       "385690            2   1965-01-03   \n",
       "729250            1   2018-09-14   \n",
       "956160            0   2023-08-03   \n",
       "\n",
       "                                                  overview  popularity  \\\n",
       "id                                                                       \n",
       "294176   Carola and Dieter Martin have been married for...       0.600   \n",
       "493621   A retired MMA world champion gets caught up in...       4.325   \n",
       "812289   A FISTFUL OF BARRELS is the first surf film of...       0.859   \n",
       "225175   An evil Czarist landowner had mistreated the f...       1.301   \n",
       "652722   Victor (William Levy) is one of the world’s mo...      17.049   \n",
       "...                                                    ...         ...   \n",
       "640450                A colour reversal film shot on 35mm.       0.600   \n",
       "1327857  Not far from the Great Patriotic War burial si...       0.000   \n",
       "385690   In turbulent 16th-century Japan, the leaders o...       1.487   \n",
       "729250   They were the girl group that defined the 80s....       0.600   \n",
       "956160   The talented Hamoudi is an 11-year-old boy wit...       0.600   \n",
       "\n",
       "        tagline                    genres  \\\n",
       "id                                          \n",
       "294176      NaN  Romance, Drama, TV Movie   \n",
       "493621      NaN          Action, Thriller   \n",
       "812289      NaN                       NaN   \n",
       "225175      NaN        Romance, Adventure   \n",
       "652722      NaN         Romance, Thriller   \n",
       "...         ...                       ...   \n",
       "640450      NaN                       NaN   \n",
       "1327857     NaN               Documentary   \n",
       "385690      NaN                     Drama   \n",
       "729250      NaN                     Music   \n",
       "956160      NaN                     Drama   \n",
       "\n",
       "                                      production_companies  \\\n",
       "id                                                           \n",
       "294176                                                 ARD   \n",
       "493621   DTLA Entertainment Group, LLC, Octane Entertai...   \n",
       "812289                                         Seven Films   \n",
       "225175                                            Lux Film   \n",
       "652722                                                 NaN   \n",
       "...                                                    ...   \n",
       "640450                                                 NaN   \n",
       "1327857                                                NaN   \n",
       "385690                                        Toei Company   \n",
       "729250                                         PledgeMusic   \n",
       "956160                                                 NaN   \n",
       "\n",
       "                               keywords  \\\n",
       "id                                        \n",
       "294176                              NaN   \n",
       "493621                              NaN   \n",
       "812289                              NaN   \n",
       "225175                              NaN   \n",
       "652722                              NaN   \n",
       "...                                 ...   \n",
       "640450                              NaN   \n",
       "1327857                             NaN   \n",
       "385690   samurai, hostage, feudal japan   \n",
       "729250                              NaN   \n",
       "956160                              NaN   \n",
       "\n",
       "                                             movie_details  \n",
       "id                                                          \n",
       "294176   title: Zwei Seiten der Liebe release_date: 200...  \n",
       "493621   title: Blood Circus release_date: 2017-12-19 g...  \n",
       "812289   title: A Fistful of Barrels release_date: 2006...  \n",
       "225175   title: Aquila Nera release_date: 1946-09-21 ge...  \n",
       "652722   title: In the Arms of an Assassin release_date...  \n",
       "...                                                    ...  \n",
       "640450   title: Brouillard #13 release_date: 2013-01-01...  \n",
       "1327857  title: Среди мертвых, среди живых release_date...  \n",
       "385690   title: Lord Tokugawa Ieyasu release_date: 1965...  \n",
       "729250   title: Bananarama: Live At The London Eventim ...  \n",
       "956160   title: Baghdad Messi release_date: 2023-08-03 ...  \n",
       "\n",
       "[500 rows x 11 columns]"
      ]
     },
     "execution_count": 74,
     "metadata": {},
     "output_type": "execute_result"
    }
   ],
   "source": [
    "sample = pd.read_csv('movie_dataset_sample.csv', index_col = 'id')\n",
    "sample"
   ]
  },
  {
   "cell_type": "code",
   "execution_count": null,
   "id": "3b42d384",
   "metadata": {},
   "outputs": [],
   "source": [
    "'''Victor (William Levy) is one of the world’s most handsome  men, but he has a deep secret – he is a cold blooded assassin. \n",
    "Smooth talking and seductive, Victor was raised to do one thing only, which is to kill for money. \n",
    "When he is sent to the home of a brutal drug lord to collect payment for his most recent hit, he encounters the beautiful Sarai (Alicia Sanz), \n",
    "who has been forced to spend the last 9 years of her life with the drug lord.'''"
   ]
  },
  {
   "cell_type": "code",
   "execution_count": null,
   "id": "30154e8d",
   "metadata": {},
   "outputs": [],
   "source": [
    "def query_movie_index(query):\n",
    "    '''Queries movie index endpoint given movie query'''\n",
    "    # Create HybridQuery\n",
    "    query_dense_emb = get_dense_embedding(query)\n",
    "    query_sparse_emb = get_sparse_embedding(query)\n",
    "    query = HybridQuery(\n",
    "        dense_embedding = query_dense_emb,\n",
    "        sparse_embedding_values = query_sparse_emb[\"values\"],\n",
    "        sparse_embedding_dimensions = query_sparse_emb[\"dimensions\"],\n",
    "        rrf_ranking_alpha = 0.5,\n",
    "    )\n",
    "    \n",
    "    # Run hybrid query\n",
    "    return my_index_endpoint.find_neighbors(\n",
    "        deployed_index_id = 5309946270809325568,\n",
    "        queries = [query],\n",
    "        num_neighbors = 10,\n",
    "    )\n",
    "\n",
    "def display_query_response(response):\n",
    "    for idx, neighbor in enumerate(response[0]):\n",
    "        title = df.title[int(neighbor.id)]\n",
    "        dense_dist = neighbor.distance if neighbor.distance else 0.0\n",
    "        sparse_dist = neighbor.sparse_distance if neighbor.sparse_distance else 0.0\n",
    "        print(f\"{title:<40}: dense_dist: {dense_dist:.3f}, sparse_dist: {sparse_dist:.3f}\")"
   ]
  },
  {
   "cell_type": "code",
   "execution_count": null,
   "id": "129f3bd6",
   "metadata": {},
   "outputs": [
    {
     "ename": "NameError",
     "evalue": "name 'query_movie_index' is not defined",
     "output_type": "error",
     "traceback": [
      "\u001b[31m---------------------------------------------------------------------------\u001b[39m",
      "\u001b[31mNameError\u001b[39m                                 Traceback (most recent call last)",
      "\u001b[36mCell\u001b[39m\u001b[36m \u001b[39m\u001b[32mIn[27]\u001b[39m\u001b[32m, line 2\u001b[39m\n\u001b[32m      1\u001b[39m queries = \u001b[33m\"\u001b[39m\u001b[33mIn the Arms of an Assassin\u001b[39m\u001b[33m\"\u001b[39m\n\u001b[32m----> \u001b[39m\u001b[32m2\u001b[39m search_results = \u001b[43mquery_movie_index\u001b[49m(query)\n\u001b[32m      3\u001b[39m display_query_response(search_results)\n",
      "\u001b[31mNameError\u001b[39m: name 'query_movie_index' is not defined"
     ]
    },
    {
     "ename": "",
     "evalue": "",
     "output_type": "error",
     "traceback": [
      "\u001b[1;31mThe Kernel crashed while executing code in the current cell or a previous cell. \n",
      "\u001b[1;31mPlease review the code in the cell(s) to identify a possible cause of the failure. \n",
      "\u001b[1;31mClick <a href='https://aka.ms/vscodeJupyterKernelCrash'>here</a> for more info. \n",
      "\u001b[1;31mView Jupyter <a href='command:jupyter.viewOutput'>log</a> for further details."
     ]
    }
   ],
   "source": [
    "queries = \"In the Arms of an Assassin\"\n",
    "search_results = query_movie_index(query)\n",
    "display_query_response(search_results)"
   ]
  }
 ],
 "metadata": {
  "kernelspec": {
   "display_name": "Python (data_analytics)",
   "language": "python",
   "name": "data_analytics"
  },
  "language_info": {
   "codemirror_mode": {
    "name": "ipython",
    "version": 3
   },
   "file_extension": ".py",
   "mimetype": "text/x-python",
   "name": "python",
   "nbconvert_exporter": "python",
   "pygments_lexer": "ipython3",
   "version": "3.12.9"
  }
 },
 "nbformat": 4,
 "nbformat_minor": 5
}
