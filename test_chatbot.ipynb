{
 "cells": [
  {
   "cell_type": "markdown",
   "id": "168e22d1",
   "metadata": {},
   "source": [
    "# Create movie guesser bot"
   ]
  },
  {
   "cell_type": "markdown",
   "id": "c7ffb7cf",
   "metadata": {},
   "source": [
    "## Setup"
   ]
  },
  {
   "cell_type": "code",
   "execution_count": null,
   "id": "ce00f718",
   "metadata": {},
   "outputs": [],
   "source": [
    "# Inbuild python packages\n",
    "import os\n",
    "import json\n",
    "from IPython.display import Markdown, display\n",
    "\n",
    "# Data manipulation packages\n",
    "import pandas as pd\n",
    "\n",
    "# MovieBot class and GCP AI packages\n",
    "from movie_bot import MovieBot, genai, aiplatform"
   ]
  },
  {
   "cell_type": "code",
   "execution_count": 71,
   "id": "d22485e8",
   "metadata": {},
   "outputs": [
    {
     "name": "stdout",
     "output_type": "stream",
     "text": [
      "Project ID: synthetic-diode-459014-v9\n",
      "Region: europe-west1\n",
      "Index endpoint ID : 5749047234477948928\n",
      "Deployed Index name: whatmovie_1_deployed_index_1752150682511\n"
     ]
    }
   ],
   "source": [
    "# Load GCP project info from config.json\n",
    "config_path = os.path.join(os.getcwd(), 'config.json')\n",
    "with open(config_path, 'r') as f:\n",
    "    config = json.load(f)\n",
    "\n",
    "# Initialise constants\n",
    "PROJECT_ID = config['PROJECT_ID']\n",
    "LOCATION = config['LOCATION']\n",
    "INDEX_ENDPOINT_ID = config['INDEX_ENDPOINT_ID']\n",
    "DEPLOYED_INDEX_ID = config['DEPLOYED_INDEX_NAME']\n",
    "\n",
    "# Initialize Vertex AI and Gemini SDK\n",
    "#aiplatform.init(project = PROJECT_ID, location = LOCATION)\n",
    "client = genai.Client(vertexai = True, project = PROJECT_ID, location = LOCATION)\n",
    "\n",
    "\n",
    "print(f\"Project ID: {PROJECT_ID}\")\n",
    "print(f\"Region: {LOCATION}\")\n",
    "print(f\"Index endpoint ID : {INDEX_ENDPOINT_ID}\")\n",
    "print(f\"Deployed Index name: {DEPLOYED_INDEX_ID}\")"
   ]
  },
  {
   "cell_type": "code",
   "execution_count": 3,
   "id": "2e175efe",
   "metadata": {},
   "outputs": [
    {
     "data": {
      "text/markdown": [
       "The German movie based on the book \"One Million Minutes: What My Daughter Taught Me About Time\" is called **\"Ein ganzes Leben\"** which translates to **\"A Whole Life\"**.\n",
       "\n",
       "However, it's important to note that the original title of the book this movie is based on is **\"Eine Million Minuten\"**, which is German for \"One Million Minutes\".\n"
      ],
      "text/plain": [
       "<IPython.core.display.Markdown object>"
      ]
     },
     "metadata": {},
     "output_type": "display_data"
    }
   ],
   "source": [
    "prompt = \"What is that German movie based on the book One Million Minutes: What My Daughter Taught Me About Time\"\n",
    "\n",
    "response = client.models.generate_content(model = \"gemini-2.0-flash-001\", contents = prompt)\n",
    "display(Markdown(response.text))"
   ]
  },
  {
   "cell_type": "markdown",
   "id": "a9376918",
   "metadata": {},
   "source": [
    "## Testing chatbot"
   ]
  },
  {
   "cell_type": "code",
   "execution_count": 40,
   "id": "bbb5dc54",
   "metadata": {},
   "outputs": [],
   "source": [
    "all_movies_df = pd.read_csv('data/processed_dataset.csv', index_col = 'id')"
   ]
  },
  {
   "cell_type": "code",
   "execution_count": 17,
   "id": "d6f68943",
   "metadata": {},
   "outputs": [
    {
     "data": {
      "application/vnd.microsoft.datawrangler.viewer.v0+json": {
       "columns": [
        {
         "name": "id",
         "rawType": "int64",
         "type": "integer"
        },
        {
         "name": "title",
         "rawType": "object",
         "type": "string"
        },
        {
         "name": "vote_average",
         "rawType": "float64",
         "type": "float"
        },
        {
         "name": "vote_count",
         "rawType": "int64",
         "type": "integer"
        },
        {
         "name": "release_date",
         "rawType": "object",
         "type": "string"
        },
        {
         "name": "overview",
         "rawType": "object",
         "type": "string"
        },
        {
         "name": "popularity",
         "rawType": "float64",
         "type": "float"
        },
        {
         "name": "tagline",
         "rawType": "object",
         "type": "unknown"
        },
        {
         "name": "genres",
         "rawType": "object",
         "type": "unknown"
        },
        {
         "name": "production_companies",
         "rawType": "object",
         "type": "unknown"
        },
        {
         "name": "keywords",
         "rawType": "object",
         "type": "unknown"
        },
        {
         "name": "movie_details",
         "rawType": "object",
         "type": "string"
        }
       ],
       "ref": "b315cab6-97cf-415a-afc8-15a9dcaea9bd",
       "rows": [
        [
         "294176",
         "Zwei Seiten der Liebe",
         "5.0",
         "1",
         "2002-09-13",
         "Carola and Dieter Martin have been married for 25 years. After Dieter dies in a car accident, Carola finds out that he was gay and had been in a relationship with the much younger lawyer Tobias Volperius for six years. Deeply shaken by this discovery, she withdraws from the outside world and tries to drown her sorrow in alcohol. When she attempts suicide, it is Tobias who finds and saves her. As a result, the two become friends, and Tobias is able to help Carola save her late husband's furniture business, which has been run down by fraudulent proxy Viktor Lipinski and is about to be taken over by another company.",
         "0.6",
         null,
         "Romance, Drama, TV Movie",
         "ARD",
         null,
         "title: Zwei Seiten der Liebe release_date: 2002-09-13 genres: Romance, Drama, TV Movie tagline: NA keywords: NA overview: Carola and Dieter Martin have been married for 25 years. After Dieter dies in a car accident, Carola finds out that he was gay and had been in a relationship with the much younger lawyer Tobias Volperius for six years. Deeply shaken by this discovery, she withdraws from the outside world and tries to drown her sorrow in alcohol. When she attempts suicide, it is Tobias who finds and saves her. As a result, the two become friends, and Tobias is able to help Carola save her late husband's furniture business, which has been run down by fraudulent proxy Viktor Lipinski and is about to be taken over by another company."
        ],
        [
         "493621",
         "Blood Circus",
         "6.0",
         "2",
         "2017-12-19",
         "A retired MMA world champion gets caught up in an underground fight club called the \"Blood Circus\" and must fight to survive and save his family.",
         "4.325",
         null,
         "Action, Thriller",
         "DTLA Entertainment Group, LLC, Octane Entertainment",
         null,
         "title: Blood Circus release_date: 2017-12-19 genres: Action, Thriller tagline: NA keywords: NA overview: A retired MMA world champion gets caught up in an underground fight club called the \"Blood Circus\" and must fight to survive and save his family."
        ],
        [
         "812289",
         "A Fistful of Barrels",
         "0.0",
         "0",
         "2006-01-02",
         "A FISTFUL OF BARRELS is the first surf film of its kind...it wont be the last!  Seven Films Presents A FISTFUL OF BARRELS  SOMEWHERE IN MEXICO...The ASP held the Rip Curl Search WCT  SOMEWHERE IN MEXICO...The best swell in ten years served up perfect 6-8 foot barrels for the 44 best surfers in the world.  SOMEWHERE IN MEXICO...This wave awaits you!",
         "0.859",
         null,
         null,
         "Seven Films",
         null,
         "title: A Fistful of Barrels release_date: 2006-01-02 genres: NA tagline: NA keywords: NA overview: A FISTFUL OF BARRELS is the first surf film of its kind...it wont be the last!  Seven Films Presents A FISTFUL OF BARRELS  SOMEWHERE IN MEXICO...The ASP held the Rip Curl Search WCT  SOMEWHERE IN MEXICO...The best swell in ten years served up perfect 6-8 foot barrels for the 44 best surfers in the world.  SOMEWHERE IN MEXICO...This wave awaits you!"
        ],
        [
         "225175",
         "Aquila Nera",
         "6.55",
         "10",
         "1946-09-21",
         "An evil Czarist landowner had mistreated the father and friends of an officer.The officer wreaks vengeance by committing masked coach robberies and insinuates himself into his enemy's castle by pretending to be a French teacher.",
         "1.301",
         null,
         "Romance, Adventure",
         "Lux Film",
         null,
         "title: Aquila Nera release_date: 1946-09-21 genres: Romance, Adventure tagline: NA keywords: NA overview: An evil Czarist landowner had mistreated the father and friends of an officer.The officer wreaks vengeance by committing masked coach robberies and insinuates himself into his enemy's castle by pretending to be a French teacher."
        ],
        [
         "652722",
         "In the Arms of an Assassin",
         "7.98",
         "348",
         "2019-12-06",
         "Victor (William Levy) is one of the world’s most handsome  men, but he has a deep secret – he is a cold blooded assassin. Smooth talking and seductive, Victor was raised to do one thing only, which is to kill for money. When he is sent to the home of a brutal drug lord to collect payment for his most recent hit, he encounters the beautiful Sarai (Alicia Sanz), who has been forced to spend the last 9 years of her life with the drug lord.",
         "17.049",
         null,
         "Romance, Thriller",
         null,
         null,
         "title: In the Arms of an Assassin release_date: 2019-12-06 genres: Romance, Thriller tagline: NA keywords: NA overview: Victor (William Levy) is one of the world’s most handsome  men, but he has a deep secret – he is a cold blooded assassin. Smooth talking and seductive, Victor was raised to do one thing only, which is to kill for money. When he is sent to the home of a brutal drug lord to collect payment for his most recent hit, he encounters the beautiful Sarai (Alicia Sanz), who has been forced to spend the last 9 years of her life with the drug lord."
        ],
        [
         "34420",
         "Wrong Rosary",
         "7.0",
         "22",
         "2009-10-09",
         "Muezzin Musa falls for his neighbor, the Catholic nurse Clara. The story gets even more exceptional when Musa meets Yakup, who turns out to be connected with Clara.",
         "1.389",
         null,
         "Drama",
         "Hokusfokus Film",
         null,
         "title: Wrong Rosary release_date: 2009-10-09 genres: Drama tagline: NA keywords: NA overview: Muezzin Musa falls for his neighbor, the Catholic nurse Clara. The story gets even more exceptional when Musa meets Yakup, who turns out to be connected with Clara."
        ],
        [
         "1157783",
         "Orange Lipstick",
         "0.0",
         "0",
         "2017-03-05",
         "An exhausted working mom takes one night off from her daily routine to reclaim her youth.",
         "0.6",
         "Don't lose you",
         "Comedy, Drama",
         "EBM Productions",
         "short film",
         "title: Orange Lipstick release_date: 2017-03-05 genres: Comedy, Drama tagline: Don't lose you keywords: short film overview: An exhausted working mom takes one night off from her daily routine to reclaim her youth."
        ],
        [
         "1235323",
         "Poquelin",
         "0.0",
         "0",
         "2022-01-14",
         "5 little stories, all told with Molière’s words",
         "0.6",
         "Is death really the end of an artist ?",
         "Comedy, Drama, History",
         null,
         null,
         "title: Poquelin release_date: 2022-01-14 genres: Comedy, Drama, History tagline: Is death really the end of an artist ? keywords: NA overview: 5 little stories, all told with Molière’s words"
        ],
        [
         "182925",
         "Suddenly It's Spring",
         "4.0",
         "3",
         "1947-02-13",
         "A WAC officer returns from the war to find her husband wants a divorce.",
         "1.376",
         "Macdonald Carey's got a line...and a million bucks to bait it with!",
         "Comedy, Romance",
         "Paramount",
         "screwball comedy, wac, signature, ski club",
         "title: Suddenly It's Spring release_date: 1947-02-13 genres: Comedy, Romance tagline: Macdonald Carey's got a line...and a million bucks to bait it with! keywords: screwball comedy, wac, signature, ski club overview: A WAC officer returns from the war to find her husband wants a divorce."
        ],
        [
         "277695",
         "The Boys of Cellblock Q",
         "3.5",
         "2",
         "1992-07-01",
         "The Boys of Cellblock Q is set within the bowels of the Sunnyvale Labor Farm. Without the presence of women, the prisoners indulge in regular trysts with one another, make full use out of the jail's supply of priests, turn the eyes several policemen, and help a young convict learn the ins and outs of the prison community.",
         "0.844",
         "They locked them up, but they couldn't make them go straight!",
         "Drama, Comedy",
         "Out & About Pictures",
         null,
         "title: The Boys of Cellblock Q release_date: 1992-07-01 genres: Drama, Comedy tagline: They locked them up, but they couldn't make them go straight! keywords: NA overview: The Boys of Cellblock Q is set within the bowels of the Sunnyvale Labor Farm. Without the presence of women, the prisoners indulge in regular trysts with one another, make full use out of the jail's supply of priests, turn the eyes several policemen, and help a young convict learn the ins and outs of the prison community."
        ],
        [
         "663409",
         "The Hike",
         "0.0",
         "0",
         "2011-06-23",
         "Four friends. Two couples. A planned hike in the wilderness. Sometimes things don't go as planned.",
         "0.6",
         null,
         null,
         null,
         null,
         "title: The Hike release_date: 2011-06-23 genres: NA tagline: NA keywords: NA overview: Four friends. Two couples. A planned hike in the wilderness. Sometimes things don't go as planned."
        ],
        [
         "946404",
         "Why Sausage is Cut at an Angle?",
         "0.0",
         "0",
         "2018-12-08",
         "A fictional story with elements of humor, which introduces the viewer to a rather unusual version of the origin of the well-known fact. Cutting sausage at an angle - this is what we are talking about. Why is everyone used to cutting it just one way or another?",
         "0.6",
         null,
         "Animation",
         "Kyiv National I. K. Karpenko-Karyi Theatre, Cinema and Television University",
         null,
         "title: Why Sausage is Cut at an Angle? release_date: 2018-12-08 genres: Animation tagline: NA keywords: NA overview: A fictional story with elements of humor, which introduces the viewer to a rather unusual version of the origin of the well-known fact. Cutting sausage at an angle - this is what we are talking about. Why is everyone used to cutting it just one way or another?"
        ],
        [
         "1111839",
         "The Homeland",
         "0.0",
         "0",
         "1923-02-25",
         "A Japanese silent drama about two farmers",
         "0.6",
         null,
         "Drama",
         "Nikkatsu-Mukôjima",
         null,
         "title: The Homeland release_date: 1923-02-25 genres: Drama tagline: NA keywords: NA overview: A Japanese silent drama about two farmers"
        ],
        [
         "642785",
         "Una furtiva lagrima",
         "0.0",
         "0",
         "2000-01-01",
         "A music video for opera singer Izzy.",
         "0.6",
         null,
         null,
         null,
         null,
         "title: Una furtiva lagrima release_date: 2000-01-01 genres: NA tagline: NA keywords: NA overview: A music video for opera singer Izzy."
        ],
        [
         "703536",
         "For One More Day",
         "0.0",
         "0",
         "2016-01-01",
         "A group of young people having a dinner together, during which they shared their personal experiences and played them out through a game.",
         "0.6",
         null,
         "Drama",
         null,
         null,
         "title: For One More Day release_date: 2016-01-01 genres: Drama tagline: NA keywords: NA overview: A group of young people having a dinner together, during which they shared their personal experiences and played them out through a game."
        ],
        [
         "827797",
         "Lady of the Lake",
         "0.0",
         "0",
         "1974-01-01",
         "Made by Bill and Louise Etra with the Rutt/Etra Video Synthesizer in 1974. \"A short piece of Gothic horror.\"",
         "0.6",
         null,
         "Horror",
         null,
         null,
         "title: Lady of the Lake release_date: 1974-01-01 genres: Horror tagline: NA keywords: NA overview: Made by Bill and Louise Etra with the Rutt/Etra Video Synthesizer in 1974. \"A short piece of Gothic horror.\""
        ],
        [
         "1449062",
         "François About parle du Beau Mec",
         "0.0",
         "0",
         "2024-11-12",
         "François About talks about the movie Le Beau Mec, directed in 1979 by Wallace Potts for which he was cinematographer.",
         "0.6",
         null,
         null,
         null,
         null,
         "title: François About parle du Beau Mec release_date: 2024-11-12 genres: NA tagline: NA keywords: NA overview: François About talks about the movie Le Beau Mec, directed in 1979 by Wallace Potts for which he was cinematographer."
        ],
        [
         "76811",
         "Blind Beast vs Dwarf Killer",
         "3.727",
         "11",
         "2001-06-24",
         "A blind masseur kidnaps young women and kills them and then make sculptures of them, while a mysterious dwarf spreading severed body parts around. Detective Akechi Kogorô investigating crimes.",
         "1.675",
         null,
         null,
         null,
         null,
         "title: Blind Beast vs Dwarf Killer release_date: 2001-06-24 genres: NA tagline: NA keywords: NA overview: A blind masseur kidnaps young women and kills them and then make sculptures of them, while a mysterious dwarf spreading severed body parts around. Detective Akechi Kogorô investigating crimes."
        ],
        [
         "471788",
         "Los pajaritos",
         "5.0",
         "1",
         "1983-01-04",
         "An accordion player moves to Madrid when tourist season ends in Benidorm",
         "0.6",
         null,
         "Comedy",
         null,
         null,
         "title: Los pajaritos release_date: 1983-01-04 genres: Comedy tagline: NA keywords: NA overview: An accordion player moves to Madrid when tourist season ends in Benidorm"
        ],
        [
         "1386192",
         "Rock & Roll",
         "0.0",
         "0",
         "2019-05-27",
         "Johnny Ghost is an aspiring rock star, who wakes up just before his make or break gig is about to start. However, due to surreal circumstances, he struggles to leave his home.",
         "0.6",
         "Sex, drugs and existential self-deprecation.",
         "Comedy, Music, Fantasy",
         "Swynnerton Pictures",
         "dark comedy, surreal, rock music, black and white, deadpan comedy, music, rock-and-roll, comedy",
         "title: Rock & Roll release_date: 2019-05-27 genres: Comedy, Music, Fantasy tagline: Sex, drugs and existential self-deprecation. keywords: dark comedy, surreal, rock music, black and white, deadpan comedy, music, rock-and-roll, comedy overview: Johnny Ghost is an aspiring rock star, who wakes up just before his make or break gig is about to start. However, due to surreal circumstances, he struggles to leave his home."
        ],
        [
         "170975",
         "The Saint and Her Fool",
         "0.0",
         "0",
         "1928-10-03",
         "Agnes Günther’s heart-rending fairy tale dazzled turn-of-the-century German audiences and sold hundreds of thousands of copies before being adapted into this tale of timeless passion, the beautiful The Saint and the Fool. The unapologetically sentimental classic was directed by Wilhelm Dieterle, who launched a successful career in Weimar cinema before becoming known for romantic, lush melodramas and technicolor extravaganzas, including 1945′s Marlene Dietrich unforgettable Love Letters. The dashing Dieterle himself plays Harrogate, Earl of Torstein, whose star-crossed love for the luminous Rosemarie of Brauneck (Lien Deyers, discovered by Fritz Lang) is further doomed by royal heroes and villains, the requisite evil stepmother, and fantastical elements that channel the intoxicating romance of Camille through the magic of the Brothers Grimm.",
         "0.6",
         null,
         "Romance, Drama",
         "Deutsche Film-Union AG (Defu) (Berlin)",
         null,
         "title: The Saint and Her Fool release_date: 1928-10-03 genres: Romance, Drama tagline: NA keywords: NA overview: Agnes Günther’s heart-rending fairy tale dazzled turn-of-the-century German audiences and sold hundreds of thousands of copies before being adapted into this tale of timeless passion, the beautiful The Saint and the Fool. The unapologetically sentimental classic was directed by Wilhelm Dieterle, who launched a successful career in Weimar cinema before becoming known for romantic, lush melodramas and technicolor extravaganzas, including 1945′s Marlene Dietrich unforgettable Love Letters. The dashing Dieterle himself plays Harrogate, Earl of Torstein, whose star-crossed love for the luminous Rosemarie of Brauneck (Lien Deyers, discovered by Fritz Lang) is further doomed by royal heroes and villains, the requisite evil stepmother, and fantastical elements that channel the intoxicating romance of Camille through the magic of the Brothers Grimm."
        ],
        [
         "942526",
         "100 nen gohan",
         "0.0",
         "0",
         "2014-05-14",
         "Documentary of the Usuki Soil Cultivation Center, pioneers in organic farming in Japan",
         "0.6",
         null,
         "Documentary",
         null,
         null,
         "title: 100 nen gohan release_date: 2014-05-14 genres: Documentary tagline: NA keywords: NA overview: Documentary of the Usuki Soil Cultivation Center, pioneers in organic farming in Japan"
        ],
        [
         "184205",
         "Dead on Sight",
         "5.1",
         "4",
         "1994-10-12",
         "A graduate student discovers her nightmares are actually visions of real-life murders committed by a man known as the Clock Killer. Joined by an unbelieving detective, she decides she must stop the killer herself, or become his next victim.",
         "1.208",
         "Her worst nightmares have just come true",
         "Mystery, Thriller",
         "MCEG/Sterling Entertainment",
         null,
         "title: Dead on Sight release_date: 1994-10-12 genres: Mystery, Thriller tagline: Her worst nightmares have just come true keywords: NA overview: A graduate student discovers her nightmares are actually visions of real-life murders committed by a man known as the Clock Killer. Joined by an unbelieving detective, she decides she must stop the killer herself, or become his next victim."
        ],
        [
         "620284",
         "Geek, and You Shall Find",
         "5.5",
         "2",
         "2019-07-23",
         "After attending a local comic book convention, three filmmakers are so moved by the stories shared with them by cosplayers that they decide to investigate geek culture even further. Attending other conventions across the country and speaking with legendary creators such as Kevin Eastman, Stan Lee and George R.R. Martin, the trio not only begins to find answers to why people gravitate towards superheroes and stories about superheroes, but how being a geek could help them live deeper, richer lives. Geek, and You Shall Find tells the stories behind the creation of several popular stories including Superman, Star Wars, Game of Thrones and the Teenage Mutant Ninja Turtles. In sharing how these characters and their worlds came to be, creators reveal how often they have been inspired by real-life social ills. Most importantly, by continuing to speak with fans who have been inspired by these creations, this film reveals how superheroes have the potential to combat these social issues as well.",
         "1.148",
         null,
         "Documentary",
         null,
         "superhero, comic-con, cosplay",
         "title: Geek, and You Shall Find release_date: 2019-07-23 genres: Documentary tagline: NA keywords: superhero, comic-con, cosplay overview: After attending a local comic book convention, three filmmakers are so moved by the stories shared with them by cosplayers that they decide to investigate geek culture even further. Attending other conventions across the country and speaking with legendary creators such as Kevin Eastman, Stan Lee and George R.R. Martin, the trio not only begins to find answers to why people gravitate towards superheroes and stories about superheroes, but how being a geek could help them live deeper, richer lives. Geek, and You Shall Find tells the stories behind the creation of several popular stories including Superman, Star Wars, Game of Thrones and the Teenage Mutant Ninja Turtles. In sharing how these characters and their worlds came to be, creators reveal how often they have been inspired by real-life social ills. Most importantly, by continuing to speak with fans who have been inspired by these creations, this film reveals how superheroes have the potential to combat these social issues as well."
        ],
        [
         "76972",
         "Thoranai",
         "4.7",
         "11",
         "2009-05-29",
         "A man comes to Chennai with a mission to find his brother, who had run away from his house about two decades ago. But a series of events make them both a part of unexpected happenings.",
         "1.874",
         null,
         "Action, Drama",
         "GK Film Corporation",
         null,
         "title: Thoranai release_date: 2009-05-29 genres: Action, Drama tagline: NA keywords: NA overview: A man comes to Chennai with a mission to find his brother, who had run away from his house about two decades ago. But a series of events make them both a part of unexpected happenings."
        ],
        [
         "707269",
         "Swimmer",
         "6.0",
         "4",
         "2020-01-25",
         "A car belonging to a suspected hit-and-run driver has been spotted outside a swimming pool complex and the police are there to arrest the fugitive.",
         "0.6",
         null,
         "Comedy",
         "French Quarter Film, SVT",
         "based on true story, hit-and-run, swimming pool, awkward situation",
         "title: Swimmer release_date: 2020-01-25 genres: Comedy tagline: NA keywords: based on true story, hit-and-run, swimming pool, awkward situation overview: A car belonging to a suspected hit-and-run driver has been spotted outside a swimming pool complex and the police are there to arrest the fugitive."
        ],
        [
         "717707",
         "Margins",
         "0.0",
         "0",
         "2007-01-01",
         "This short animated film looks at the relationship between social spaces and taboos surrounding mental illness and other forms of marginalization. The film is intended as a mood piece, a chance encounter between a lone figure and an indifferent crowd. This film was made as part of the fourth edition of the NFB's Hothouse apprenticeship.",
         "0.6",
         null,
         "Animation",
         "ONF | NFB",
         "mental illness",
         "title: Margins release_date: 2007-01-01 genres: Animation tagline: NA keywords: mental illness overview: This short animated film looks at the relationship between social spaces and taboos surrounding mental illness and other forms of marginalization. The film is intended as a mood piece, a chance encounter between a lone figure and an indifferent crowd. This film was made as part of the fourth edition of the NFB's Hothouse apprenticeship."
        ],
        [
         "546675",
         "The Inherent Traits of Connor James",
         "0.0",
         "0",
         "2018-06-23",
         "A dark dramedy that follows Lea and Court Matheson, a happily-married lesbian couple, and their three-year-old son as they return to Lea's hometown to attend the funeral of her best friend from high school. The deceased, Connor James, also happens to be Lea's sperm donor and when his family discovers that the Matheson's little boy is biologically related to them, they decide they'll go to any lengths to keep him in their lives.",
         "0.634",
         "Dysfunction is a dominant gene.",
         null,
         null,
         null,
         "title: The Inherent Traits of Connor James release_date: 2018-06-23 genres: NA tagline: Dysfunction is a dominant gene. keywords: NA overview: A dark dramedy that follows Lea and Court Matheson, a happily-married lesbian couple, and their three-year-old son as they return to Lea's hometown to attend the funeral of her best friend from high school. The deceased, Connor James, also happens to be Lea's sperm donor and when his family discovers that the Matheson's little boy is biologically related to them, they decide they'll go to any lengths to keep him in their lives."
        ],
        [
         "1338802",
         "Romeo and Juliet",
         "0.0",
         "0",
         "1967-03-12",
         "BBC Play of the Month adaptation of Shakespeare's tragic love story.",
         "1.4",
         null,
         "Romance, Drama, TV Movie",
         "BBC",
         null,
         "title: Romeo and Juliet release_date: 1967-03-12 genres: Romance, Drama, TV Movie tagline: NA keywords: NA overview: BBC Play of the Month adaptation of Shakespeare's tragic love story."
        ],
        [
         "302129",
         "Babla",
         "0.0",
         "0",
         "1951-12-01",
         "Paresh Bannerjee, Naren Bhattacharya and Nibhanani Devi",
         "0.6",
         null,
         null,
         null,
         null,
         "title: Babla release_date: 1951-12-01 genres: NA tagline: NA keywords: NA overview: Paresh Bannerjee, Naren Bhattacharya and Nibhanani Devi"
        ],
        [
         "439562",
         "The Book of Birdie",
         "2.7",
         "5",
         "2017-01-30",
         "When, Birdie, fragile teenager with an overactive imagination is placed in an isolated Midwestern convent on the brink of closure, her strange and in some cases grotesque obsessions begin to consume her attention. Outside life beckons when she meets Julia, the confident, spirited maintenance girl, inspiring a growing infatuation. But privately, Birdie can’t turn away from her fascination with the gory and whimsical hallucinations that plague her. Birdie sets off on her spiritual quest to discover if the source of her visions is something saintly or a dark heresy. The convent itself holds ghosts of nuns who’ve met untimely deaths. Are they calling Birdie to the same fate?",
         "0.776",
         "Beautiful is the Blood.",
         "Fantasy",
         null,
         null,
         "title: The Book of Birdie release_date: 2017-01-30 genres: Fantasy tagline: Beautiful is the Blood. keywords: NA overview: When, Birdie, fragile teenager with an overactive imagination is placed in an isolated Midwestern convent on the brink of closure, her strange and in some cases grotesque obsessions begin to consume her attention. Outside life beckons when she meets Julia, the confident, spirited maintenance girl, inspiring a growing infatuation. But privately, Birdie can’t turn away from her fascination with the gory and whimsical hallucinations that plague her. Birdie sets off on her spiritual quest to discover if the source of her visions is something saintly or a dark heresy. The convent itself holds ghosts of nuns who’ve met untimely deaths. Are they calling Birdie to the same fate?"
        ],
        [
         "569025",
         "Fitzgerald",
         "0.0",
         "0",
         "2017-05-12",
         "When world famous photographer Phil Fitzgerald encounters a mysterious woman from his past, his life is changed forever.",
         "0.6",
         "Photos. Family. Baklava.",
         "Drama",
         "Buffalo and Mustang Studios",
         "photography, father, family drama",
         "title: Fitzgerald release_date: 2017-05-12 genres: Drama tagline: Photos. Family. Baklava. keywords: photography, father, family drama overview: When world famous photographer Phil Fitzgerald encounters a mysterious woman from his past, his life is changed forever."
        ],
        [
         "505320",
         "David Macaulay: Roman City",
         "0.0",
         "0",
         "1994-02-15",
         "The glories of Ancient Rome are explored in ROMAN CITY, based on David Macaulay's acclaimed book. This animated and live-action video recounts life in Verbonia, a fictional city in Gaul.  A well-planned town with all modern conveniences, it is threatened by conflict between conquerors and conquered. Macaulay also visits Pompeii, Herculaneum, Ostia, Nimes, Orange, and Rome, to view actual Roman architecture and engineering greatness.",
         "0.962",
         null,
         "Documentary, History",
         "Unicorn Projects",
         "ancient rome",
         "title: David Macaulay: Roman City release_date: 1994-02-15 genres: Documentary, History tagline: NA keywords: ancient rome overview: The glories of Ancient Rome are explored in ROMAN CITY, based on David Macaulay's acclaimed book. This animated and live-action video recounts life in Verbonia, a fictional city in Gaul.  A well-planned town with all modern conveniences, it is threatened by conflict between conquerors and conquered. Macaulay also visits Pompeii, Herculaneum, Ostia, Nimes, Orange, and Rome, to view actual Roman architecture and engineering greatness."
        ],
        [
         "1111384",
         "Gorilla Ball",
         "0.0",
         "0",
         "1968-01-01",
         "Animated film produced by Zagreb Film",
         "0.6",
         null,
         "Animation",
         null,
         null,
         "title: Gorilla Ball release_date: 1968-01-01 genres: Animation tagline: NA keywords: NA overview: Animated film produced by Zagreb Film"
        ],
        [
         "1038412",
         "A Woman With an Impeccable Image",
         "0.0",
         "0",
         "2022-10-10",
         "Friends and relatives call Lydia Sokolova-Serbskaya a woman with an impeccable image. She visits salons, lectures on fashion, carefully selects outfits, and is proud of her pedigree. In public, the woman is smiling and friendly, she reads poetry with her poet husband, talks about high things, but if you look closely, it turns out that everything is far from being so attractive. What kind of person is really under bright hats and what does the approval of the society in which she is worth to a woman?",
         "0.6",
         null,
         "Documentary",
         null,
         null,
         "title: A Woman With an Impeccable Image release_date: 2022-10-10 genres: Documentary tagline: NA keywords: NA overview: Friends and relatives call Lydia Sokolova-Serbskaya a woman with an impeccable image. She visits salons, lectures on fashion, carefully selects outfits, and is proud of her pedigree. In public, the woman is smiling and friendly, she reads poetry with her poet husband, talks about high things, but if you look closely, it turns out that everything is far from being so attractive. What kind of person is really under bright hats and what does the approval of the society in which she is worth to a woman?"
        ],
        [
         "792141",
         "Broken Pines",
         "0.0",
         "0",
         "2013-01-01",
         "The mundane life of Rita, a nurse and a single mum, changes when she sets eyes on a young photographer named Ernest. Meanwhile, an unexpected encounter with her ex-husband and the father of her child brings back hopes and desires of the past that challenge Rita’s true feelings.",
         "0.6",
         null,
         null,
         "Tasse Film, Latvijas Kultūras akadēmija",
         null,
         "title: Broken Pines release_date: 2013-01-01 genres: NA tagline: NA keywords: NA overview: The mundane life of Rita, a nurse and a single mum, changes when she sets eyes on a young photographer named Ernest. Meanwhile, an unexpected encounter with her ex-husband and the father of her child brings back hopes and desires of the past that challenge Rita’s true feelings."
        ],
        [
         "255406",
         "The Omen Legacy",
         "7.0",
         "4",
         "2001-10-30",
         "The true stories that spawned the eerie tale of Damien, a small boy with an angelic face, whose very name still conjures up thoughts of Satan. This documentary shares spine-tingling information about the the all-too-memorable flick that has terrorized film audiences since 1976.",
         "0.782",
         null,
         "Documentary",
         null,
         null,
         "title: The Omen Legacy release_date: 2001-10-30 genres: Documentary tagline: NA keywords: NA overview: The true stories that spawned the eerie tale of Damien, a small boy with an angelic face, whose very name still conjures up thoughts of Satan. This documentary shares spine-tingling information about the the all-too-memorable flick that has terrorized film audiences since 1976."
        ],
        [
         "311095",
         "Queens of the Stone Age Live at Lollapalooza 2013",
         "0.0",
         "0",
         "2013-08-31",
         "Queens of the stone age live at Lollapalooza 2013",
         "1.094",
         null,
         "Music",
         null,
         null,
         "title: Queens of the Stone Age Live at Lollapalooza 2013 release_date: 2013-08-31 genres: Music tagline: NA keywords: NA overview: Queens of the stone age live at Lollapalooza 2013"
        ],
        [
         "824180",
         "The Haka",
         "10.0",
         "1",
         "2021-04-26",
         "Based on the classic 'Football at Christmas' with a kiwi spin.",
         "0.6",
         null,
         null,
         null,
         null,
         "title: The Haka release_date: 2021-04-26 genres: NA tagline: NA keywords: NA overview: Based on the classic 'Football at Christmas' with a kiwi spin."
        ],
        [
         "1009079",
         "Robert Bresson: The Falls",
         "0.0",
         "0",
         "2019-11-22",
         "From «Les affaires publiques» to «L’ Argent».  The first film of Robert Bresson (“Les Affaires publiques”) reminds us of classic silent comedies with visual tricks and falls that aim to make the audience laugh.  Bresson never shot a comedy again. However, he kept portraying falling people and objects – now intending to provoke other feelings and thoughts.",
         "0.6",
         null,
         null,
         null,
         null,
         "title: Robert Bresson: The Falls release_date: 2019-11-22 genres: NA tagline: NA keywords: NA overview: From «Les affaires publiques» to «L’ Argent».  The first film of Robert Bresson (“Les Affaires publiques”) reminds us of classic silent comedies with visual tricks and falls that aim to make the audience laugh.  Bresson never shot a comedy again. However, he kept portraying falling people and objects – now intending to provoke other feelings and thoughts."
        ],
        [
         "1197347",
         "Digest Diversity",
         "0.0",
         "0",
         "2023-11-01",
         "Experimental short-film made by brazilian students about the trópicalia and cinema novo movement. The narrative revolves around the song Géleia Geral from the album Tropicália ou Panis Et Circensis and also around the political, artistical and social time from that period.",
         "3.842",
         "WHAT FEEDS YOU?",
         "Documentary",
         "Coletivo Marginal",
         "cinema novo, documentary, experimental, film student, documentary film",
         "title: Digest Diversity release_date: 2023-11-01 genres: Documentary tagline: WHAT FEEDS YOU? keywords: cinema novo, documentary, experimental, film student, documentary film overview: Experimental short-film made by brazilian students about the trópicalia and cinema novo movement. The narrative revolves around the song Géleia Geral from the album Tropicália ou Panis Et Circensis and also around the political, artistical and social time from that period."
        ],
        [
         "829647",
         "Tears",
         "0.0",
         "0",
         "2012-09-27",
         "Four stories are united by overlapping characters and tell about dramatic situations in the life of ordinary people, three of which lead to suicide attempts.",
         "0.6",
         null,
         "Crime, Drama",
         "Darkhan Pro Studio",
         null,
         "title: Tears release_date: 2012-09-27 genres: Crime, Drama tagline: NA keywords: NA overview: Four stories are united by overlapping characters and tell about dramatic situations in the life of ordinary people, three of which lead to suicide attempts."
        ],
        [
         "788058",
         "Der Tankwart",
         "0.0",
         "0",
         "1991-01-01",
         "A petrol pump attendant falls in love with a waitress of the service station restaurant. He manages to get the relationship started and even goes as far as buying her a new pair of shoes, but in the end fails to win her heart.",
         "0.6",
         null,
         "Romance",
         "Hochschule für Musik und darstellende Kunst, Wien",
         null,
         "title: Der Tankwart release_date: 1991-01-01 genres: Romance tagline: NA keywords: NA overview: A petrol pump attendant falls in love with a waitress of the service station restaurant. He manages to get the relationship started and even goes as far as buying her a new pair of shoes, but in the end fails to win her heart."
        ],
        [
         "992506",
         "Country Music: Live at the Ryman",
         "10.0",
         "1",
         "2019-09-08",
         "Celebrated musicians perform at Nashville's Ryman Auditorium in anticipation of the soon-to-be-released \"Country Music\" documentary series by Ken Burns. Burns, plus some of his colleagues and some musicians, act as hosts and provide a brief history of country music as they introduce each act and show sneak peek excerpts from the series in between the live performances. Many of the musicians that appear in the documentary perform to demonstrate various country music styles including Dierks Bentley, Rosanne Cash, Ketch Secor, Rhiannon Giddens, Vince Gill, Kathy Mattea, Marty Stuart, Dwight Yoakam, and more.",
         "0.6",
         "Country Music: Live at the Ryman",
         "Music",
         "Florentine Films",
         null,
         "title: Country Music: Live at the Ryman release_date: 2019-09-08 genres: Music tagline: Country Music: Live at the Ryman keywords: NA overview: Celebrated musicians perform at Nashville's Ryman Auditorium in anticipation of the soon-to-be-released \"Country Music\" documentary series by Ken Burns. Burns, plus some of his colleagues and some musicians, act as hosts and provide a brief history of country music as they introduce each act and show sneak peek excerpts from the series in between the live performances. Many of the musicians that appear in the documentary perform to demonstrate various country music styles including Dierks Bentley, Rosanne Cash, Ketch Secor, Rhiannon Giddens, Vince Gill, Kathy Mattea, Marty Stuart, Dwight Yoakam, and more."
        ],
        [
         "504013",
         "People in Tights",
         "0.0",
         "0",
         "2014-06-02",
         "An aspiring superhero, lacking powers, tries out for a real superhero team in this mockumentary.",
         "0.6",
         "The best heroes are homemade.",
         "Comedy, Documentary, Action",
         "Straight Razor Studios",
         "mockumentary, superhero team, superhero spoof",
         "title: People in Tights release_date: 2014-06-02 genres: Comedy, Documentary, Action tagline: The best heroes are homemade. keywords: mockumentary, superhero team, superhero spoof overview: An aspiring superhero, lacking powers, tries out for a real superhero team in this mockumentary."
        ],
        [
         "150808",
         "Come Fill The Cup",
         "7.0",
         "5",
         "1951-10-24",
         "Alcoholic newspaperman Lew Marsh hits bottom, loses his job and is rehabilitated by Charley Dolan. After six years on the wagon he gets his job back and devotes himself to other recovering alcoholics.",
         "1.609",
         "A man with a thirst for trouble!",
         "Drama",
         null,
         "alcoholic, newspaper man, fired from a job",
         "title: Come Fill The Cup release_date: 1951-10-24 genres: Drama tagline: A man with a thirst for trouble! keywords: alcoholic, newspaper man, fired from a job overview: Alcoholic newspaperman Lew Marsh hits bottom, loses his job and is rehabilitated by Charley Dolan. After six years on the wagon he gets his job back and devotes himself to other recovering alcoholics."
        ],
        [
         "579983",
         "The Law of Nature",
         "0.0",
         "0",
         "2019-01-29",
         "The old Finnish farmer Juha is about to retire, but still has one mission to accomplish: to sell his big, but heavily indebted dairy farm to his son Henry (26). But the young man has his own ideas, and as the economic challenges on the farm accumulate, the conflict between father and son escalates.",
         "0.6",
         null,
         "Documentary",
         "New Eyes Productions",
         null,
         "title: The Law of Nature release_date: 2019-01-29 genres: Documentary tagline: NA keywords: NA overview: The old Finnish farmer Juha is about to retire, but still has one mission to accomplish: to sell his big, but heavily indebted dairy farm to his son Henry (26). But the young man has his own ideas, and as the economic challenges on the farm accumulate, the conflict between father and son escalates."
        ],
        [
         "983565",
         "Tokyo Videos of Horror 16",
         "0.0",
         "0",
         "2017-10-03",
         "Spirits, occult, grotesque, violence, madness, bizarre incidents... Born from darkness, the darkness is about to be buried in the shivering taboo video multiple recordings of the popular series, the 16th installment!",
         "0.6",
         null,
         "Horror",
         null,
         "found footage",
         "title: Tokyo Videos of Horror 16 release_date: 2017-10-03 genres: Horror tagline: NA keywords: found footage overview: Spirits, occult, grotesque, violence, madness, bizarre incidents... Born from darkness, the darkness is about to be buried in the shivering taboo video multiple recordings of the popular series, the 16th installment!"
        ],
        [
         "647934",
         "Kaagar",
         "0.0",
         "0",
         "2019-02-14",
         "Yuvraj works for a renowned politician, Prabhakar, and falls in love with his daughter, Rani. However, a brewing political conspiracy changes the course of many lives.",
         "1.1",
         null,
         "Drama",
         null,
         null,
         "title: Kaagar release_date: 2019-02-14 genres: Drama tagline: NA keywords: NA overview: Yuvraj works for a renowned politician, Prabhakar, and falls in love with his daughter, Rani. However, a brewing political conspiracy changes the course of many lives."
        ],
        [
         "1256459",
         "Northern Minnesota's Labor Wars",
         "0.0",
         "0",
         "2017-06-15",
         "Filmmaker Gary Kaunonen of KCC-TV in International Falls just released a new documentary about a pivotal time in Northern Minnesota’s labor history. It’s called “Northern Minnesota’s Labor Wars.”  The years 1916 and 1917 brought major labor uprisings in the mines of the Mesabi Iron Range and the lumber camps of the state’s far northern pine forests. These events not only shaped local history, but became vital turning points in the national and international labor movement.",
         "0.0",
         null,
         "Documentary",
         "Minnesota Historical Society",
         "minnesota, union, labor union, iron mine, small town minnesota",
         "title: Northern Minnesota's Labor Wars release_date: 2017-06-15 genres: Documentary tagline: NA keywords: minnesota, union, labor union, iron mine, small town minnesota overview: Filmmaker Gary Kaunonen of KCC-TV in International Falls just released a new documentary about a pivotal time in Northern Minnesota’s labor history. It’s called “Northern Minnesota’s Labor Wars.”  The years 1916 and 1917 brought major labor uprisings in the mines of the Mesabi Iron Range and the lumber camps of the state’s far northern pine forests. These events not only shaped local history, but became vital turning points in the national and international labor movement."
        ]
       ],
       "shape": {
        "columns": 11,
        "rows": 500
       }
      },
      "text/html": [
       "<div>\n",
       "<style scoped>\n",
       "    .dataframe tbody tr th:only-of-type {\n",
       "        vertical-align: middle;\n",
       "    }\n",
       "\n",
       "    .dataframe tbody tr th {\n",
       "        vertical-align: top;\n",
       "    }\n",
       "\n",
       "    .dataframe thead th {\n",
       "        text-align: right;\n",
       "    }\n",
       "</style>\n",
       "<table border=\"1\" class=\"dataframe\">\n",
       "  <thead>\n",
       "    <tr style=\"text-align: right;\">\n",
       "      <th></th>\n",
       "      <th>title</th>\n",
       "      <th>vote_average</th>\n",
       "      <th>vote_count</th>\n",
       "      <th>release_date</th>\n",
       "      <th>overview</th>\n",
       "      <th>popularity</th>\n",
       "      <th>tagline</th>\n",
       "      <th>genres</th>\n",
       "      <th>production_companies</th>\n",
       "      <th>keywords</th>\n",
       "      <th>movie_details</th>\n",
       "    </tr>\n",
       "    <tr>\n",
       "      <th>id</th>\n",
       "      <th></th>\n",
       "      <th></th>\n",
       "      <th></th>\n",
       "      <th></th>\n",
       "      <th></th>\n",
       "      <th></th>\n",
       "      <th></th>\n",
       "      <th></th>\n",
       "      <th></th>\n",
       "      <th></th>\n",
       "      <th></th>\n",
       "    </tr>\n",
       "  </thead>\n",
       "  <tbody>\n",
       "    <tr>\n",
       "      <th>294176</th>\n",
       "      <td>Zwei Seiten der Liebe</td>\n",
       "      <td>5.00</td>\n",
       "      <td>1</td>\n",
       "      <td>2002-09-13</td>\n",
       "      <td>Carola and Dieter Martin have been married for...</td>\n",
       "      <td>0.600</td>\n",
       "      <td>NaN</td>\n",
       "      <td>Romance, Drama, TV Movie</td>\n",
       "      <td>ARD</td>\n",
       "      <td>NaN</td>\n",
       "      <td>title: Zwei Seiten der Liebe release_date: 200...</td>\n",
       "    </tr>\n",
       "    <tr>\n",
       "      <th>493621</th>\n",
       "      <td>Blood Circus</td>\n",
       "      <td>6.00</td>\n",
       "      <td>2</td>\n",
       "      <td>2017-12-19</td>\n",
       "      <td>A retired MMA world champion gets caught up in...</td>\n",
       "      <td>4.325</td>\n",
       "      <td>NaN</td>\n",
       "      <td>Action, Thriller</td>\n",
       "      <td>DTLA Entertainment Group, LLC, Octane Entertai...</td>\n",
       "      <td>NaN</td>\n",
       "      <td>title: Blood Circus release_date: 2017-12-19 g...</td>\n",
       "    </tr>\n",
       "    <tr>\n",
       "      <th>812289</th>\n",
       "      <td>A Fistful of Barrels</td>\n",
       "      <td>0.00</td>\n",
       "      <td>0</td>\n",
       "      <td>2006-01-02</td>\n",
       "      <td>A FISTFUL OF BARRELS is the first surf film of...</td>\n",
       "      <td>0.859</td>\n",
       "      <td>NaN</td>\n",
       "      <td>NaN</td>\n",
       "      <td>Seven Films</td>\n",
       "      <td>NaN</td>\n",
       "      <td>title: A Fistful of Barrels release_date: 2006...</td>\n",
       "    </tr>\n",
       "    <tr>\n",
       "      <th>225175</th>\n",
       "      <td>Aquila Nera</td>\n",
       "      <td>6.55</td>\n",
       "      <td>10</td>\n",
       "      <td>1946-09-21</td>\n",
       "      <td>An evil Czarist landowner had mistreated the f...</td>\n",
       "      <td>1.301</td>\n",
       "      <td>NaN</td>\n",
       "      <td>Romance, Adventure</td>\n",
       "      <td>Lux Film</td>\n",
       "      <td>NaN</td>\n",
       "      <td>title: Aquila Nera release_date: 1946-09-21 ge...</td>\n",
       "    </tr>\n",
       "    <tr>\n",
       "      <th>652722</th>\n",
       "      <td>In the Arms of an Assassin</td>\n",
       "      <td>7.98</td>\n",
       "      <td>348</td>\n",
       "      <td>2019-12-06</td>\n",
       "      <td>Victor (William Levy) is one of the world’s mo...</td>\n",
       "      <td>17.049</td>\n",
       "      <td>NaN</td>\n",
       "      <td>Romance, Thriller</td>\n",
       "      <td>NaN</td>\n",
       "      <td>NaN</td>\n",
       "      <td>title: In the Arms of an Assassin release_date...</td>\n",
       "    </tr>\n",
       "    <tr>\n",
       "      <th>...</th>\n",
       "      <td>...</td>\n",
       "      <td>...</td>\n",
       "      <td>...</td>\n",
       "      <td>...</td>\n",
       "      <td>...</td>\n",
       "      <td>...</td>\n",
       "      <td>...</td>\n",
       "      <td>...</td>\n",
       "      <td>...</td>\n",
       "      <td>...</td>\n",
       "      <td>...</td>\n",
       "    </tr>\n",
       "    <tr>\n",
       "      <th>640450</th>\n",
       "      <td>Brouillard #13</td>\n",
       "      <td>0.00</td>\n",
       "      <td>0</td>\n",
       "      <td>2013-01-01</td>\n",
       "      <td>A colour reversal film shot on 35mm.</td>\n",
       "      <td>0.600</td>\n",
       "      <td>NaN</td>\n",
       "      <td>NaN</td>\n",
       "      <td>NaN</td>\n",
       "      <td>NaN</td>\n",
       "      <td>title: Brouillard #13 release_date: 2013-01-01...</td>\n",
       "    </tr>\n",
       "    <tr>\n",
       "      <th>1327857</th>\n",
       "      <td>Среди мертвых, среди живых</td>\n",
       "      <td>0.00</td>\n",
       "      <td>0</td>\n",
       "      <td>2024-09-06</td>\n",
       "      <td>Not far from the Great Patriotic War burial si...</td>\n",
       "      <td>0.000</td>\n",
       "      <td>NaN</td>\n",
       "      <td>Documentary</td>\n",
       "      <td>NaN</td>\n",
       "      <td>NaN</td>\n",
       "      <td>title: Среди мертвых, среди живых release_date...</td>\n",
       "    </tr>\n",
       "    <tr>\n",
       "      <th>385690</th>\n",
       "      <td>Lord Tokugawa Ieyasu</td>\n",
       "      <td>8.50</td>\n",
       "      <td>2</td>\n",
       "      <td>1965-01-03</td>\n",
       "      <td>In turbulent 16th-century Japan, the leaders o...</td>\n",
       "      <td>1.487</td>\n",
       "      <td>NaN</td>\n",
       "      <td>Drama</td>\n",
       "      <td>Toei Company</td>\n",
       "      <td>samurai, hostage, feudal japan</td>\n",
       "      <td>title: Lord Tokugawa Ieyasu release_date: 1965...</td>\n",
       "    </tr>\n",
       "    <tr>\n",
       "      <th>729250</th>\n",
       "      <td>Bananarama: Live At The London Eventim Hammers...</td>\n",
       "      <td>9.00</td>\n",
       "      <td>1</td>\n",
       "      <td>2018-09-14</td>\n",
       "      <td>They were the girl group that defined the 80s....</td>\n",
       "      <td>0.600</td>\n",
       "      <td>NaN</td>\n",
       "      <td>Music</td>\n",
       "      <td>PledgeMusic</td>\n",
       "      <td>NaN</td>\n",
       "      <td>title: Bananarama: Live At The London Eventim ...</td>\n",
       "    </tr>\n",
       "    <tr>\n",
       "      <th>956160</th>\n",
       "      <td>Baghdad Messi</td>\n",
       "      <td>0.00</td>\n",
       "      <td>0</td>\n",
       "      <td>2023-08-03</td>\n",
       "      <td>The talented Hamoudi is an 11-year-old boy wit...</td>\n",
       "      <td>0.600</td>\n",
       "      <td>NaN</td>\n",
       "      <td>Drama</td>\n",
       "      <td>NaN</td>\n",
       "      <td>NaN</td>\n",
       "      <td>title: Baghdad Messi release_date: 2023-08-03 ...</td>\n",
       "    </tr>\n",
       "  </tbody>\n",
       "</table>\n",
       "<p>500 rows × 11 columns</p>\n",
       "</div>"
      ],
      "text/plain": [
       "                                                     title  vote_average  \\\n",
       "id                                                                         \n",
       "294176                               Zwei Seiten der Liebe          5.00   \n",
       "493621                                        Blood Circus          6.00   \n",
       "812289                                A Fistful of Barrels          0.00   \n",
       "225175                                         Aquila Nera          6.55   \n",
       "652722                          In the Arms of an Assassin          7.98   \n",
       "...                                                    ...           ...   \n",
       "640450                                      Brouillard #13          0.00   \n",
       "1327857                         Среди мертвых, среди живых          0.00   \n",
       "385690                                Lord Tokugawa Ieyasu          8.50   \n",
       "729250   Bananarama: Live At The London Eventim Hammers...          9.00   \n",
       "956160                                       Baghdad Messi          0.00   \n",
       "\n",
       "         vote_count release_date  \\\n",
       "id                                 \n",
       "294176            1   2002-09-13   \n",
       "493621            2   2017-12-19   \n",
       "812289            0   2006-01-02   \n",
       "225175           10   1946-09-21   \n",
       "652722          348   2019-12-06   \n",
       "...             ...          ...   \n",
       "640450            0   2013-01-01   \n",
       "1327857           0   2024-09-06   \n",
       "385690            2   1965-01-03   \n",
       "729250            1   2018-09-14   \n",
       "956160            0   2023-08-03   \n",
       "\n",
       "                                                  overview  popularity  \\\n",
       "id                                                                       \n",
       "294176   Carola and Dieter Martin have been married for...       0.600   \n",
       "493621   A retired MMA world champion gets caught up in...       4.325   \n",
       "812289   A FISTFUL OF BARRELS is the first surf film of...       0.859   \n",
       "225175   An evil Czarist landowner had mistreated the f...       1.301   \n",
       "652722   Victor (William Levy) is one of the world’s mo...      17.049   \n",
       "...                                                    ...         ...   \n",
       "640450                A colour reversal film shot on 35mm.       0.600   \n",
       "1327857  Not far from the Great Patriotic War burial si...       0.000   \n",
       "385690   In turbulent 16th-century Japan, the leaders o...       1.487   \n",
       "729250   They were the girl group that defined the 80s....       0.600   \n",
       "956160   The talented Hamoudi is an 11-year-old boy wit...       0.600   \n",
       "\n",
       "        tagline                    genres  \\\n",
       "id                                          \n",
       "294176      NaN  Romance, Drama, TV Movie   \n",
       "493621      NaN          Action, Thriller   \n",
       "812289      NaN                       NaN   \n",
       "225175      NaN        Romance, Adventure   \n",
       "652722      NaN         Romance, Thriller   \n",
       "...         ...                       ...   \n",
       "640450      NaN                       NaN   \n",
       "1327857     NaN               Documentary   \n",
       "385690      NaN                     Drama   \n",
       "729250      NaN                     Music   \n",
       "956160      NaN                     Drama   \n",
       "\n",
       "                                      production_companies  \\\n",
       "id                                                           \n",
       "294176                                                 ARD   \n",
       "493621   DTLA Entertainment Group, LLC, Octane Entertai...   \n",
       "812289                                         Seven Films   \n",
       "225175                                            Lux Film   \n",
       "652722                                                 NaN   \n",
       "...                                                    ...   \n",
       "640450                                                 NaN   \n",
       "1327857                                                NaN   \n",
       "385690                                        Toei Company   \n",
       "729250                                         PledgeMusic   \n",
       "956160                                                 NaN   \n",
       "\n",
       "                               keywords  \\\n",
       "id                                        \n",
       "294176                              NaN   \n",
       "493621                              NaN   \n",
       "812289                              NaN   \n",
       "225175                              NaN   \n",
       "652722                              NaN   \n",
       "...                                 ...   \n",
       "640450                              NaN   \n",
       "1327857                             NaN   \n",
       "385690   samurai, hostage, feudal japan   \n",
       "729250                              NaN   \n",
       "956160                              NaN   \n",
       "\n",
       "                                             movie_details  \n",
       "id                                                          \n",
       "294176   title: Zwei Seiten der Liebe release_date: 200...  \n",
       "493621   title: Blood Circus release_date: 2017-12-19 g...  \n",
       "812289   title: A Fistful of Barrels release_date: 2006...  \n",
       "225175   title: Aquila Nera release_date: 1946-09-21 ge...  \n",
       "652722   title: In the Arms of an Assassin release_date...  \n",
       "...                                                    ...  \n",
       "640450   title: Brouillard #13 release_date: 2013-01-01...  \n",
       "1327857  title: Среди мертвых, среди живых release_date...  \n",
       "385690   title: Lord Tokugawa Ieyasu release_date: 1965...  \n",
       "729250   title: Bananarama: Live At The London Eventim ...  \n",
       "956160   title: Baghdad Messi release_date: 2023-08-03 ...  \n",
       "\n",
       "[500 rows x 11 columns]"
      ]
     },
     "execution_count": 17,
     "metadata": {},
     "output_type": "execute_result"
    }
   ],
   "source": [
    "sample = pd.read_csv('data/movie_dataset_sample.csv', index_col = 'id')\n",
    "sample"
   ]
  },
  {
   "cell_type": "code",
   "execution_count": 78,
   "id": "8dbb0dcb",
   "metadata": {},
   "outputs": [],
   "source": [
    "import importlib\n",
    "import movie_bot\n",
    "importlib.reload(movie_bot)\n",
    "from movie_bot import MovieBot, genai, aiplatform"
   ]
  },
  {
   "cell_type": "code",
   "execution_count": 79,
   "id": "9344c988",
   "metadata": {},
   "outputs": [],
   "source": [
    "bot = MovieBot(\n",
    "    name = \"WhatMovieBot\",\n",
    "    movies_df = sample,\n",
    "    client = client,\n",
    "    index_endpoint_id = INDEX_ENDPOINT_ID,\n",
    "    deployed_index_id = DEPLOYED_INDEX_ID\n",
    ")"
   ]
  },
  {
   "cell_type": "code",
   "execution_count": 80,
   "id": "9371e3f4",
   "metadata": {},
   "outputs": [
    {
     "data": {
      "text/plain": [
       "[MatchNeighbor(id='1272495', distance=0.5746860504150391, sparse_distance=0.11352577060461044, feature_vector=[], crowding_tag='0', restricts=[], numeric_restricts=[], sparse_embedding_values=[], sparse_embedding_dimensions=[]),\n",
       " MatchNeighbor(id='732092', distance=0.0, sparse_distance=0.19268135726451874, feature_vector=[], crowding_tag='', restricts=[], numeric_restricts=[], sparse_embedding_values=[], sparse_embedding_dimensions=[]),\n",
       " MatchNeighbor(id='289049', distance=0.6173749566078186, sparse_distance=None, feature_vector=[], crowding_tag='0', restricts=[], numeric_restricts=[], sparse_embedding_values=[], sparse_embedding_dimensions=[]),\n",
       " MatchNeighbor(id='844463', distance=0.0, sparse_distance=0.13605013489723206, feature_vector=[], crowding_tag='', restricts=[], numeric_restricts=[], sparse_embedding_values=[], sparse_embedding_dimensions=[]),\n",
       " MatchNeighbor(id='703536', distance=0.5874407291412354, sparse_distance=None, feature_vector=[], crowding_tag='0', restricts=[], numeric_restricts=[], sparse_embedding_values=[], sparse_embedding_dimensions=[]),\n",
       " MatchNeighbor(id='389835', distance=0.0, sparse_distance=0.13222303986549377, feature_vector=[], crowding_tag='', restricts=[], numeric_restricts=[], sparse_embedding_values=[], sparse_embedding_dimensions=[]),\n",
       " MatchNeighbor(id='382899', distance=0.5629401206970215, sparse_distance=None, feature_vector=[], crowding_tag='0', restricts=[], numeric_restricts=[], sparse_embedding_values=[], sparse_embedding_dimensions=[]),\n",
       " MatchNeighbor(id='1390690', distance=0.0, sparse_distance=0.11512061953544617, feature_vector=[], crowding_tag='', restricts=[], numeric_restricts=[], sparse_embedding_values=[], sparse_embedding_dimensions=[]),\n",
       " MatchNeighbor(id='813760', distance=0.0, sparse_distance=0.11430028080940247, feature_vector=[], crowding_tag='', restricts=[], numeric_restricts=[], sparse_embedding_values=[], sparse_embedding_dimensions=[]),\n",
       " MatchNeighbor(id='544102', distance=0.5582319498062134, sparse_distance=None, feature_vector=[], crowding_tag='0', restricts=[], numeric_restricts=[], sparse_embedding_values=[], sparse_embedding_dimensions=[])]"
      ]
     },
     "execution_count": 80,
     "metadata": {},
     "output_type": "execute_result"
    }
   ],
   "source": [
    "search_results = bot.query_movie_index(\"German movie based on the book One Million Minutes: What My Daughter Taught Me About Time\")\n",
    "search_results"
   ]
  },
  {
   "cell_type": "code",
   "execution_count": 81,
   "id": "b798e12d",
   "metadata": {},
   "outputs": [
    {
     "data": {
      "application/vnd.microsoft.datawrangler.viewer.v0+json": {
       "columns": [
        {
         "name": "index",
         "rawType": "object",
         "type": "string"
        },
        {
         "name": "1272495",
         "rawType": "object",
         "type": "unknown"
        }
       ],
       "ref": "297c319e-9d3f-49ec-9fa0-c623801c585d",
       "rows": [
        [
         "title",
         "Million Moments"
        ],
        [
         "vote_average",
         "0.0"
        ],
        [
         "vote_count",
         "0"
        ],
        [
         "release_date",
         "2024-04-28"
        ],
        [
         "overview",
         "to be announced"
        ],
        [
         "popularity",
         "0.0"
        ],
        [
         "tagline",
         null
        ],
        [
         "genres",
         null
        ],
        [
         "production_companies",
         null
        ],
        [
         "keywords",
         null
        ],
        [
         "movie_details",
         "title: Million Moments release_date: 2024-04-28 genres: NA tagline: NA keywords: NA overview: to be announced"
        ]
       ],
       "shape": {
        "columns": 1,
        "rows": 11
       }
      },
      "text/plain": [
       "title                                                     Million Moments\n",
       "vote_average                                                          0.0\n",
       "vote_count                                                              0\n",
       "release_date                                                   2024-04-28\n",
       "overview                                                  to be announced\n",
       "popularity                                                            0.0\n",
       "tagline                                                               NaN\n",
       "genres                                                                NaN\n",
       "production_companies                                                  NaN\n",
       "keywords                                                              NaN\n",
       "movie_details           title: Million Moments release_date: 2024-04-2...\n",
       "Name: 1272495, dtype: object"
      ]
     },
     "execution_count": 81,
     "metadata": {},
     "output_type": "execute_result"
    }
   ],
   "source": [
    "sample.loc[1272495]"
   ]
  },
  {
   "cell_type": "code",
   "execution_count": null,
   "id": "5ed9a04f",
   "metadata": {},
   "outputs": [
    {
     "data": {
      "text/plain": [
       "'Based on the description, I believe the movie you\\'re referring to is **One Million Minutes**. While the search results provide a movie called \"Million Moments\", the book title in your description directly points to *One Million Minutes*.'"
      ]
     },
     "execution_count": 74,
     "metadata": {},
     "output_type": "execute_result"
    }
   ],
   "source": [
    "bot_response = bot.prompt(\"German movie based on the book One Million Minutes: What My Daughter Taught Me About Time\")\n",
    "display(Markdown(bot_response))"
   ]
  },
  {
   "cell_type": "code",
   "execution_count": 75,
   "id": "b5115b61",
   "metadata": {},
   "outputs": [
    {
     "data": {
      "text/markdown": [
       "Based on the description, I believe the movie you're referring to is **One Million Minutes**. While the search results provide a movie called \"Million Moments\", the book title in your description directly points to *One Million Minutes*."
      ],
      "text/plain": [
       "<IPython.core.display.Markdown object>"
      ]
     },
     "metadata": {},
     "output_type": "display_data"
    }
   ],
   "source": [
    "display(Markdown(bot_response))"
   ]
  }
 ],
 "metadata": {
  "kernelspec": {
   "display_name": "Python (data_analytics)",
   "language": "python",
   "name": "data_analytics"
  },
  "language_info": {
   "codemirror_mode": {
    "name": "ipython",
    "version": 3
   },
   "file_extension": ".py",
   "mimetype": "text/x-python",
   "name": "python",
   "nbconvert_exporter": "python",
   "pygments_lexer": "ipython3",
   "version": "3.12.9"
  }
 },
 "nbformat": 4,
 "nbformat_minor": 5
}
