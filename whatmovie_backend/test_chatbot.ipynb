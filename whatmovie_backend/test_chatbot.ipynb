{
 "cells": [
  {
   "cell_type": "markdown",
   "id": "168e22d1",
   "metadata": {},
   "source": [
    "# Testing whatmovie chatbot code"
   ]
  },
  {
   "cell_type": "markdown",
   "id": "c7ffb7cf",
   "metadata": {},
   "source": [
    "## Setup"
   ]
  },
  {
   "cell_type": "code",
   "execution_count": 1,
   "id": "ce00f718",
   "metadata": {},
   "outputs": [
    {
     "name": "stdout",
     "output_type": "stream",
     "text": [
      "BigQuery client initialized.\n",
      "GenAI client initialized.\n",
      "MovieChat instance created.\n"
     ]
    }
   ],
   "source": [
    "# Inbuild python packages\n",
    "import os\n",
    "import json\n",
    "\n",
    "# Data manipulation packages\n",
    "import pandas as pd\n",
    "\n",
    "# MovieBot class and GCP AI packages\n",
    "from whatmovie_api.views import MovieChat, genai\n",
    "from google.cloud import bigquery"
   ]
  },
  {
   "cell_type": "code",
   "execution_count": 2,
   "id": "d22485e8",
   "metadata": {},
   "outputs": [
    {
     "name": "stdout",
     "output_type": "stream",
     "text": [
      "Project ID: synthetic-diode-459014-v9\n",
      "Region: europe-west1\n"
     ]
    }
   ],
   "source": [
    "# Load GCP project info from config.json\n",
    "config_path = os.path.join(os.getcwd(), 'config.json')\n",
    "with open(config_path, 'r') as f:\n",
    "    config = json.load(f)\n",
    "\n",
    "# Initialise constants\n",
    "PROJECT_ID = config['PROJECT_ID']\n",
    "LOCATION = config['LOCATION']\n",
    "\n",
    "# Initialize Vertex AI, Gemini SDK and BigQuery\n",
    "genai_client = genai.Client(vertexai = True, project = PROJECT_ID, location = LOCATION)\n",
    "bq_client = bigquery.Client()\n",
    "\n",
    "\n",
    "print(f\"Project ID: {PROJECT_ID}\")\n",
    "print(f\"Region: {LOCATION}\")"
   ]
  },
  {
   "cell_type": "code",
   "execution_count": 3,
   "id": "2e175efe",
   "metadata": {},
   "outputs": [
    {
     "data": {
      "text/plain": [
       "'Okay, while there isn\\'t one *perfectly* matching this description, the closest and most likely film you\\'re thinking of is:\\n\\n*   **\"Bullet Head\"** (Spanish: *El Matadero*) - This movie does not quite meet your description, however it involves a woman, a hired assassin, and a drug dealer/trafficker.\\n\\nIt\\'s possible that elements from multiple films are blending together in your memory, or that you\\'re thinking of a less well-known independent film.\\n\\nLet me know if any of these ring a bell, or if you can remember any other details.\\n'"
      ]
     },
     "metadata": {},
     "output_type": "display_data"
    }
   ],
   "source": [
    "prompt = \"Spanish movie about a woman who is saved from a drug dealer by an assassin who falls in love with her\"\n",
    "\n",
    "response = genai_client.models.generate_content(model = \"gemini-2.0-flash-001\", contents = prompt)\n",
    "display(response.text)"
   ]
  },
  {
   "cell_type": "markdown",
   "id": "a9376918",
   "metadata": {},
   "source": [
    "## Testing chatbot"
   ]
  },
  {
   "cell_type": "code",
   "execution_count": 10,
   "id": "8dbb0dcb",
   "metadata": {},
   "outputs": [
    {
     "name": "stdout",
     "output_type": "stream",
     "text": [
      "BigQuery client initialized.\n",
      "GenAI client initialized.\n",
      "MovieChat instance created.\n"
     ]
    }
   ],
   "source": [
    "import importlib\n",
    "import whatmovie_api.views\n",
    "importlib.reload(whatmovie_api.views)\n",
    "from whatmovie_api.views import MovieChat, genai, bigquery\n",
    "\n",
    "chat = MovieChat(\n",
    "    genai_client = genai_client,\n",
    "    bq_client = bq_client,\n",
    ")"
   ]
  },
  {
   "cell_type": "code",
   "execution_count": 5,
   "id": "9371e3f4",
   "metadata": {},
   "outputs": [
    {
     "data": {
      "application/vnd.microsoft.datawrangler.viewer.v0+json": {
       "columns": [
        {
         "name": "index",
         "rawType": "int64",
         "type": "integer"
        },
        {
         "name": "movie_id",
         "rawType": "Int64",
         "type": "integer"
        },
        {
         "name": "movie_details",
         "rawType": "object",
         "type": "string"
        },
        {
         "name": "rank",
         "rawType": "int64",
         "type": "integer"
        }
       ],
       "ref": "03531a5f-e23e-42ce-bc98-4aa955cf9a95",
       "rows": [
        [
         "0",
         "1184695",
         "title: Shades of Paradise release_date: 2018-05-14 genres: Crime, Romance tagline: Diamonds are forever. Lovers are temporary. keywords: NA overview: After pulling a diamond heist in Barcelona, four young criminals find themselves in a mess of betrayal, violence, and heartbreak.",
         "1"
        ],
        [
         "1",
         "417940",
         "title: Verdades y mentiras release_date: 2014-10-24 genres: Thriller, Drama tagline: NA keywords: NA overview: One night, a beautiful young woman is brought to the police headquarters on suspicion of murder. Through a detective's interrogation, in the presence of an attorney, her attachment to sexual activities arranged online is discovered.",
         "2"
        ],
        [
         "2",
         "270800",
         "title: For Amor release_date: 2007-02-13 genres: Drama tagline: NA keywords: NA overview: Despite having a loving wife, a fulfilling career and a great house, successful businessman Santiago risks it all when he has an affair with a beautiful stranger during a work trip to Mexico.",
         "3"
        ],
        [
         "3",
         "584669",
         "title: Mi memoria carmesí release_date: 2014-07-01 genres: NA tagline: NA keywords: NA overview: It is the beginning of a love story between a groupie and a contract killer who cross one night by chance in a hotel room where the two are staying.",
         "4"
        ],
        [
         "4",
         "833908",
         "title: Alevosía release_date: 2017-09-15 genres: Drama tagline: NA keywords: NA overview: Fernando, worried that his wife, Veronica, has not arrived since last night, calls his friend Maximiliano desperate. He reassures him with absolute treachery, since the woman who sleeps at his side is Veronica.",
         "5"
        ],
        [
         "5",
         "337537",
         "title: Suenos de Pasion Infidelidad Mortal release_date: 2014-11-23 genres: NA tagline: NA keywords: NA overview: A Corporate magnate is about to go bankrupt if he doesn't pay quickly a very hefty sum. He won't stop until he can murder his wife, so that he can cash on her inheritance, and thus save his commercial empire.",
         "6"
        ],
        [
         "6",
         "815509",
         "title: I Give You My Life release_date: 2013-12-31 genres: Romance, Drama tagline: NA keywords: NA overview: Fermín intends to kill Fausto, who is his boss, but Matilde thwarts his plans. Soon, Fausto and Matilde realize they are in love with each other.",
         "7"
        ],
        [
         "7",
         "526038",
         "title: Morir de amor release_date: 2018-02-04 genres: Drama tagline: NA keywords: NA overview: In Los Angeles, Beatriz, a young working woman, lives a self-destructive relationship with a heroin addict who is willing to pay any price to cover his need to get high. For his part, in the city of Guadalajara, Alejandro Maldonado, maintains a codependent relationship in a marriage that has exceeded the limit of what is tolerable with his wife Olga; an unsatisfied woman, who eagerly looks for men to satisfy her addiction to sex. When the lives of these characters intersect, an exit to their conflicts is visualized in the search for specialized help.",
         "8"
        ],
        [
         "8",
         "815476",
         "title: Me dicen el mecha corta release_date: 2014-12-31 genres: Drama tagline: NA keywords: NA overview: Humberto sees the woman he thought was dead coming out of a house with her lover and trying to steal an inheritance.",
         "9"
        ],
        [
         "9",
         "80175",
         "title: Entre sábanas release_date: 2008-04-04 genres: Drama, Romance tagline: Two strangers, an hotel room, the game of seduction begins keywords: hotel room, sex overview: A woman takes a man she just met at a nightclub to a hotel, so they can have a one-night stand, but things start to get complicated when he asks her to spend the night with him so they can have a chance to know about each other between the sheets.",
         "10"
        ],
        [
         "10",
         "1038013",
         "title: Enredados La Confusión release_date: 2018-02-01 genres: NA tagline: NA keywords: NA overview: John, in a mid of millionaire robbery, meets the love of his life, Ana. But now he has to choose between money and love. He chooses love and decides to return the money but the confusion starts with an accident, which happens on the way",
         "11"
        ],
        [
         "11",
         "371303",
         "title: Amor tóxico release_date: 2015-11-09 genres: Thriller, Drama, Horror, Romance tagline: NA keywords: date, madness overview: A young man racks up a series of disastrous first dates, until he spends the night with an unconventional young woman who upends his life.",
         "12"
        ],
        [
         "12",
         "577154",
         "title: ¡He matado a mi marido! release_date: 2018-04-13 genres: Comedy, Romance, Crime tagline: NA keywords: NA overview: A desperate woman accidentally murders her unfaithful husband the morning of a big party honoring his recent Pritzker Prize, now she must survive the pain of heartbreak and a night of celebration, without being found out.",
         "13"
        ],
        [
         "13",
         "400013",
         "title: Fragments of Love release_date: 2016-04-15 genres: Romance, Drama tagline: the greatest perversion of love is wanting to know everything keywords: NA overview: Rodrigo, a piano-tuner and former composer fallen on hard times, begins a love affair with the soon-to-be-married Susana. When a bomb in the city of Medellín nearly kills them, Rodrigo and Susana surrender to their attraction and fall into each other’s arms. Cocooned in her apartment above the vibrant city, Susana opens up to him every night and tells him a story of each of the different men from her past. Her stories inspire him to compose again, but his obsession makes him jealous and paranoid. When Susana finally leaves her fiancée to be with Rodrigo, he becomes obsessed with her fidelity.",
         "14"
        ],
        [
         "14",
         "586521",
         "title: Juanita release_date: 2018-12-27 genres: Comedy, Drama tagline: They could not help themselves. It is their nature. keywords: beach, jealousy, taxi driver, christmas party, domestic violence, undocumented immigrant, farmer, grocery store, christmas, street thug, burying a dead animal overview: An illegal Dominican immigrant and a lonely Spanish farmer start a love affair. Juanita and Mariano, who in Spain clung to each other like two castaways to a raft, will try not to drown in Santo Domingo this Christmas.",
         "15"
        ],
        [
         "15",
         "292548",
         "title: La Enamorada release_date: 2012-11-19 genres: Drama tagline: NA keywords: NA overview: Victoria is a taciturn and shabby young woman who walks around collecting herbs from the forest. She is homeless and sleeps in the open air. She believes in God and has kept her virginity. A young doctor called Juan Bautista, who suffers from chronic migraine, arrives in town to write his thesis on neurosurgery. Victoria falls in love with the doctor from the start. She asks help from her two-faced friend Malena who embellishes her. Malena even gives Victoria a new wardrobe and make-up. Victoria manages to be hired as the doctor's maid. Victoria makes an attempt to get closer to Juan Bautista supplying him with some herbs for his migraine trying to seduce him and to show her love for him.",
         "16"
        ],
        [
         "16",
         "415800",
         "title: Barcelona: A Love Untold release_date: 2016-09-14 genres: Drama, Romance tagline: NA keywords: philippines, woman director overview: Ely, a young man who can't get over Celine, his past love, meets Mia, a young woman who escaped from a painful past in the Philippines and is trying her luck to rebuild her life in Spain. They meet. They fall in love. But can they overcome the hurt of the past to have a future together?",
         "17"
        ],
        [
         "17",
         "96438",
         "title: Crimes of Passion release_date: 2011-01-25 genres: Drama, Thriller, Romance tagline: NA keywords: NA overview: Arturo Bolaño is a mediocre insurance salesman who loves women, booze and any short cut he can find to Easy Street. He thinks he's found it with the beautiful Rebeca Solis, the wife of the owner of the hotel where he stays on business. Rebeca wants nothing more than to escape from her husband and after Arturo falls in love, she asks him to help her get rid of him. The plan goes without a hitch but just as they think they are going to get away with murder, they receive an anonymous letter from a witness to the crime.",
         "18"
        ],
        [
         "18",
         "236737",
         "title: Spanish Affair release_date: 2014-03-14 genres: Comedy, Romance tagline: NA keywords: culture clash, fisherman, independence movement, romantic comedy, deception, basque country, spain, donostia-san sebastian, spain, fish out of water, misunderstanding, seville, spain, andalucia, zumaia, ethnocentrism, jilted woman, oral basque improvisation, farce overview: Rafael, a Seville citizen who has never left the Spanish region of Andalucia, decides to leave his homeland to follow Amaia, a Basque girl unlike other women he has known.",
         "19"
        ],
        [
         "19",
         "225555",
         "title: Por amor en el caserío release_date: 2013-11-26 genres: Romance, Drama, Action tagline: NA keywords: NA overview: A story inspired by the legacy of William Shakespare and the classic Romeo and Juliet. Cristal and Ángelo fall in love amid a life full of violence, drugs, and social deterioration. Their families lead opposing drug gangs within the community where they live. Can Cristal's and Ángelo's love overcome the negative environment around them?",
         "20"
        ],
        [
         "20",
         "334063",
         "title: S de Sofia release_date: 2014-05-23 genres: Crime tagline: NA keywords: NA overview: Sofia, a extremely mysterious and attractive girl, seduces Bianca to take her to her own place in a night of love. However, Sofia has much more dangerous intentions than Bianca can imagine.",
         "21"
        ],
        [
         "21",
         "1258261",
         "title: Romance .38 release_date: 2008-08-06 genres: Crime tagline: NA keywords: NA overview: Jorge is a writer trying to finish his first novel with the help of his girlfriend. But she doesn't know how real is the fiction of his book.",
         "22"
        ],
        [
         "22",
         "700196",
         "title: De Puta Madre: A Love Story release_date: 2014-03-20 genres: Comedy, Drama tagline: You can't be a hostage to love keywords: NA overview: An idyllic picnic turns dangerous, forcing a kidnapped woman to struggle with her delusional ex-lover in a surreal exploration of love, obsession, and letting go.",
         "23"
        ],
        [
         "23",
         "406268",
         "title: El Florista release_date: 2014-11-22 genres: Comedy, Romance tagline: NA keywords: NA overview: How a distraction can unchain domino-effect consequences and affect the life of a number of people.",
         "24"
        ],
        [
         "24",
         "529730",
         "title: Love and Death in the Afternoon release_date: 2016-10-12 genres: Drama tagline: NA keywords: NA overview: About the death of filmmaker Eckhart Schmidt, told from the perspective of a Mexican girl in Culiacan, Sinaloa. She is 16, she needs the money and so she becomes the Maestra of the stranger who is at least three times her age.",
         "25"
        ],
        [
         "25",
         "1050649",
         "title: Amor maldito release_date: 2017-01-01 genres: Drama tagline: NA keywords: NA overview: The story of a man who is on the run because he is accused of murdering a woman and has to do everything possible to prove his innocence and deal with those who want to hunt him down.",
         "26"
        ],
        [
         "26",
         "620019",
         "title: Una mujer sucede release_date: 2012-11-22 genres: Drama tagline: NA keywords: NA overview: In an inland village, on a rainy night, the wake of a woman whose name is unknown takes place. There is only one mourner and two more men, attracted by destiny. During the night, like a game of cards, the identity of this woman who, according to them, once belonged to them and never saw again will be revealed.",
         "27"
        ],
        [
         "27",
         "757167",
         "title: Una mujer completa release_date: 2020-10-23 genres: Drama tagline: NA keywords: infidelity, age difference, breast cancer, prostitution, lgbt overview: Berta and Hugo are two strangers who find each other in a hotel room. Their lives have nothing in common... but they are closer than they appear.",
         "28"
        ],
        [
         "28",
         "406901",
         "title: La prisionera release_date: 2005-01-01 genres: NA tagline: NA keywords: NA overview: Two women fall in love with the same man.",
         "29"
        ],
        [
         "29",
         "853166",
         "title: Una Historia de Amor Funebre release_date: 2021-01-01 genres: NA tagline: NA keywords: NA overview: Amelia and Camilo are engaged to be married and vow to love each other forever, but their plans are unexpectedly thwarted when she dies in a freak accident.  Three years have passed and now he and his new girlfriend Amanda have planned a new future for both of them. However, their aspirations will be frustrated when they are kidnapped in an abandoned house by a trio of criminals. During the night mysterious events begin to take place and both the captors and their hostages begin to suspect that they are not alone in the lair.  This film is a great satire of love triangles, passion, disappointments, honesty, tenderness and revenge ...  A love story that survives beyond death.",
         "30"
        ],
        [
         "30",
         "820116",
         "title: Una mujer release_date: 2017-04-08 genres: NA tagline: NA keywords: NA overview: Gabriela returns to Bogota after a long trip. She meets with an old friend, Javier, who routes her to Felipe, Gabriela's past lover. Felipe now lives with his son and a new girlfriend. Gabriela has returned determined to get what she wants.",
         "31"
        ],
        [
         "31",
         "510492",
         "title: El beneficio de la duda release_date: 2015-11-19 genres: Thriller tagline: NA keywords: NA overview: A woman who after a long wait and many sacrifices ultimately finds doors opening  a new stage with  he man she loves, so she can finally say goodbye to her lover role and form the family she craves.",
         "32"
        ],
        [
         "32",
         "815979",
         "title: Amante por excelencia release_date: 2015-12-31 genres: Drama tagline: NA keywords: sex overview: Marco is a handsome man with an peculiar job: pleasing women who are willing to pay for his services. When Jenny, an upper-class woman tired of her marriage, meets Marco by chance, his life is in danger.",
         "33"
        ],
        [
         "33",
         "547906",
         "title: El Fin Del Mundo release_date: 2016-11-01 genres: Drama tagline: NA keywords: NA overview: Two lovers are forced to split up after they scam the wrong people.",
         "34"
        ],
        [
         "34",
         "335181",
         "title: Morir Soñando release_date: 2015-05-01 genres: NA tagline: NA keywords: NA overview: Vincent and Isabella experience instant attraction when they meet, but their life falls in danger when he accepts a job from the mafia to transport a sum of money.",
         "35"
        ],
        [
         "35",
         "501881",
         "title: Love Love release_date: 2017-05-10 genres: Romance tagline: NA keywords: NA overview: Marta and Jorge have been a couple for seven years. All their friends think they are living a perfect romance. Too perfect, perhaps, for the despair of all: Bruno, who is much younger than Marta but madly in love with her; Lígia, who is Bruno's sister and Marta's best friend and would love to see her brother happy; Carlos, Jorge's friend, who maintains a superficial romance with Lígia while secretly in love with Marta; and for Jorge himself, who is afraid this idyllic romance will imprison him and, convinced that his love and his lover's desire to marry will take away his freedom, decides to show her the way into Carlos arms.",
         "36"
        ],
        [
         "36",
         "815420",
         "title: The Elevator release_date: 2014-12-31 genres: Romance, Drama tagline: NA keywords: NA overview: When Rodrigo meets María Luisa, he realizes they have very different personalities. As time moves forward, an unfortunate event makes them fall in love with each other.",
         "37"
        ],
        [
         "37",
         "257741",
         "title: Flower of Seduction release_date: 2009-10-01 genres: Thriller tagline: NA keywords: NA overview: Malena is an attractive woman, psychoanalyst of profession and tango dancer by devotion. One night she kills accidentally a man and decides to hide her crime. Days after, she sees in the news the man’s wife and little daughter: he was a policeman. In her plan, Malena meets Carlos, work companion of the dead policeman who is investigating his disappearance. He is of Vasc origin and they call him “the Sabina,” because sometimes he answers using phrases of the songs of the artist. A strange fascination captures Malena with “the Sabina,” the man who has to discover the crime she committed and take her to prison. Since the beginning, the relationship between them is passionate and transgressor, without moral limits.",
         "38"
        ],
        [
         "38",
         "436257",
         "title: Caída del cielo release_date: 2016-05-12 genres: Romance, Comedy tagline: NA keywords: NA overview: Alejandro is on his patio and a woman's body falls down next to him. It's Julia and she is alive. Julia lives in the apartment just above Alejandro's, and from now on, these two phobic characters begin to connect their lonely lives.",
         "39"
        ],
        [
         "39",
         "593945",
         "title: Mujeres infieles 5 release_date: 2018-01-01 genres: Drama tagline: NA keywords: infidelity overview: The romance between a film director and an ambitious actress who wants to shine on the screens no matter the price. Everything gets complicated after a night of drugs, alcohol and a mysterious disappearance.",
         "40"
        ],
        [
         "40",
         "529218",
         "title: Coward Love release_date: 2018-09-14 genres: Drama, Romance tagline: Love's made for brave people. keywords: romance overview: Eva is a young and independent cartoonist who returns to Málaga (Spain) to spend the summer holidays. There she meets her mother and Gema, her best friend. What she does not expect is to meet again with Rubén, her old boyfriend, with whom she has not had any contact since he broke off all relations with her unexpectedly, without farewells, six years ago. Eva will have to think about whether to give Rubén a second chance while she remembers her past, as well as the reason why the young man decided to get away from her.",
         "41"
        ],
        [
         "41",
         "257481",
         "title: Tuya siempre release_date: 2007-04-27 genres: Drama, Romance tagline: NA keywords: spain overview: Lola and Alfredo survive on the fringes of crime. Their business comes to an abrupt end when Alfredo is arrested. Lola gets the chance of working in a jazz club where the couple meet some very different characters, who open up new worlds and possibilities, but, along with this, the opportunity to change and choose.",
         "42"
        ],
        [
         "42",
         "932339",
         "title: Un novio para mi mujer release_date: 2022-07-22 genres: Comedy, Romance tagline: NA keywords: NA overview: Diego wants to separate from his wife, Lucía, but he doesn't know how to tell her. He is fed up with her neuroses and constant complaints about him, and he has long since lost the spark that made him fall in love. Unable to say it to her face, he turns to Cuervo Flores, a famous seducer \"from before\", who will try to make Lucía fall in love so that she will be the one to end her marriage.",
         "43"
        ],
        [
         "43",
         "475293",
         "title: Those Who Love, Hate release_date: 2017-10-05 genres: Mystery, Drama, Thriller, Crime tagline: You don't choose who you fall in love with. keywords: NA overview: Enrique Hubermann, homeopathic physician, travels in flight from a love. By a joke of fate, in that distant place he meets the woman he wants to forget, a beautiful young woman like a demon who manipulates men and triggers dangerous passions.",
         "44"
        ],
        [
         "44",
         "72246",
         "title: Sex, Lies and Death release_date: 2011-01-01 genres: Drama, Thriller, Crime, Romance tagline: NA keywords: NA overview: Viviana  and Alicia have never met, but they're about to get intimately acquainted. One day, while tipping drinks back in a bar, the two women strike up a conversation that quickly turns personal, Viviana is locked in an abusive marriage, and Alicia's female lover, Lorena, has recently fallen for another woman. As the two women strangers find common ground in their lives, they enter into a secret pact to kill the people who have made their lives a living hell. Seductive, bloody and shocking events send them both plummeting down a destructive path from which there is no escape.",
         "45"
        ],
        [
         "45",
         "792001",
         "title: Amor bandido release_date: 2021-03-18 genres: Thriller, Romance tagline: NA keywords: NA overview: Joan is a naïve, 16-year-old who falls in love easily. One day he decides to escape to the provinces with Luciana, a beautiful 35-year-old woman and a teacher at his school, in order to give free rein to his love. Soon, Joan discovers with horror that he has fallen into a trap that is a mix between sex, money, politics and violence.",
         "46"
        ],
        [
         "46",
         "216207",
         "title: No te supe perder release_date: 2018-10-19 genres: Drama tagline: NA keywords: NA overview: Lucia's perfect life crumbles down the night she is beaten up by her husband. She then meets a seductive youngster, also hunted by a dark past. Their families and friends braid together in a mosaic of love, secrets and vengeance.",
         "47"
        ],
        [
         "47",
         "79115",
         "title: Juan release_date: 2011-04-07 genres: Drama, Romance tagline: NA keywords: musical overview: The successful artist and playboy Juan is a notorious seducer of women, through his ability to be just what a woman dreams of: Charming, charismatic, strong, sensitive, sexual. Driven by a restless urge to conquer new women, use them, and throw them away, he has hired his friend Leporello to help create a masterpiece: A filmed database of all the women whose dreams Juan has shattered. We follow Juan and Leporello through 24 compressed hours. Juan seduces the young upper-class girl Anna, but ends up accidentally killing her father, a powerful police commissioner. The two friends run away, but Juan's constant need to seduce new women keeps interrupting their flight. As the police gains in on them, Juan also steals the young bride Zerlina from her groom Masetto, and soon a feverish manhunt is on for Juan.",
         "48"
        ],
        [
         "48",
         "901407",
         "title: Millonario sin amor release_date: 2021-09-01 genres: Romance, Comedy tagline: NA keywords: NA overview: A successful TV executive changes his identity and moves to a poor neighborhood in search of real human connection. There, he falls for an aspiring actress trying to start her career at the channel he runs.",
         "49"
        ],
        [
         "49",
         "824429",
         "title: Aventurera release_date: 2014-11-25 genres: NA tagline: NA keywords: NA overview: An ambitious Colombian actress living in Buenos Aires juggles a day job with theater rehearsals and casting calls as she struggles to fulfill her dreams. An opportunity arises when she meets Lalo, a successful producer that shows her a glimpse into another life and she is suddenly willing to give up everything she has for a chance at success.",
         "50"
        ]
       ],
       "shape": {
        "columns": 3,
        "rows": 50
       }
      },
      "text/html": [
       "<div>\n",
       "<style scoped>\n",
       "    .dataframe tbody tr th:only-of-type {\n",
       "        vertical-align: middle;\n",
       "    }\n",
       "\n",
       "    .dataframe tbody tr th {\n",
       "        vertical-align: top;\n",
       "    }\n",
       "\n",
       "    .dataframe thead th {\n",
       "        text-align: right;\n",
       "    }\n",
       "</style>\n",
       "<table border=\"1\" class=\"dataframe\">\n",
       "  <thead>\n",
       "    <tr style=\"text-align: right;\">\n",
       "      <th></th>\n",
       "      <th>movie_id</th>\n",
       "      <th>movie_details</th>\n",
       "      <th>rank</th>\n",
       "    </tr>\n",
       "  </thead>\n",
       "  <tbody>\n",
       "    <tr>\n",
       "      <th>0</th>\n",
       "      <td>1184695</td>\n",
       "      <td>title: Shades of Paradise release_date: 2018-0...</td>\n",
       "      <td>1</td>\n",
       "    </tr>\n",
       "    <tr>\n",
       "      <th>1</th>\n",
       "      <td>417940</td>\n",
       "      <td>title: Verdades y mentiras release_date: 2014-...</td>\n",
       "      <td>2</td>\n",
       "    </tr>\n",
       "    <tr>\n",
       "      <th>2</th>\n",
       "      <td>270800</td>\n",
       "      <td>title: For Amor release_date: 2007-02-13 genre...</td>\n",
       "      <td>3</td>\n",
       "    </tr>\n",
       "    <tr>\n",
       "      <th>3</th>\n",
       "      <td>584669</td>\n",
       "      <td>title: Mi memoria carmesí release_date: 2014-0...</td>\n",
       "      <td>4</td>\n",
       "    </tr>\n",
       "    <tr>\n",
       "      <th>4</th>\n",
       "      <td>833908</td>\n",
       "      <td>title: Alevosía release_date: 2017-09-15 genre...</td>\n",
       "      <td>5</td>\n",
       "    </tr>\n",
       "    <tr>\n",
       "      <th>5</th>\n",
       "      <td>337537</td>\n",
       "      <td>title: Suenos de Pasion Infidelidad Mortal rel...</td>\n",
       "      <td>6</td>\n",
       "    </tr>\n",
       "    <tr>\n",
       "      <th>6</th>\n",
       "      <td>815509</td>\n",
       "      <td>title: I Give You My Life release_date: 2013-1...</td>\n",
       "      <td>7</td>\n",
       "    </tr>\n",
       "    <tr>\n",
       "      <th>7</th>\n",
       "      <td>526038</td>\n",
       "      <td>title: Morir de amor release_date: 2018-02-04 ...</td>\n",
       "      <td>8</td>\n",
       "    </tr>\n",
       "    <tr>\n",
       "      <th>8</th>\n",
       "      <td>815476</td>\n",
       "      <td>title: Me dicen el mecha corta release_date: 2...</td>\n",
       "      <td>9</td>\n",
       "    </tr>\n",
       "    <tr>\n",
       "      <th>9</th>\n",
       "      <td>80175</td>\n",
       "      <td>title: Entre sábanas release_date: 2008-04-04 ...</td>\n",
       "      <td>10</td>\n",
       "    </tr>\n",
       "    <tr>\n",
       "      <th>10</th>\n",
       "      <td>1038013</td>\n",
       "      <td>title: Enredados La Confusión release_date: 20...</td>\n",
       "      <td>11</td>\n",
       "    </tr>\n",
       "    <tr>\n",
       "      <th>11</th>\n",
       "      <td>371303</td>\n",
       "      <td>title: Amor tóxico release_date: 2015-11-09 ge...</td>\n",
       "      <td>12</td>\n",
       "    </tr>\n",
       "    <tr>\n",
       "      <th>12</th>\n",
       "      <td>577154</td>\n",
       "      <td>title: ¡He matado a mi marido! release_date: 2...</td>\n",
       "      <td>13</td>\n",
       "    </tr>\n",
       "    <tr>\n",
       "      <th>13</th>\n",
       "      <td>400013</td>\n",
       "      <td>title: Fragments of Love release_date: 2016-04...</td>\n",
       "      <td>14</td>\n",
       "    </tr>\n",
       "    <tr>\n",
       "      <th>14</th>\n",
       "      <td>586521</td>\n",
       "      <td>title: Juanita release_date: 2018-12-27 genres...</td>\n",
       "      <td>15</td>\n",
       "    </tr>\n",
       "    <tr>\n",
       "      <th>15</th>\n",
       "      <td>292548</td>\n",
       "      <td>title: La Enamorada release_date: 2012-11-19 g...</td>\n",
       "      <td>16</td>\n",
       "    </tr>\n",
       "    <tr>\n",
       "      <th>16</th>\n",
       "      <td>415800</td>\n",
       "      <td>title: Barcelona: A Love Untold release_date: ...</td>\n",
       "      <td>17</td>\n",
       "    </tr>\n",
       "    <tr>\n",
       "      <th>17</th>\n",
       "      <td>96438</td>\n",
       "      <td>title: Crimes of Passion release_date: 2011-01...</td>\n",
       "      <td>18</td>\n",
       "    </tr>\n",
       "    <tr>\n",
       "      <th>18</th>\n",
       "      <td>236737</td>\n",
       "      <td>title: Spanish Affair release_date: 2014-03-14...</td>\n",
       "      <td>19</td>\n",
       "    </tr>\n",
       "    <tr>\n",
       "      <th>19</th>\n",
       "      <td>225555</td>\n",
       "      <td>title: Por amor en el caserío release_date: 20...</td>\n",
       "      <td>20</td>\n",
       "    </tr>\n",
       "    <tr>\n",
       "      <th>20</th>\n",
       "      <td>334063</td>\n",
       "      <td>title: S de Sofia release_date: 2014-05-23 gen...</td>\n",
       "      <td>21</td>\n",
       "    </tr>\n",
       "    <tr>\n",
       "      <th>21</th>\n",
       "      <td>1258261</td>\n",
       "      <td>title: Romance .38 release_date: 2008-08-06 ge...</td>\n",
       "      <td>22</td>\n",
       "    </tr>\n",
       "    <tr>\n",
       "      <th>22</th>\n",
       "      <td>700196</td>\n",
       "      <td>title: De Puta Madre: A Love Story release_dat...</td>\n",
       "      <td>23</td>\n",
       "    </tr>\n",
       "    <tr>\n",
       "      <th>23</th>\n",
       "      <td>406268</td>\n",
       "      <td>title: El Florista release_date: 2014-11-22 ge...</td>\n",
       "      <td>24</td>\n",
       "    </tr>\n",
       "    <tr>\n",
       "      <th>24</th>\n",
       "      <td>529730</td>\n",
       "      <td>title: Love and Death in the Afternoon release...</td>\n",
       "      <td>25</td>\n",
       "    </tr>\n",
       "    <tr>\n",
       "      <th>25</th>\n",
       "      <td>1050649</td>\n",
       "      <td>title: Amor maldito release_date: 2017-01-01 g...</td>\n",
       "      <td>26</td>\n",
       "    </tr>\n",
       "    <tr>\n",
       "      <th>26</th>\n",
       "      <td>620019</td>\n",
       "      <td>title: Una mujer sucede release_date: 2012-11-...</td>\n",
       "      <td>27</td>\n",
       "    </tr>\n",
       "    <tr>\n",
       "      <th>27</th>\n",
       "      <td>757167</td>\n",
       "      <td>title: Una mujer completa release_date: 2020-1...</td>\n",
       "      <td>28</td>\n",
       "    </tr>\n",
       "    <tr>\n",
       "      <th>28</th>\n",
       "      <td>406901</td>\n",
       "      <td>title: La prisionera release_date: 2005-01-01 ...</td>\n",
       "      <td>29</td>\n",
       "    </tr>\n",
       "    <tr>\n",
       "      <th>29</th>\n",
       "      <td>853166</td>\n",
       "      <td>title: Una Historia de Amor Funebre release_da...</td>\n",
       "      <td>30</td>\n",
       "    </tr>\n",
       "    <tr>\n",
       "      <th>30</th>\n",
       "      <td>820116</td>\n",
       "      <td>title: Una mujer release_date: 2017-04-08 genr...</td>\n",
       "      <td>31</td>\n",
       "    </tr>\n",
       "    <tr>\n",
       "      <th>31</th>\n",
       "      <td>510492</td>\n",
       "      <td>title: El beneficio de la duda release_date: 2...</td>\n",
       "      <td>32</td>\n",
       "    </tr>\n",
       "    <tr>\n",
       "      <th>32</th>\n",
       "      <td>815979</td>\n",
       "      <td>title: Amante por excelencia release_date: 201...</td>\n",
       "      <td>33</td>\n",
       "    </tr>\n",
       "    <tr>\n",
       "      <th>33</th>\n",
       "      <td>547906</td>\n",
       "      <td>title: El Fin Del Mundo release_date: 2016-11-...</td>\n",
       "      <td>34</td>\n",
       "    </tr>\n",
       "    <tr>\n",
       "      <th>34</th>\n",
       "      <td>335181</td>\n",
       "      <td>title: Morir Soñando release_date: 2015-05-01 ...</td>\n",
       "      <td>35</td>\n",
       "    </tr>\n",
       "    <tr>\n",
       "      <th>35</th>\n",
       "      <td>501881</td>\n",
       "      <td>title: Love Love release_date: 2017-05-10 genr...</td>\n",
       "      <td>36</td>\n",
       "    </tr>\n",
       "    <tr>\n",
       "      <th>36</th>\n",
       "      <td>815420</td>\n",
       "      <td>title: The Elevator release_date: 2014-12-31 g...</td>\n",
       "      <td>37</td>\n",
       "    </tr>\n",
       "    <tr>\n",
       "      <th>37</th>\n",
       "      <td>257741</td>\n",
       "      <td>title: Flower of Seduction release_date: 2009-...</td>\n",
       "      <td>38</td>\n",
       "    </tr>\n",
       "    <tr>\n",
       "      <th>38</th>\n",
       "      <td>436257</td>\n",
       "      <td>title: Caída del cielo release_date: 2016-05-1...</td>\n",
       "      <td>39</td>\n",
       "    </tr>\n",
       "    <tr>\n",
       "      <th>39</th>\n",
       "      <td>593945</td>\n",
       "      <td>title: Mujeres infieles 5 release_date: 2018-0...</td>\n",
       "      <td>40</td>\n",
       "    </tr>\n",
       "    <tr>\n",
       "      <th>40</th>\n",
       "      <td>529218</td>\n",
       "      <td>title: Coward Love release_date: 2018-09-14 ge...</td>\n",
       "      <td>41</td>\n",
       "    </tr>\n",
       "    <tr>\n",
       "      <th>41</th>\n",
       "      <td>257481</td>\n",
       "      <td>title: Tuya siempre release_date: 2007-04-27 g...</td>\n",
       "      <td>42</td>\n",
       "    </tr>\n",
       "    <tr>\n",
       "      <th>42</th>\n",
       "      <td>932339</td>\n",
       "      <td>title: Un novio para mi mujer release_date: 20...</td>\n",
       "      <td>43</td>\n",
       "    </tr>\n",
       "    <tr>\n",
       "      <th>43</th>\n",
       "      <td>475293</td>\n",
       "      <td>title: Those Who Love, Hate release_date: 2017...</td>\n",
       "      <td>44</td>\n",
       "    </tr>\n",
       "    <tr>\n",
       "      <th>44</th>\n",
       "      <td>72246</td>\n",
       "      <td>title: Sex, Lies and Death release_date: 2011-...</td>\n",
       "      <td>45</td>\n",
       "    </tr>\n",
       "    <tr>\n",
       "      <th>45</th>\n",
       "      <td>792001</td>\n",
       "      <td>title: Amor bandido release_date: 2021-03-18 g...</td>\n",
       "      <td>46</td>\n",
       "    </tr>\n",
       "    <tr>\n",
       "      <th>46</th>\n",
       "      <td>216207</td>\n",
       "      <td>title: No te supe perder release_date: 2018-10...</td>\n",
       "      <td>47</td>\n",
       "    </tr>\n",
       "    <tr>\n",
       "      <th>47</th>\n",
       "      <td>79115</td>\n",
       "      <td>title: Juan release_date: 2011-04-07 genres: D...</td>\n",
       "      <td>48</td>\n",
       "    </tr>\n",
       "    <tr>\n",
       "      <th>48</th>\n",
       "      <td>901407</td>\n",
       "      <td>title: Millonario sin amor release_date: 2021-...</td>\n",
       "      <td>49</td>\n",
       "    </tr>\n",
       "    <tr>\n",
       "      <th>49</th>\n",
       "      <td>824429</td>\n",
       "      <td>title: Aventurera release_date: 2014-11-25 gen...</td>\n",
       "      <td>50</td>\n",
       "    </tr>\n",
       "  </tbody>\n",
       "</table>\n",
       "</div>"
      ],
      "text/plain": [
       "    movie_id                                      movie_details  rank\n",
       "0    1184695  title: Shades of Paradise release_date: 2018-0...     1\n",
       "1     417940  title: Verdades y mentiras release_date: 2014-...     2\n",
       "2     270800  title: For Amor release_date: 2007-02-13 genre...     3\n",
       "3     584669  title: Mi memoria carmesí release_date: 2014-0...     4\n",
       "4     833908  title: Alevosía release_date: 2017-09-15 genre...     5\n",
       "5     337537  title: Suenos de Pasion Infidelidad Mortal rel...     6\n",
       "6     815509  title: I Give You My Life release_date: 2013-1...     7\n",
       "7     526038  title: Morir de amor release_date: 2018-02-04 ...     8\n",
       "8     815476  title: Me dicen el mecha corta release_date: 2...     9\n",
       "9      80175  title: Entre sábanas release_date: 2008-04-04 ...    10\n",
       "10   1038013  title: Enredados La Confusión release_date: 20...    11\n",
       "11    371303  title: Amor tóxico release_date: 2015-11-09 ge...    12\n",
       "12    577154  title: ¡He matado a mi marido! release_date: 2...    13\n",
       "13    400013  title: Fragments of Love release_date: 2016-04...    14\n",
       "14    586521  title: Juanita release_date: 2018-12-27 genres...    15\n",
       "15    292548  title: La Enamorada release_date: 2012-11-19 g...    16\n",
       "16    415800  title: Barcelona: A Love Untold release_date: ...    17\n",
       "17     96438  title: Crimes of Passion release_date: 2011-01...    18\n",
       "18    236737  title: Spanish Affair release_date: 2014-03-14...    19\n",
       "19    225555  title: Por amor en el caserío release_date: 20...    20\n",
       "20    334063  title: S de Sofia release_date: 2014-05-23 gen...    21\n",
       "21   1258261  title: Romance .38 release_date: 2008-08-06 ge...    22\n",
       "22    700196  title: De Puta Madre: A Love Story release_dat...    23\n",
       "23    406268  title: El Florista release_date: 2014-11-22 ge...    24\n",
       "24    529730  title: Love and Death in the Afternoon release...    25\n",
       "25   1050649  title: Amor maldito release_date: 2017-01-01 g...    26\n",
       "26    620019  title: Una mujer sucede release_date: 2012-11-...    27\n",
       "27    757167  title: Una mujer completa release_date: 2020-1...    28\n",
       "28    406901  title: La prisionera release_date: 2005-01-01 ...    29\n",
       "29    853166  title: Una Historia de Amor Funebre release_da...    30\n",
       "30    820116  title: Una mujer release_date: 2017-04-08 genr...    31\n",
       "31    510492  title: El beneficio de la duda release_date: 2...    32\n",
       "32    815979  title: Amante por excelencia release_date: 201...    33\n",
       "33    547906  title: El Fin Del Mundo release_date: 2016-11-...    34\n",
       "34    335181  title: Morir Soñando release_date: 2015-05-01 ...    35\n",
       "35    501881  title: Love Love release_date: 2017-05-10 genr...    36\n",
       "36    815420  title: The Elevator release_date: 2014-12-31 g...    37\n",
       "37    257741  title: Flower of Seduction release_date: 2009-...    38\n",
       "38    436257  title: Caída del cielo release_date: 2016-05-1...    39\n",
       "39    593945  title: Mujeres infieles 5 release_date: 2018-0...    40\n",
       "40    529218  title: Coward Love release_date: 2018-09-14 ge...    41\n",
       "41    257481  title: Tuya siempre release_date: 2007-04-27 g...    42\n",
       "42    932339  title: Un novio para mi mujer release_date: 20...    43\n",
       "43    475293  title: Those Who Love, Hate release_date: 2017...    44\n",
       "44     72246  title: Sex, Lies and Death release_date: 2011-...    45\n",
       "45    792001  title: Amor bandido release_date: 2021-03-18 g...    46\n",
       "46    216207  title: No te supe perder release_date: 2018-10...    47\n",
       "47     79115  title: Juan release_date: 2011-04-07 genres: D...    48\n",
       "48    901407  title: Millonario sin amor release_date: 2021-...    49\n",
       "49    824429  title: Aventurera release_date: 2014-11-25 gen...    50"
      ]
     },
     "execution_count": 5,
     "metadata": {},
     "output_type": "execute_result"
    }
   ],
   "source": [
    "similarity_results = chat.query_dense_index(\"Spanish movie about a woman who is saved from a drug dealer by an assassin who falls in love with her\")\n",
    "similarity_results['rank'] = similarity_results.index + 1\n",
    "similarity_results"
   ]
  },
  {
   "cell_type": "code",
   "execution_count": 7,
   "id": "f6e41ca5",
   "metadata": {},
   "outputs": [
    {
     "name": "stderr",
     "output_type": "stream",
     "text": [
      "c:\\Users\\Adham\\OneDrive\\Documents\\Computer_Science\\Data\\Projects\\LLM focued\\WhatMovie\\whatmovie_backend\\venv\\Lib\\site-packages\\google\\cloud\\bigquery\\table.py:1965: UserWarning: BigQuery Storage module not found, fetch data with the REST endpoint instead.\n",
      "  warnings.warn(\n"
     ]
    },
    {
     "data": {
      "application/vnd.microsoft.datawrangler.viewer.v0+json": {
       "columns": [
        {
         "name": "index",
         "rawType": "int64",
         "type": "integer"
        },
        {
         "name": "movie_id",
         "rawType": "Int64",
         "type": "integer"
        },
        {
         "name": "movie_details",
         "rawType": "object",
         "type": "string"
        },
        {
         "name": "score",
         "rawType": "float64",
         "type": "float"
        },
        {
         "name": "rank",
         "rawType": "int64",
         "type": "integer"
        }
       ],
       "ref": "6918be8f-d0f3-4b2f-bcda-0d119865c530",
       "rows": [
        [
         "0",
         "46458",
         "title: Map of the Sounds of Tokyo release_date: 2009-12-02 genres: Thriller, Drama, Romance tagline: NA keywords: assassin, female assassin, woman director overview: A Japanese assassin falls in love with the Spanish wine seller she was hired to kill.",
         "30.587815161916705",
         "1"
        ],
        [
         "1",
         "417398",
         "title: A woman on the asphalt release_date: 1978-04-08 genres: NA tagline: NA keywords: NA overview: Nam-soon, who has come to Tokyo with a dream of becoming a singer, falls for the words of the drug dealer Cheon-ga and sacrifices her purity, but in the end is betrayed by him.",
         "29.66677286885445",
         "2"
        ],
        [
         "2",
         "268209",
         "title: Dangerous Heart release_date: 1994-02-02 genres: TV Movie, Drama, Romance, Thriller tagline: She's Falling in Love... With Her Husband's Killer. keywords: drug dealer, undercover, love, murder, drugs overview: A cop begins to turn to booze and cocaine during a tough undercover assignment. When a big drug-buy goes sour and the cop ends up with a million in cash, he decides to take off with the money. The drug dealer catches up with him, but he dies before revealing where he stashed the cash. Months later, the drug dealer finds the cop's wife and seduces her, in an effort to find his missing million. In the process, he falls in love with her and alienates his former partners in crime.",
         "28.9274098943681",
         "3"
        ],
        [
         "3",
         "1385550",
         "title: The Dog release_date: 2024-11-07 genres: Thriller, Drama tagline: NA keywords: NA overview: A drug dealer is hired to drive a young escort, Kadzo, to and from her clients. He falls in love with her and decides to rescue her from her situation, leading him into an increasing spiral fo troubles.",
         "28.70286305933498",
         "4"
        ],
        [
         "4",
         "68835",
         "title: Prisoner Maria: The Movie release_date: 1995-11-18 genres: Action, Crime, Drama, Romance, Thriller tagline: NA keywords: NA overview: Convicted of killing the drug dealer who murdered her husband, Maria is blackmailed into serving as a covert assassin. She must do the government's bidding if she is ever to regain her freedom, or her son. With each completed mission, her sentenced is further re- duced. Yet, with every job she feels further away from her goal of a peaceful life.",
         "28.697544735346412",
         "5"
        ],
        [
         "5",
         "532390",
         "title: Insinuation release_date: 1922-10-10 genres: Drama tagline: NA keywords: woman director overview: About a woman whose life is almost ruined by the insinuations of a small-town gossip and a brother who falls in with bad company. The film ends with the woman being saved by her upstanding physician husband, whom she meets when her theatre troupe becomes stranded in the town.",
         "27.924890961853166",
         "6"
        ],
        [
         "6",
         "210954",
         "title: Dinner with an Assassin release_date: 2005-12-12 genres: Action tagline: NA keywords: NA overview: Mark is a young assassin hired to take out members of a large drug syndicate. But, he bumps into a mysterious woman and falls for her. Instead of just doing his job Mark throws caution into the wind and breaks all the rules of an assassin to meet her. Now, he finds himself caught between love and a group of assassins hired to take him out.  (Bobby Guions - Director)",
         "27.7321069239056",
         "7"
        ],
        [
         "7",
         "640258",
         "title: The Spider release_date: 2022-05-03 genres: Action, Drama tagline: NA keywords: drug dealer, spider, drugs overview: A dangerous drug dealer, who manages to manufacture new drugs, sells them, and falls into many problems and chases by the police.",
         "27.539930563911064",
         "8"
        ],
        [
         "8",
         "1478228",
         "title: No return release_date: 1961-01-31 genres: NA tagline: NA keywords: NA overview: A poor girl falls into the traps of a gang headed by a drug dealer, and turns into an addict. She eventually starts working as a prostitute, and meets a doctor who tries to save her from her ruined life.",
         "27.325507867705976",
         "9"
        ],
        [
         "9",
         "283719",
         "title: Virtual Reality release_date: 2001-10-06 genres: Action, Crime, Drama tagline: NA keywords: drug addiction, mobster, teenage girl overview: A fifteen year old girl Senka, comes from a wealthy family whose parents enroll in an elite school where she meets a drug dealer with whom he falls in love, and so it has hitherto completely unknown world. Senka is a young and inexperienced girl who, unwittingly, in his new world, the world of drug addiction and pulled his best friend.",
         "27.28214834667434",
         "10"
        ],
        [
         "10",
         "128842",
         "title: Lethal Hostage release_date: 2012-08-16 genres: Crime, Drama, Thriller tagline: NA keywords: NA overview: Produced by Crazy Racer director Ning Hao, Lethal Hostage revolves around a drug dealer who falls in love with his hostage and decides to quit the business following one final deal.",
         "27.067872206756004",
         "11"
        ],
        [
         "11",
         "1328566",
         "title: Hakuryu 9: Arisa, That Woman... release_date: 2009-07-17 genres: NA tagline: NA keywords: NA overview: Arisa, a former lady and hostess, falls in love with Hakuryu, who saved her from a tight spot, and goes to him make an oath with the Kurosu clan. The serious war drama as well as her unprecedented words and actions are a must-see.",
         "26.884395765202434",
         "12"
        ],
        [
         "12",
         "353832",
         "title: Ratón en Ferretería release_date: 1985-05-01 genres: Drama tagline: NA keywords: love, drug dealing, poverty overview: Adonai Flores, an experienced writer of telenovelas, falls in love with Belén Helena, a girl of low class. Adonay, desperate to keep her with him, abandons his responsibilities and even his dog. After discovering that she is a drug dealer he decides to leave her and recovers his dog",
         "26.838468753237446",
         "13"
        ],
        [
         "13",
         "405058",
         "title: The Candy Man release_date: 1969-02-01 genres: Thriller, Crime, Drama tagline: The first day brought the CANDY MAN … the second day brought TERROR! keywords: drug dealer, mexico overview: An American actress travels to Mexico to make a movie and brings her daughter with her. Upon arriving in Mexico, she is spotted by a drug dealer who also heads a kidnapping ring. He plants one of his drug-addicted \"customers\" with the actress as her nanny in order to be kidnap the child for ransom, but things don't work out as planned.",
         "26.809471594152924",
         "14"
        ],
        [
         "14",
         "346988",
         "title: Pirates of Monterey release_date: 1947-12-01 genres: Adventure, Romance, Western tagline: ROMANTIC ADVENTURE IN EARLY CALIFORNIA! keywords: california, swashbuckler, 19th century overview: A woman journeys to Spanish California to marry a Spanish officer, but on the way she meets and falls in love with an American adventurer who is part of a movement to overthrow the Spanish in California.",
         "26.51132584617084",
         "15"
        ],
        [
         "15",
         "938170",
         "title: Jeevitha Chakram release_date: 1971-01-01 genres: NA tagline: NA keywords: NA overview: Susheela a hardworking woman who supports her family falls in love with Raju who is from an affluent family",
         "26.248046480423326",
         "16"
        ],
        [
         "16",
         "670913",
         "title: Yveete release_date: 2009-06-01 genres: NA tagline: It's not about making yourself fit in- it's about being the real you. keywords: NA overview: Yveete is a twenty-two year old Mexican American female living in Texas. Yveete has great dissonance regarding her identity as a Mexican American. Yveete decides to accept a ride home from Raymond, the local drug dealer to get back at her mother. This ride home results in disaster when an irate customer of Ray's demands his drug money back -at gunpoint. Miranda decides that Yveete will be sent to Mexico with her mother. She meets her grandmother Luisita, who is not at all what she expected. She is an honest, open woman who befriends Yveete.",
         "26.15971667390126",
         "17"
        ],
        [
         "17",
         "465047",
         "title: Australia release_date: 2017-03-12 genres: Drama tagline: NA keywords: drug dealer, drug use, loneliness overview: Friday, 11 p.m. Carla, a woman in her forties, is alone in her office. She gets a call. It's Raúl, a young guy who sells cocaine. Tonight will be the last night that Raúl works as a dealer. He wants to change his life.",
         "26.143716066223007",
         "18"
        ],
        [
         "18",
         "522098",
         "title: Babyteeth release_date: 2020-06-15 genres: Drama, Comedy, Romance tagline: NA keywords: sydney, australia, coming of age, love, cancer, drugs, family overview: A terminally ill teen upsets her parents when she falls in love with a small-time drug dealer.",
         "26.010592193481425",
         "19"
        ],
        [
         "19",
         "451688",
         "title: The Rain at Night release_date: 1979-09-28 genres: Drama tagline: NA keywords: NA overview: A 1979 Korean movie directed by Park Chul-soo about a teacher who falls in love with a boxer who attacked her.",
         "25.65283045116895",
         "20"
        ],
        [
         "20",
         "398266",
         "title: Dealer release_date: 2018-10-28 genres: Action, Adventure, Comedy tagline: Kelly is a drug dealer - He just doesn't know it yet. keywords: drug dealer, las vegas, card dealer overview: Kelly is an easily scared blackjack dealer who gets a huge surprise from his roommate Trevor. Trevor is a drug dealer and can’t finish his rounds for the day. His boss a mysterious figure known only as X offers Kelly a plan – Deal or Die. This takes him to four separate drug deals over the course of a day and night in Las Vegas. Will Kelly survive?",
         "25.62294880547207",
         "21"
        ],
        [
         "21",
         "1390103",
         "title: Grieve release_date: 2024-07-19 genres: Drama, Crime, Thriller tagline: NA keywords: NA overview: When an underground MMA fighter falls in love with a young woman who works for a drug lord, the drug lord uses the opportunity to make quick money, with tragic consequences.",
         "25.617808742349883",
         "22"
        ],
        [
         "22",
         "45484",
         "title: Goddess of Mercy release_date: 2003-01-01 genres: Action, Drama, Romance tagline: NA keywords: woman director overview: Yang Rui falls in love for the cleaning woman who works in a taekwando gym, only to later discover she's an undercover cop named An Xin. An is in hiding from drug smugglers who have a score to settle with her - a raid she led resulted in the death of one of the smuggler's parents. To complicate matters further, An was previously romantically involved with the smuggler whose parents were killed.",
         "25.57093184222802",
         "23"
        ],
        [
         "23",
         "310927",
         "title: Welcome to the Southside release_date: 2006-11-11 genres: Drama tagline: NA keywords: NA overview: A female drug dealer falls in love with a spoken word artist.",
         "25.50649947710563",
         "24"
        ],
        [
         "24",
         "119276",
         "title: Nesio release_date: 2008-10-24 genres: Comedy, Crime, Drama tagline: NA keywords: NA overview: It is a light and amusing story about Nemesio, a small time drug dealer who has never managed to get away from his mother or his childhood traumas, and carries on his back the stigma of a born loser. This he struggles to overcome, but finds it impossible. By intent or otherwise, Nesio becomes involved in a homicide and an impossible love with a masked woman wrestler. All of this framed by downtown Mexico City.",
         "25.46280561673715",
         "25"
        ],
        [
         "25",
         "410555",
         "title: Beijo na Boca release_date: 1982-10-07 genres: Drama tagline: NA keywords: drug dealer, jealousy overview: Middle-class girl gets involved with a jealous drug dealer, who wants to kill all of her previous boyfriends.",
         "25.44040793875211",
         "26"
        ],
        [
         "26",
         "367769",
         "title: La española inglesa release_date: 2015-11-10 genres: Drama, Adventure, TV Movie tagline: NA keywords: based on novel or book, queen elizabeth i, child kidnapping, elizabethan england overview: In 1596, a Spanish girl, Isabel, is kidnapped by the English during the Capture of Cádiz and sent to England, where, already an adult woman, she falls in love with her kidnapper's son.",
         "25.39177604927826",
         "27"
        ],
        [
         "27",
         "407455",
         "title: The Chemist release_date: 2016-08-02 genres: Action tagline: NA keywords: NA overview: Gritty action thriller about an aging assassin who is double crossed by his employer when he refuses to assassinate a woman he just met. On the run; Steele becomes the next target in this fast-paced battle, assassin vs. assassin, until he is surprised by a secret that changes everything he thought he knew. To complicate matters even more he begins to fall in love with his would-be target.",
         "25.318956866518395",
         "28"
        ],
        [
         "28",
         "944798",
         "title: I Am My Own release_date: 2014-04-24 genres: Crime, Drama, Thriller tagline: Thief, Liar, Drug Dealer, Surrogate Father keywords: NA overview: Crime-drama about a drifting drug dealer on the run in the Swedish countryside, who ends up with a baby on his hands.",
         "25.306789272944272",
         "29"
        ],
        [
         "29",
         "873850",
         "title: Samland release_date: 2021-09-14 genres: NA tagline: Every dream has a crossroads keywords: NA overview: A desperate immigrant accepts a marriage of convenience from an unscrupulous drug dealer to a young woman running from her past, blinded by her addiction. Together, they search for the “American Dream” that seems to allude them as they travel down a dangerous path filled with deception and death, as they seek the truth about who they are, and how they fit into America’s distorted landscape.",
         "25.22412493589603",
         "30"
        ],
        [
         "30",
         "934056",
         "title: Broncho Billy's Indian Romance release_date: 1914-08-29 genres: Western tagline: NA keywords: NA overview: Broncho Billy is jilted by the girl he loves and goes up into the mountains with his friend to prospect for gold. His friend is very ill and asks for her constantly. In the meantime, Broncho has saved an Indian maiden from being sold to a chief whom she dislikes. She is very grateful and later falls in love with her rescuer. One day, as she is about to give him a Navajo blanket, his sweetheart appears, and the maiden realizes her love tor Broncho is hopeless. She is about to stab herself when spied by the disliked chief, who prevents her from doing so.",
         "25.200137916221635",
         "31"
        ],
        [
         "31",
         "78307",
         "title: On the Outs release_date: 2005-07-13 genres: Drama tagline: A drug dealer. An addict. A runaway. The story of 3 girls. keywords: prison, drug dealer, single mother, teenage pregnancy, woman director, dominican overview: Follows the choices made by three young women - one a drug dealer, one an addict, one a pregnant teen - in Jersey City.",
         "25.095605068098084",
         "32"
        ],
        [
         "32",
         "950138",
         "title: Zindagi release_date: 1940-07-11 genres: Drama tagline: NA keywords: NA overview: The story of an unemployed graduate who falls in love with a woman who ran away from her cruel husband.",
         "25.07699038167231",
         "33"
        ],
        [
         "33",
         "224354",
         "title: Anna's Struggle release_date: 2012-11-19 genres: Drama tagline: NA keywords: drug dealer overview: Anna is a woman who sells flowers at the local market and whose only hope and joy in her life is her only son Amaurys. Raul, Amaurys' best friend, involves him in a drug deal which results in his death.",
         "25.008298756295005",
         "34"
        ],
        [
         "34",
         "72228",
         "title: Saturday Killer release_date: 2010-09-30 genres: Action, Comedy, Romance, Crime tagline: NA keywords: NA overview: Tee Rifle is an assassin with an impotence problem. He crashes into a beautiful woman Chris and falls in love. Chris knows Tee Rifle as Mark, but what they don't know is that Tee is the assassin that killed her father, the man she's out kill.",
         "25.004404801437882",
         "35"
        ],
        [
         "35",
         "256770",
         "title: The Children of Times Square release_date: 1986-03-03 genres: TV Movie tagline: NA keywords: drug dealer, new york city, runaway, times square, juvenile delinquent overview: An alienated teenage boy runs away from home and ventures to New York City where he falls in with a gang of juvenile delinquents working as drug dealers and pickpockets for a shady crime boss.",
         "24.89532324336533",
         "36"
        ],
        [
         "36",
         "534319",
         "title: Misdirection release_date: 2019-03-23 genres: Romance, Comedy tagline: NA keywords: magic, college, obsessive compulsive disorder, lgbt, woman director, short film overview: MISDIRECTION is a queer comedy about a college freshman who falls in love with close-up magic as an escape from her unrequited crush on her roommate and obsessive-compulsive disorder.",
         "24.832792797392756",
         "37"
        ],
        [
         "37",
         "585499",
         "title: Jazzed Up Hoodlums release_date: 2009-05-16 genres: Drama, Crime tagline: NA keywords: drug dealer, florida, escape, funeral, photographer, gun, ecstasy, coffee shop, flaming arrow, told in flashback overview: Two young friends, John and Paul, sell ecstasy to escape a rundown suburb under the guidance of a paranoid drug dealer, but the plan is complicated when John falls in love with Arianna.",
         "24.83131224645148",
         "38"
        ],
        [
         "38",
         "62191",
         "title: Sound of the Sea release_date: 2001-06-08 genres: Drama, Romance tagline: NA keywords: based on novel or book, love triangle, older man younger woman relationship, erotic movie overview: Son de Mar (English: \"Sound of the Sea\") is a 2001 Spanish drama / erotic film directed by Juan José Bigas Luna based on the novel of the same title by Manuel Vicent.  It revolves around Ulises (Jordi Mollà), who comes to a fishing village to teach literature at a local high school. During his stay he falls in love with Martina (Leonor Watling), the daughter of his landlord. Sierra (Eduard Fernández), a rich businessman, also falls in love with her and fruitlessly tries to win her heart.",
         "24.803618661044908",
         "39"
        ],
        [
         "39",
         "312396",
         "title: I Married a Vampire release_date: 1987-05-01 genres: Drama, Horror tagline: NA keywords: concert, rape, vampire, drug addiction, marriage, steal, engaged overview: A young farmgirl comes to the big city and is taken advantage of by everybody she meets. The only person who treats her well is a stranger she meets and falls in love with. The stranger turns out to be a vampire who also falls in love with her. He sets out to take revenge on everyone who has mistreated her.",
         "24.779324769540345",
         "40"
        ],
        [
         "40",
         "277699",
         "title: The Prisoner of Zenda release_date: 1913-02-18 genres: Adventure tagline: NA keywords: based on novel or book overview: King Rudolf of Ruritania is saved from a coup attempt by the help of his lookalike cousin, who falls in love with the king's fiancee.",
         "24.762311494167623",
         "41"
        ],
        [
         "41",
         "478667",
         "title: Last Second release_date: 2005-09-29 genres: Drama tagline: A TRAGIC LOVE STORY keywords: NA overview: Regi suffers from depression since childhood, being raised by wealthy parents who have little time for her, but plenty to fight with and cheat on each other. While in college she meets and becomes close to Rajib, a drug dealer. Developing an intense hatred for men, inspired by her violent and insensitive father, she identifies as a lesbian. Her introduction to the drug-scene engulfs her and she develops a cocaine habit which rapidly accelerates into a preference for White China heroin. She meets and falls in love with Rajibs ex drug-dealing partner, Vela, who has already become a hardcore junkie. Her and Vela's downward spiral into chronic addiction is portrayed powerfully throughout the film as is their intense attachment to each other. The plot (based on a true story) is exceptional in its depiction of the drug problems in Indonesia, the often terrible 'solutions' to these problems, and the reasons behind why they occur.",
         "24.608662157762048",
         "42"
        ],
        [
         "42",
         "191563",
         "title: A Taste of Killing and Romance release_date: 1994-08-05 genres: Romance, Action, Crime tagline: NA keywords: NA overview: An experienced assassin considers giving up his profession when he meets his society's newest recruit. He soon falls in love with this female assassin who donates her fees to the church. Soon the couple are being chased both by the police and the society which hires them.",
         "24.597903927243074",
         "43"
        ],
        [
         "43",
         "345077",
         "title: A Case of Love release_date: 1996-01-01 genres: NA tagline: NA keywords: NA overview: Thriller revolving around the investigation of the apparently drug gang-related murder of a woman by her dealer.",
         "24.586751174178186",
         "44"
        ],
        [
         "44",
         "43240",
         "title: Tammy and the Bachelor release_date: 1957-06-14 genres: Comedy, Romance tagline: All about a little Mississippi riverboat gal who taught a sophisticated bachelor about love! keywords: bachelor, swamp, love overview: An unsophisticated young woman from the Mississippi swamps falls in love with an unconventional southern gentleman.",
         "24.561145030258785",
         "45"
        ],
        [
         "45",
         "346897",
         "title: Body Lover release_date: 1993-11-04 genres: Action, Crime, Thriller tagline: NA keywords: NA overview: The undercover Lee Chi-Kit, shrewd and capable, is responsible for investigating a drug gang. He becomes friends with an assassin named Eva and falls in love with the mistress of the gang leader, Judy.",
         "24.518892131366098",
         "46"
        ],
        [
         "46",
         "358699",
         "title: Pranaya Nilavu release_date: 1999-09-24 genres: Romance, Drama tagline: NA keywords: NA overview: Nabeesu falls in love with Kannan, who saved her from drowning in a river. However, this makes Jamal, her uncle, angry as he wishes to marry her and resolves to get rid of Kannan.",
         "24.50655050801503",
         "47"
        ],
        [
         "47",
         "568059",
         "title: College Dormitory release_date: 1984-01-01 genres: Drama, Romance tagline: NA keywords: shower, classroom, skinny dipping, lesbian sex, erotic movie, big tits overview: Story about a girl who, tired of her step-mother and her step-mothers gigolo, goes to a boarding-school and falls in love with the woman who runs it. Fanette, the woman who runs the boarding school is strict and Juliette finds she loves the strictness. She loves to be spanked..",
         "24.506286809962326",
         "48"
        ],
        [
         "48",
         "927230",
         "title: Second Hand Love release_date: 1923-08-26 genres: Drama tagline: NA keywords: NA overview: Andy Hanks is an itinerant fix-it man who comes to town with his horse and dog as his only pals. He falls in love with Angela Trent, a young woman with an air of mystery about her.",
         "24.39746778465435",
         "49"
        ],
        [
         "49",
         "203872",
         "title: Love Stories release_date: 1997-06-27 genres: Romance, Comedy tagline: NA keywords: NA overview: Jerzy Stuhr scripted, directed and plays four roles in this Polish comedy about four men -- an army officer, a college instructor, a priest, and a drug dealer -- and their relationships with four females. An attractive student (Dominika Ostalowska) puts the teacher in an awkward spot when she reveals her love for him. An 11-year-old (Karolina Ostrozna) informs the priest that she's his daughter. The army officer is pleased when confronted by a past lover (Irina Alfiorowa). The drug dealer, taken prisoner, must decide whether or not to trust his wife (Katarzyna Figura) with his hidden loot. In the wrap-up, the elderly accountant (Jerzy Nowak) passes judgment on all four men. Stuhr acted in films by the late Krzysztof Kieslowski, who had some input here by offering advice to Stuhr on this screenplay. Shown at the 1997 Venice Film Festival, this film is also known as Love Stories.",
         "24.381474960220032",
         "50"
        ]
       ],
       "shape": {
        "columns": 4,
        "rows": 50
       }
      },
      "text/html": [
       "<div>\n",
       "<style scoped>\n",
       "    .dataframe tbody tr th:only-of-type {\n",
       "        vertical-align: middle;\n",
       "    }\n",
       "\n",
       "    .dataframe tbody tr th {\n",
       "        vertical-align: top;\n",
       "    }\n",
       "\n",
       "    .dataframe thead th {\n",
       "        text-align: right;\n",
       "    }\n",
       "</style>\n",
       "<table border=\"1\" class=\"dataframe\">\n",
       "  <thead>\n",
       "    <tr style=\"text-align: right;\">\n",
       "      <th></th>\n",
       "      <th>movie_id</th>\n",
       "      <th>movie_details</th>\n",
       "      <th>score</th>\n",
       "      <th>rank</th>\n",
       "    </tr>\n",
       "  </thead>\n",
       "  <tbody>\n",
       "    <tr>\n",
       "      <th>0</th>\n",
       "      <td>46458</td>\n",
       "      <td>title: Map of the Sounds of Tokyo release_date...</td>\n",
       "      <td>30.587815</td>\n",
       "      <td>1</td>\n",
       "    </tr>\n",
       "    <tr>\n",
       "      <th>1</th>\n",
       "      <td>417398</td>\n",
       "      <td>title: A woman on the asphalt release_date: 19...</td>\n",
       "      <td>29.666773</td>\n",
       "      <td>2</td>\n",
       "    </tr>\n",
       "    <tr>\n",
       "      <th>2</th>\n",
       "      <td>268209</td>\n",
       "      <td>title: Dangerous Heart release_date: 1994-02-0...</td>\n",
       "      <td>28.927410</td>\n",
       "      <td>3</td>\n",
       "    </tr>\n",
       "    <tr>\n",
       "      <th>3</th>\n",
       "      <td>1385550</td>\n",
       "      <td>title: The Dog release_date: 2024-11-07 genres...</td>\n",
       "      <td>28.702863</td>\n",
       "      <td>4</td>\n",
       "    </tr>\n",
       "    <tr>\n",
       "      <th>4</th>\n",
       "      <td>68835</td>\n",
       "      <td>title: Prisoner Maria: The Movie release_date:...</td>\n",
       "      <td>28.697545</td>\n",
       "      <td>5</td>\n",
       "    </tr>\n",
       "    <tr>\n",
       "      <th>5</th>\n",
       "      <td>532390</td>\n",
       "      <td>title: Insinuation release_date: 1922-10-10 ge...</td>\n",
       "      <td>27.924891</td>\n",
       "      <td>6</td>\n",
       "    </tr>\n",
       "    <tr>\n",
       "      <th>6</th>\n",
       "      <td>210954</td>\n",
       "      <td>title: Dinner with an Assassin release_date: 2...</td>\n",
       "      <td>27.732107</td>\n",
       "      <td>7</td>\n",
       "    </tr>\n",
       "    <tr>\n",
       "      <th>7</th>\n",
       "      <td>640258</td>\n",
       "      <td>title: The Spider release_date: 2022-05-03 gen...</td>\n",
       "      <td>27.539931</td>\n",
       "      <td>8</td>\n",
       "    </tr>\n",
       "    <tr>\n",
       "      <th>8</th>\n",
       "      <td>1478228</td>\n",
       "      <td>title: No return release_date: 1961-01-31 genr...</td>\n",
       "      <td>27.325508</td>\n",
       "      <td>9</td>\n",
       "    </tr>\n",
       "    <tr>\n",
       "      <th>9</th>\n",
       "      <td>283719</td>\n",
       "      <td>title: Virtual Reality release_date: 2001-10-0...</td>\n",
       "      <td>27.282148</td>\n",
       "      <td>10</td>\n",
       "    </tr>\n",
       "    <tr>\n",
       "      <th>10</th>\n",
       "      <td>128842</td>\n",
       "      <td>title: Lethal Hostage release_date: 2012-08-16...</td>\n",
       "      <td>27.067872</td>\n",
       "      <td>11</td>\n",
       "    </tr>\n",
       "    <tr>\n",
       "      <th>11</th>\n",
       "      <td>1328566</td>\n",
       "      <td>title: Hakuryu 9: Arisa, That Woman... release...</td>\n",
       "      <td>26.884396</td>\n",
       "      <td>12</td>\n",
       "    </tr>\n",
       "    <tr>\n",
       "      <th>12</th>\n",
       "      <td>353832</td>\n",
       "      <td>title: Ratón en Ferretería release_date: 1985-...</td>\n",
       "      <td>26.838469</td>\n",
       "      <td>13</td>\n",
       "    </tr>\n",
       "    <tr>\n",
       "      <th>13</th>\n",
       "      <td>405058</td>\n",
       "      <td>title: The Candy Man release_date: 1969-02-01 ...</td>\n",
       "      <td>26.809472</td>\n",
       "      <td>14</td>\n",
       "    </tr>\n",
       "    <tr>\n",
       "      <th>14</th>\n",
       "      <td>346988</td>\n",
       "      <td>title: Pirates of Monterey release_date: 1947-...</td>\n",
       "      <td>26.511326</td>\n",
       "      <td>15</td>\n",
       "    </tr>\n",
       "    <tr>\n",
       "      <th>15</th>\n",
       "      <td>938170</td>\n",
       "      <td>title: Jeevitha Chakram release_date: 1971-01-...</td>\n",
       "      <td>26.248046</td>\n",
       "      <td>16</td>\n",
       "    </tr>\n",
       "    <tr>\n",
       "      <th>16</th>\n",
       "      <td>670913</td>\n",
       "      <td>title: Yveete release_date: 2009-06-01 genres:...</td>\n",
       "      <td>26.159717</td>\n",
       "      <td>17</td>\n",
       "    </tr>\n",
       "    <tr>\n",
       "      <th>17</th>\n",
       "      <td>465047</td>\n",
       "      <td>title: Australia release_date: 2017-03-12 genr...</td>\n",
       "      <td>26.143716</td>\n",
       "      <td>18</td>\n",
       "    </tr>\n",
       "    <tr>\n",
       "      <th>18</th>\n",
       "      <td>522098</td>\n",
       "      <td>title: Babyteeth release_date: 2020-06-15 genr...</td>\n",
       "      <td>26.010592</td>\n",
       "      <td>19</td>\n",
       "    </tr>\n",
       "    <tr>\n",
       "      <th>19</th>\n",
       "      <td>451688</td>\n",
       "      <td>title: The Rain at Night release_date: 1979-09...</td>\n",
       "      <td>25.652830</td>\n",
       "      <td>20</td>\n",
       "    </tr>\n",
       "    <tr>\n",
       "      <th>20</th>\n",
       "      <td>398266</td>\n",
       "      <td>title: Dealer release_date: 2018-10-28 genres:...</td>\n",
       "      <td>25.622949</td>\n",
       "      <td>21</td>\n",
       "    </tr>\n",
       "    <tr>\n",
       "      <th>21</th>\n",
       "      <td>1390103</td>\n",
       "      <td>title: Grieve release_date: 2024-07-19 genres:...</td>\n",
       "      <td>25.617809</td>\n",
       "      <td>22</td>\n",
       "    </tr>\n",
       "    <tr>\n",
       "      <th>22</th>\n",
       "      <td>45484</td>\n",
       "      <td>title: Goddess of Mercy release_date: 2003-01-...</td>\n",
       "      <td>25.570932</td>\n",
       "      <td>23</td>\n",
       "    </tr>\n",
       "    <tr>\n",
       "      <th>23</th>\n",
       "      <td>310927</td>\n",
       "      <td>title: Welcome to the Southside release_date: ...</td>\n",
       "      <td>25.506499</td>\n",
       "      <td>24</td>\n",
       "    </tr>\n",
       "    <tr>\n",
       "      <th>24</th>\n",
       "      <td>119276</td>\n",
       "      <td>title: Nesio release_date: 2008-10-24 genres: ...</td>\n",
       "      <td>25.462806</td>\n",
       "      <td>25</td>\n",
       "    </tr>\n",
       "    <tr>\n",
       "      <th>25</th>\n",
       "      <td>410555</td>\n",
       "      <td>title: Beijo na Boca release_date: 1982-10-07 ...</td>\n",
       "      <td>25.440408</td>\n",
       "      <td>26</td>\n",
       "    </tr>\n",
       "    <tr>\n",
       "      <th>26</th>\n",
       "      <td>367769</td>\n",
       "      <td>title: La española inglesa release_date: 2015-...</td>\n",
       "      <td>25.391776</td>\n",
       "      <td>27</td>\n",
       "    </tr>\n",
       "    <tr>\n",
       "      <th>27</th>\n",
       "      <td>407455</td>\n",
       "      <td>title: The Chemist release_date: 2016-08-02 ge...</td>\n",
       "      <td>25.318957</td>\n",
       "      <td>28</td>\n",
       "    </tr>\n",
       "    <tr>\n",
       "      <th>28</th>\n",
       "      <td>944798</td>\n",
       "      <td>title: I Am My Own release_date: 2014-04-24 ge...</td>\n",
       "      <td>25.306789</td>\n",
       "      <td>29</td>\n",
       "    </tr>\n",
       "    <tr>\n",
       "      <th>29</th>\n",
       "      <td>873850</td>\n",
       "      <td>title: Samland release_date: 2021-09-14 genres...</td>\n",
       "      <td>25.224125</td>\n",
       "      <td>30</td>\n",
       "    </tr>\n",
       "    <tr>\n",
       "      <th>30</th>\n",
       "      <td>934056</td>\n",
       "      <td>title: Broncho Billy's Indian Romance release_...</td>\n",
       "      <td>25.200138</td>\n",
       "      <td>31</td>\n",
       "    </tr>\n",
       "    <tr>\n",
       "      <th>31</th>\n",
       "      <td>78307</td>\n",
       "      <td>title: On the Outs release_date: 2005-07-13 ge...</td>\n",
       "      <td>25.095605</td>\n",
       "      <td>32</td>\n",
       "    </tr>\n",
       "    <tr>\n",
       "      <th>32</th>\n",
       "      <td>950138</td>\n",
       "      <td>title: Zindagi release_date: 1940-07-11 genres...</td>\n",
       "      <td>25.076990</td>\n",
       "      <td>33</td>\n",
       "    </tr>\n",
       "    <tr>\n",
       "      <th>33</th>\n",
       "      <td>224354</td>\n",
       "      <td>title: Anna's Struggle release_date: 2012-11-1...</td>\n",
       "      <td>25.008299</td>\n",
       "      <td>34</td>\n",
       "    </tr>\n",
       "    <tr>\n",
       "      <th>34</th>\n",
       "      <td>72228</td>\n",
       "      <td>title: Saturday Killer release_date: 2010-09-3...</td>\n",
       "      <td>25.004405</td>\n",
       "      <td>35</td>\n",
       "    </tr>\n",
       "    <tr>\n",
       "      <th>35</th>\n",
       "      <td>256770</td>\n",
       "      <td>title: The Children of Times Square release_da...</td>\n",
       "      <td>24.895323</td>\n",
       "      <td>36</td>\n",
       "    </tr>\n",
       "    <tr>\n",
       "      <th>36</th>\n",
       "      <td>534319</td>\n",
       "      <td>title: Misdirection release_date: 2019-03-23 g...</td>\n",
       "      <td>24.832793</td>\n",
       "      <td>37</td>\n",
       "    </tr>\n",
       "    <tr>\n",
       "      <th>37</th>\n",
       "      <td>585499</td>\n",
       "      <td>title: Jazzed Up Hoodlums release_date: 2009-0...</td>\n",
       "      <td>24.831312</td>\n",
       "      <td>38</td>\n",
       "    </tr>\n",
       "    <tr>\n",
       "      <th>38</th>\n",
       "      <td>62191</td>\n",
       "      <td>title: Sound of the Sea release_date: 2001-06-...</td>\n",
       "      <td>24.803619</td>\n",
       "      <td>39</td>\n",
       "    </tr>\n",
       "    <tr>\n",
       "      <th>39</th>\n",
       "      <td>312396</td>\n",
       "      <td>title: I Married a Vampire release_date: 1987-...</td>\n",
       "      <td>24.779325</td>\n",
       "      <td>40</td>\n",
       "    </tr>\n",
       "    <tr>\n",
       "      <th>40</th>\n",
       "      <td>277699</td>\n",
       "      <td>title: The Prisoner of Zenda release_date: 191...</td>\n",
       "      <td>24.762311</td>\n",
       "      <td>41</td>\n",
       "    </tr>\n",
       "    <tr>\n",
       "      <th>41</th>\n",
       "      <td>478667</td>\n",
       "      <td>title: Last Second release_date: 2005-09-29 ge...</td>\n",
       "      <td>24.608662</td>\n",
       "      <td>42</td>\n",
       "    </tr>\n",
       "    <tr>\n",
       "      <th>42</th>\n",
       "      <td>191563</td>\n",
       "      <td>title: A Taste of Killing and Romance release_...</td>\n",
       "      <td>24.597904</td>\n",
       "      <td>43</td>\n",
       "    </tr>\n",
       "    <tr>\n",
       "      <th>43</th>\n",
       "      <td>345077</td>\n",
       "      <td>title: A Case of Love release_date: 1996-01-01...</td>\n",
       "      <td>24.586751</td>\n",
       "      <td>44</td>\n",
       "    </tr>\n",
       "    <tr>\n",
       "      <th>44</th>\n",
       "      <td>43240</td>\n",
       "      <td>title: Tammy and the Bachelor release_date: 19...</td>\n",
       "      <td>24.561145</td>\n",
       "      <td>45</td>\n",
       "    </tr>\n",
       "    <tr>\n",
       "      <th>45</th>\n",
       "      <td>346897</td>\n",
       "      <td>title: Body Lover release_date: 1993-11-04 gen...</td>\n",
       "      <td>24.518892</td>\n",
       "      <td>46</td>\n",
       "    </tr>\n",
       "    <tr>\n",
       "      <th>46</th>\n",
       "      <td>358699</td>\n",
       "      <td>title: Pranaya Nilavu release_date: 1999-09-24...</td>\n",
       "      <td>24.506551</td>\n",
       "      <td>47</td>\n",
       "    </tr>\n",
       "    <tr>\n",
       "      <th>47</th>\n",
       "      <td>568059</td>\n",
       "      <td>title: College Dormitory release_date: 1984-01...</td>\n",
       "      <td>24.506287</td>\n",
       "      <td>48</td>\n",
       "    </tr>\n",
       "    <tr>\n",
       "      <th>48</th>\n",
       "      <td>927230</td>\n",
       "      <td>title: Second Hand Love release_date: 1923-08-...</td>\n",
       "      <td>24.397468</td>\n",
       "      <td>49</td>\n",
       "    </tr>\n",
       "    <tr>\n",
       "      <th>49</th>\n",
       "      <td>203872</td>\n",
       "      <td>title: Love Stories release_date: 1997-06-27 g...</td>\n",
       "      <td>24.381475</td>\n",
       "      <td>50</td>\n",
       "    </tr>\n",
       "  </tbody>\n",
       "</table>\n",
       "</div>"
      ],
      "text/plain": [
       "    movie_id                                      movie_details      score  \\\n",
       "0      46458  title: Map of the Sounds of Tokyo release_date...  30.587815   \n",
       "1     417398  title: A woman on the asphalt release_date: 19...  29.666773   \n",
       "2     268209  title: Dangerous Heart release_date: 1994-02-0...  28.927410   \n",
       "3    1385550  title: The Dog release_date: 2024-11-07 genres...  28.702863   \n",
       "4      68835  title: Prisoner Maria: The Movie release_date:...  28.697545   \n",
       "5     532390  title: Insinuation release_date: 1922-10-10 ge...  27.924891   \n",
       "6     210954  title: Dinner with an Assassin release_date: 2...  27.732107   \n",
       "7     640258  title: The Spider release_date: 2022-05-03 gen...  27.539931   \n",
       "8    1478228  title: No return release_date: 1961-01-31 genr...  27.325508   \n",
       "9     283719  title: Virtual Reality release_date: 2001-10-0...  27.282148   \n",
       "10    128842  title: Lethal Hostage release_date: 2012-08-16...  27.067872   \n",
       "11   1328566  title: Hakuryu 9: Arisa, That Woman... release...  26.884396   \n",
       "12    353832  title: Ratón en Ferretería release_date: 1985-...  26.838469   \n",
       "13    405058  title: The Candy Man release_date: 1969-02-01 ...  26.809472   \n",
       "14    346988  title: Pirates of Monterey release_date: 1947-...  26.511326   \n",
       "15    938170  title: Jeevitha Chakram release_date: 1971-01-...  26.248046   \n",
       "16    670913  title: Yveete release_date: 2009-06-01 genres:...  26.159717   \n",
       "17    465047  title: Australia release_date: 2017-03-12 genr...  26.143716   \n",
       "18    522098  title: Babyteeth release_date: 2020-06-15 genr...  26.010592   \n",
       "19    451688  title: The Rain at Night release_date: 1979-09...  25.652830   \n",
       "20    398266  title: Dealer release_date: 2018-10-28 genres:...  25.622949   \n",
       "21   1390103  title: Grieve release_date: 2024-07-19 genres:...  25.617809   \n",
       "22     45484  title: Goddess of Mercy release_date: 2003-01-...  25.570932   \n",
       "23    310927  title: Welcome to the Southside release_date: ...  25.506499   \n",
       "24    119276  title: Nesio release_date: 2008-10-24 genres: ...  25.462806   \n",
       "25    410555  title: Beijo na Boca release_date: 1982-10-07 ...  25.440408   \n",
       "26    367769  title: La española inglesa release_date: 2015-...  25.391776   \n",
       "27    407455  title: The Chemist release_date: 2016-08-02 ge...  25.318957   \n",
       "28    944798  title: I Am My Own release_date: 2014-04-24 ge...  25.306789   \n",
       "29    873850  title: Samland release_date: 2021-09-14 genres...  25.224125   \n",
       "30    934056  title: Broncho Billy's Indian Romance release_...  25.200138   \n",
       "31     78307  title: On the Outs release_date: 2005-07-13 ge...  25.095605   \n",
       "32    950138  title: Zindagi release_date: 1940-07-11 genres...  25.076990   \n",
       "33    224354  title: Anna's Struggle release_date: 2012-11-1...  25.008299   \n",
       "34     72228  title: Saturday Killer release_date: 2010-09-3...  25.004405   \n",
       "35    256770  title: The Children of Times Square release_da...  24.895323   \n",
       "36    534319  title: Misdirection release_date: 2019-03-23 g...  24.832793   \n",
       "37    585499  title: Jazzed Up Hoodlums release_date: 2009-0...  24.831312   \n",
       "38     62191  title: Sound of the Sea release_date: 2001-06-...  24.803619   \n",
       "39    312396  title: I Married a Vampire release_date: 1987-...  24.779325   \n",
       "40    277699  title: The Prisoner of Zenda release_date: 191...  24.762311   \n",
       "41    478667  title: Last Second release_date: 2005-09-29 ge...  24.608662   \n",
       "42    191563  title: A Taste of Killing and Romance release_...  24.597904   \n",
       "43    345077  title: A Case of Love release_date: 1996-01-01...  24.586751   \n",
       "44     43240  title: Tammy and the Bachelor release_date: 19...  24.561145   \n",
       "45    346897  title: Body Lover release_date: 1993-11-04 gen...  24.518892   \n",
       "46    358699  title: Pranaya Nilavu release_date: 1999-09-24...  24.506551   \n",
       "47    568059  title: College Dormitory release_date: 1984-01...  24.506287   \n",
       "48    927230  title: Second Hand Love release_date: 1923-08-...  24.397468   \n",
       "49    203872  title: Love Stories release_date: 1997-06-27 g...  24.381475   \n",
       "\n",
       "    rank  \n",
       "0      1  \n",
       "1      2  \n",
       "2      3  \n",
       "3      4  \n",
       "4      5  \n",
       "5      6  \n",
       "6      7  \n",
       "7      8  \n",
       "8      9  \n",
       "9     10  \n",
       "10    11  \n",
       "11    12  \n",
       "12    13  \n",
       "13    14  \n",
       "14    15  \n",
       "15    16  \n",
       "16    17  \n",
       "17    18  \n",
       "18    19  \n",
       "19    20  \n",
       "20    21  \n",
       "21    22  \n",
       "22    23  \n",
       "23    24  \n",
       "24    25  \n",
       "25    26  \n",
       "26    27  \n",
       "27    28  \n",
       "28    29  \n",
       "29    30  \n",
       "30    31  \n",
       "31    32  \n",
       "32    33  \n",
       "33    34  \n",
       "34    35  \n",
       "35    36  \n",
       "36    37  \n",
       "37    38  \n",
       "38    39  \n",
       "39    40  \n",
       "40    41  \n",
       "41    42  \n",
       "42    43  \n",
       "43    44  \n",
       "44    45  \n",
       "45    46  \n",
       "46    47  \n",
       "47    48  \n",
       "48    49  \n",
       "49    50  "
      ]
     },
     "execution_count": 7,
     "metadata": {},
     "output_type": "execute_result"
    }
   ],
   "source": [
    "keyword_results = chat.query_sparse_index(\"Spanish movie about a woman who is saved from a drug dealer by an assassin who falls in love with her\")\n",
    "keyword_results['rank'] = keyword_results.index + 1\n",
    "keyword_results"
   ]
  },
  {
   "cell_type": "code",
   "execution_count": 11,
   "id": "95555967",
   "metadata": {},
   "outputs": [
    {
     "name": "stderr",
     "output_type": "stream",
     "text": [
      "c:\\Users\\Adham\\OneDrive\\Documents\\Computer_Science\\Data\\Projects\\LLM focued\\WhatMovie\\whatmovie_backend\\venv\\Lib\\site-packages\\google\\cloud\\bigquery\\table.py:1965: UserWarning: BigQuery Storage module not found, fetch data with the REST endpoint instead.\n",
      "  warnings.warn(\n"
     ]
    },
    {
     "data": {
      "application/vnd.microsoft.datawrangler.viewer.v0+json": {
       "columns": [
        {
         "name": "index",
         "rawType": "int64",
         "type": "integer"
        },
        {
         "name": "0",
         "rawType": "object",
         "type": "string"
        }
       ],
       "ref": "429ca9d1-8e2b-4bfd-b3b4-e499ede16bc3",
       "rows": [
        [
         "0",
         "Hybrid search match 1: title: Map of the Sounds of Tokyo release_date: 2009-12-02 genres: Thriller, Drama, Romance tagline: NA keywords: assassin, female assassin, woman director overview: A Japanese assassin falls in love with the Spanish wine seller she was hired to kill."
        ],
        [
         "1",
         "Hybrid search match 2: title: Romance .38 release_date: 2008-08-06 genres: Crime tagline: NA keywords: NA overview: Jorge is a writer trying to finish his first novel with the help of his girlfriend. But she doesn't know how real is the fiction of his book."
        ],
        [
         "2",
         "Hybrid search match 3: title: A woman on the asphalt release_date: 1978-04-08 genres: NA tagline: NA keywords: NA overview: Nam-soon, who has come to Tokyo with a dream of becoming a singer, falls for the words of the drug dealer Cheon-ga and sacrifices her purity, but in the end is betrayed by him."
        ],
        [
         "3",
         "Hybrid search match 4: title: De Puta Madre: A Love Story release_date: 2014-03-20 genres: Comedy, Drama tagline: You can't be a hostage to love keywords: NA overview: An idyllic picnic turns dangerous, forcing a kidnapped woman to struggle with her delusional ex-lover in a surreal exploration of love, obsession, and letting go."
        ],
        [
         "4",
         "Hybrid search match 5: title: El Florista release_date: 2014-11-22 genres: Comedy, Romance tagline: NA keywords: NA overview: How a distraction can unchain domino-effect consequences and affect the life of a number of people."
        ],
        [
         "5",
         "Hybrid search match 6: title: Dangerous Heart release_date: 1994-02-02 genres: TV Movie, Drama, Romance, Thriller tagline: She's Falling in Love... With Her Husband's Killer. keywords: drug dealer, undercover, love, murder, drugs overview: A cop begins to turn to booze and cocaine during a tough undercover assignment. When a big drug-buy goes sour and the cop ends up with a million in cash, he decides to take off with the money. The drug dealer catches up with him, but he dies before revealing where he stashed the cash. Months later, the drug dealer finds the cop's wife and seduces her, in an effort to find his missing million. In the process, he falls in love with her and alienates his former partners in crime."
        ],
        [
         "6",
         "Hybrid search match 7: title: The Dog release_date: 2024-11-07 genres: Thriller, Drama tagline: NA keywords: NA overview: A drug dealer is hired to drive a young escort, Kadzo, to and from her clients. He falls in love with her and decides to rescue her from her situation, leading him into an increasing spiral fo troubles."
        ],
        [
         "7",
         "Hybrid search match 8: title: Love and Death in the Afternoon release_date: 2016-10-12 genres: Drama tagline: NA keywords: NA overview: About the death of filmmaker Eckhart Schmidt, told from the perspective of a Mexican girl in Culiacan, Sinaloa. She is 16, she needs the money and so she becomes the Maestra of the stranger who is at least three times her age."
        ],
        [
         "8",
         "Hybrid search match 9: title: Prisoner Maria: The Movie release_date: 1995-11-18 genres: Action, Crime, Drama, Romance, Thriller tagline: NA keywords: NA overview: Convicted of killing the drug dealer who murdered her husband, Maria is blackmailed into serving as a covert assassin. She must do the government's bidding if she is ever to regain her freedom, or her son. With each completed mission, her sentenced is further re- duced. Yet, with every job she feels further away from her goal of a peaceful life."
        ],
        [
         "9",
         "Hybrid search match 10: title: Amor maldito release_date: 2017-01-01 genres: Drama tagline: NA keywords: NA overview: The story of a man who is on the run because he is accused of murdering a woman and has to do everything possible to prove his innocence and deal with those who want to hunt him down."
        ]
       ],
       "shape": {
        "columns": 1,
        "rows": 10
       }
      },
      "text/plain": [
       "0    Hybrid search match 1: title: Map of the Sound...\n",
       "1    Hybrid search match 2: title: Romance .38 rele...\n",
       "2    Hybrid search match 3: title: A woman on the a...\n",
       "3    Hybrid search match 4: title: De Puta Madre: A...\n",
       "4    Hybrid search match 5: title: El Florista rele...\n",
       "5    Hybrid search match 6: title: Dangerous Heart ...\n",
       "6    Hybrid search match 7: title: The Dog release_...\n",
       "7    Hybrid search match 8: title: Love and Death i...\n",
       "8    Hybrid search match 9: title: Prisoner Maria: ...\n",
       "9    Hybrid search match 10: title: Amor maldito re...\n",
       "dtype: object"
      ]
     },
     "execution_count": 11,
     "metadata": {},
     "output_type": "execute_result"
    }
   ],
   "source": [
    "hybrid_results = chat.query_hybrid_index(\"Spanish movie about a woman who is saved from a drug dealer by an assassin who falls in love with her\")\n",
    "hybrid_results"
   ]
  },
  {
   "cell_type": "code",
   "execution_count": 12,
   "id": "5ed9a04f",
   "metadata": {},
   "outputs": [
    {
     "name": "stderr",
     "output_type": "stream",
     "text": [
      "c:\\Users\\Adham\\OneDrive\\Documents\\Computer_Science\\Data\\Projects\\LLM focued\\WhatMovie\\whatmovie_backend\\venv\\Lib\\site-packages\\google\\cloud\\bigquery\\table.py:1965: UserWarning: BigQuery Storage module not found, fetch data with the REST endpoint instead.\n",
      "  warnings.warn(\n"
     ]
    },
    {
     "ename": "ValueError",
     "evalue": "Message must be a valid part type: typing.Union[google.genai.types.File, google.genai.types.Part, str] or typing.Union[google.genai.types.File, google.genai.types.Part, str, google.genai.types.PartDict], got <class 'google.genai.types.UserContent'>",
     "output_type": "error",
     "traceback": [
      "\u001b[31m---------------------------------------------------------------------------\u001b[39m",
      "\u001b[31mValueError\u001b[39m                                Traceback (most recent call last)",
      "\u001b[36mCell\u001b[39m\u001b[36m \u001b[39m\u001b[32mIn[12]\u001b[39m\u001b[32m, line 1\u001b[39m\n\u001b[32m----> \u001b[39m\u001b[32m1\u001b[39m bot_response = \u001b[43mchat\u001b[49m\u001b[43m.\u001b[49m\u001b[43msend_message\u001b[49m\u001b[43m(\u001b[49m\u001b[33;43m\"\u001b[39;49m\u001b[33;43mSpanish movie about a woman who is saved from a drug dealer by an assassin who falls in love with her\u001b[39;49m\u001b[33;43m\"\u001b[39;49m\u001b[43m)\u001b[49m\n\u001b[32m      2\u001b[39m display(bot_response)\n",
      "\u001b[36mFile \u001b[39m\u001b[32mc:\\Users\\Adham\\OneDrive\\Documents\\Computer_Science\\Data\\Projects\\LLM focued\\WhatMovie\\whatmovie_backend\\whatmovie_api\\views.py:61\u001b[39m, in \u001b[36mMovieChat.send_message\u001b[39m\u001b[34m(self, movie_description)\u001b[39m\n\u001b[32m     55\u001b[39m user_message_with_context = UserContent(parts=[\n\u001b[32m     56\u001b[39m     {\u001b[33m\"\u001b[39m\u001b[33mtext\u001b[39m\u001b[33m\"\u001b[39m: movie_description},\n\u001b[32m     57\u001b[39m     {\u001b[33m\"\u001b[39m\u001b[33mtext\u001b[39m\u001b[33m\"\u001b[39m: \u001b[33mf\u001b[39m\u001b[33m\"\u001b[39m\u001b[38;5;130;01m\\n\u001b[39;00m\u001b[38;5;130;01m\\n\u001b[39;00m\u001b[33mRelevant movie suggestions from database:\u001b[39m\u001b[38;5;130;01m\\n\u001b[39;00m\u001b[38;5;132;01m{\u001b[39;00msearch_results\u001b[38;5;132;01m}\u001b[39;00m\u001b[33m\"\u001b[39m}\n\u001b[32m     58\u001b[39m ])\n\u001b[32m     60\u001b[39m \u001b[38;5;66;03m# Send the message with the augmented context\u001b[39;00m\n\u001b[32m---> \u001b[39m\u001b[32m61\u001b[39m response = \u001b[38;5;28;43mself\u001b[39;49m\u001b[43m.\u001b[49m\u001b[43m_chat\u001b[49m\u001b[43m.\u001b[49m\u001b[43msend_message\u001b[49m\u001b[43m(\u001b[49m\u001b[43muser_message_with_context\u001b[49m\u001b[43m)\u001b[49m\n\u001b[32m     62\u001b[39m \u001b[38;5;28;01mreturn\u001b[39;00m response.text\n",
      "\u001b[36mFile \u001b[39m\u001b[32mc:\\Users\\Adham\\OneDrive\\Documents\\Computer_Science\\Data\\Projects\\LLM focued\\WhatMovie\\whatmovie_backend\\venv\\Lib\\site-packages\\google\\genai\\chats.py:249\u001b[39m, in \u001b[36mChat.send_message\u001b[39m\u001b[34m(self, message, config)\u001b[39m\n\u001b[32m    230\u001b[39m \u001b[38;5;250m\u001b[39m\u001b[33;03m\"\"\"Sends the conversation history with the additional message and returns the model's response.\u001b[39;00m\n\u001b[32m    231\u001b[39m \n\u001b[32m    232\u001b[39m \u001b[33;03mArgs:\u001b[39;00m\n\u001b[32m   (...)\u001b[39m\u001b[32m    245\u001b[39m \u001b[33;03m  response = chat.send_message('tell me a story')\u001b[39;00m\n\u001b[32m    246\u001b[39m \u001b[33;03m\"\"\"\u001b[39;00m\n\u001b[32m    248\u001b[39m \u001b[38;5;28;01mif\u001b[39;00m \u001b[38;5;129;01mnot\u001b[39;00m _is_part_type(message):\n\u001b[32m--> \u001b[39m\u001b[32m249\u001b[39m   \u001b[38;5;28;01mraise\u001b[39;00m \u001b[38;5;167;01mValueError\u001b[39;00m(\n\u001b[32m    250\u001b[39m       \u001b[33mf\u001b[39m\u001b[33m\"\u001b[39m\u001b[33mMessage must be a valid part type: \u001b[39m\u001b[38;5;132;01m{\u001b[39;00mtypes.PartUnion\u001b[38;5;132;01m}\u001b[39;00m\u001b[33m or\u001b[39m\u001b[33m\"\u001b[39m\n\u001b[32m    251\u001b[39m       \u001b[33mf\u001b[39m\u001b[33m\"\u001b[39m\u001b[33m \u001b[39m\u001b[38;5;132;01m{\u001b[39;00mtypes.PartUnionDict\u001b[38;5;132;01m}\u001b[39;00m\u001b[33m, got \u001b[39m\u001b[38;5;132;01m{\u001b[39;00m\u001b[38;5;28mtype\u001b[39m(message)\u001b[38;5;132;01m}\u001b[39;00m\u001b[33m\"\u001b[39m\n\u001b[32m    252\u001b[39m   )\n\u001b[32m    253\u001b[39m input_content = t.t_content(message)\n\u001b[32m    254\u001b[39m response = \u001b[38;5;28mself\u001b[39m._modules.generate_content(\n\u001b[32m    255\u001b[39m     model=\u001b[38;5;28mself\u001b[39m._model,\n\u001b[32m    256\u001b[39m     contents=\u001b[38;5;28mself\u001b[39m._curated_history + [input_content],  \u001b[38;5;66;03m# type: ignore[arg-type]\u001b[39;00m\n\u001b[32m    257\u001b[39m     config=config \u001b[38;5;28;01mif\u001b[39;00m config \u001b[38;5;28;01melse\u001b[39;00m \u001b[38;5;28mself\u001b[39m._config,\n\u001b[32m    258\u001b[39m )\n",
      "\u001b[31mValueError\u001b[39m: Message must be a valid part type: typing.Union[google.genai.types.File, google.genai.types.Part, str] or typing.Union[google.genai.types.File, google.genai.types.Part, str, google.genai.types.PartDict], got <class 'google.genai.types.UserContent'>"
     ]
    }
   ],
   "source": [
    "bot_response = chat.send_message(\"Spanish movie about a woman who is saved from a drug dealer by an assassin who falls in love with her\")\n",
    "display(bot_response)"
   ]
  }
 ],
 "metadata": {
  "kernelspec": {
   "display_name": "venv (3.13.0)",
   "language": "python",
   "name": "python3"
  },
  "language_info": {
   "codemirror_mode": {
    "name": "ipython",
    "version": 3
   },
   "file_extension": ".py",
   "mimetype": "text/x-python",
   "name": "python",
   "nbconvert_exporter": "python",
   "pygments_lexer": "ipython3",
   "version": "3.13.0"
  }
 },
 "nbformat": 4,
 "nbformat_minor": 5
}
