{
 "cells": [
  {
   "cell_type": "markdown",
   "id": "9a86ab2c",
   "metadata": {},
   "source": [
    "# Testing MovieDataset class"
   ]
  },
  {
   "cell_type": "code",
   "execution_count": 1,
   "id": "4a00a8f0",
   "metadata": {},
   "outputs": [],
   "source": [
    "# Inbuild python packages\n",
    "import os\n",
    "import json\n",
    "\n",
    "# MovieBot class and GCP AI packages\n",
    "from movies_dataset import MovieDataset, bigquery, pd"
   ]
  },
  {
   "cell_type": "code",
   "execution_count": 259,
   "id": "8520d890",
   "metadata": {},
   "outputs": [],
   "source": [
    "# Load GCP project info from config.json\n",
    "config_path = os.path.join(os.getcwd(), 'config.json')\n",
    "with open(config_path, 'r') as f:\n",
    "    config = json.load(f)\n",
    "\n",
    "# Initialise constants\n",
    "PROJECT_ID = config['PROJECT_ID']\n",
    "LOCATION = config['LOCATION']\n",
    "\n",
    "# Initialize BigQuery\n",
    "DATASET_NAME = 'movies'\n",
    "DATASET_ID = f'{config['PROJECT_ID']}.{DATASET_NAME}'"
   ]
  },
  {
   "cell_type": "code",
   "execution_count": 289,
   "id": "38f0e896",
   "metadata": {},
   "outputs": [],
   "source": [
    "import importlib\n",
    "import movies_dataset\n",
    "importlib.reload(movies_dataset)\n",
    "from movies_dataset import MovieDataset, bigquery, pd"
   ]
  },
  {
   "cell_type": "code",
   "execution_count": 290,
   "id": "a33e3009",
   "metadata": {},
   "outputs": [],
   "source": [
    "md = MovieDataset(PROJECT_ID, LOCATION, DATASET_NAME)"
   ]
  },
  {
   "cell_type": "code",
   "execution_count": null,
   "id": "af4f2493",
   "metadata": {},
   "outputs": [],
   "source": [
    "df = md.movie_df[:]"
   ]
  },
  {
   "cell_type": "code",
   "execution_count": 294,
   "id": "e2da9c43",
   "metadata": {},
   "outputs": [],
   "source": [
    "md.create_bq_dataset()"
   ]
  },
  {
   "cell_type": "code",
   "execution_count": 245,
   "id": "2f4f0218",
   "metadata": {},
   "outputs": [
    {
     "data": {
      "text/plain": [
       "'1setup.bqsql'"
      ]
     },
     "execution_count": 245,
     "metadata": {},
     "output_type": "execute_result"
    }
   ],
   "source": [
    "create_files_dir = os.path.join(os.getcwd(), 'bigquery_scripts', 'bmw_query')\n",
    "create_files = sorted(os.listdir(create_files_dir))\n",
    "file = create_files[0]\n",
    "file"
   ]
  },
  {
   "cell_type": "code",
   "execution_count": 257,
   "id": "a058f82c",
   "metadata": {},
   "outputs": [],
   "source": [
    "with open(os.path.join(create_files_dir, file)) as q:\n",
    "    #print(q.read())\n",
    "    df = md.bq_client.query_and_wait(q.read()).to_dataframe()"
   ]
  },
  {
   "cell_type": "code",
   "execution_count": 258,
   "id": "efd67d43",
   "metadata": {},
   "outputs": [],
   "source": [
    "q = 'CALL test.bm25_bmw_search(\"a batman movie with scarecrow dude played by Cillian Murphy\", 5)'\n",
    "df = md.bq_client.query_and_wait(q).to_dataframe()"
   ]
  },
  {
   "cell_type": "code",
   "execution_count": 231,
   "id": "c1efcb7f",
   "metadata": {},
   "outputs": [
    {
     "data": {
      "text/plain": [
       "[10, 20, 12, 30, 40, 15]"
      ]
     },
     "execution_count": 231,
     "metadata": {},
     "output_type": "execute_result"
    }
   ],
   "source": [
    "import heapq\n",
    "\n",
    "heap = [10, 20, 15, 30, 40]\n",
    "\n",
    "\n",
    "heapq.heappush(heap, 12)\n",
    "\n",
    "heap"
   ]
  }
 ],
 "metadata": {
  "kernelspec": {
   "display_name": "Python (data_analytics)",
   "language": "python",
   "name": "data_analytics"
  },
  "language_info": {
   "codemirror_mode": {
    "name": "ipython",
    "version": 3
   },
   "file_extension": ".py",
   "mimetype": "text/x-python",
   "name": "python",
   "nbconvert_exporter": "python",
   "pygments_lexer": "ipython3",
   "version": "3.12.9"
  }
 },
 "nbformat": 4,
 "nbformat_minor": 5
}
