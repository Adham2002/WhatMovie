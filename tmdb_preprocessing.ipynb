{
 "cells": [
  {
   "cell_type": "markdown",
   "id": "f1e07a37",
   "metadata": {},
   "source": [
    "# TMDB cleaning and creating movie embeddings"
   ]
  },
  {
   "cell_type": "code",
   "execution_count": null,
   "id": "ea410c9c",
   "metadata": {},
   "outputs": [],
   "source": [
    "# Data manipulation packages\n",
    "import pandas as pd\n",
    "import numpy as np\n",
    "\n",
    "# data viz packages\n",
    "import matplotlib.pyplot as plt\n",
    "import seaborn as sns"
   ]
  },
  {
   "cell_type": "markdown",
   "id": "476c5c8c",
   "metadata": {},
   "source": [
    "## Get TMDB dataset"
   ]
  },
  {
   "cell_type": "code",
   "execution_count": 3,
   "id": "5f4074e0",
   "metadata": {},
   "outputs": [
    {
     "data": {
      "application/vnd.microsoft.datawrangler.viewer.v0+json": {
       "columns": [
        {
         "name": "id",
         "rawType": "int64",
         "type": "integer"
        },
        {
         "name": "title",
         "rawType": "object",
         "type": "string"
        },
        {
         "name": "vote_average",
         "rawType": "float64",
         "type": "float"
        },
        {
         "name": "vote_count",
         "rawType": "int64",
         "type": "integer"
        },
        {
         "name": "status",
         "rawType": "object",
         "type": "string"
        },
        {
         "name": "release_date",
         "rawType": "object",
         "type": "string"
        },
        {
         "name": "adult",
         "rawType": "bool",
         "type": "boolean"
        },
        {
         "name": "overview",
         "rawType": "object",
         "type": "string"
        },
        {
         "name": "popularity",
         "rawType": "float64",
         "type": "float"
        },
        {
         "name": "tagline",
         "rawType": "object",
         "type": "string"
        },
        {
         "name": "genres",
         "rawType": "object",
         "type": "string"
        },
        {
         "name": "production_companies",
         "rawType": "object",
         "type": "string"
        },
        {
         "name": "keywords",
         "rawType": "object",
         "type": "string"
        }
       ],
       "ref": "4d638fa0-ab7f-4028-b11d-c73ac8d538ea",
       "rows": [
        [
         "27205",
         "Inception",
         "8.364",
         "34495",
         "Released",
         "2010-07-15",
         "False",
         "Cobb, a skilled thief who commits corporate espionage by infiltrating the subconscious of his targets is offered a chance to regain his old life as payment for a task considered to be impossible: \"inception\", the implantation of another person's idea into a target's subconscious.",
         "83.952",
         "Your mind is the scene of the crime.",
         "Action, Science Fiction, Adventure",
         "Legendary Pictures, Syncopy, Warner Bros. Pictures",
         "rescue, mission, dream, airplane, paris, france, virtual reality, kidnapping, philosophy, spy, allegory, manipulation, car crash, heist, memory, architecture, los angeles, california, dream world, subconscious"
        ],
        [
         "157336",
         "Interstellar",
         "8.417",
         "32571",
         "Released",
         "2014-11-05",
         "False",
         "The adventures of a group of explorers who make use of a newly discovered wormhole to surpass the limitations on human space travel and conquer the vast distances involved in an interstellar voyage.",
         "140.241",
         "Mankind was born on Earth. It was never meant to die here.",
         "Adventure, Drama, Science Fiction",
         "Legendary Pictures, Syncopy, Lynda Obst Productions",
         "rescue, future, spacecraft, race against time, artificial intelligence (a.i.), nasa, time warp, dystopia, expedition, space travel, wormhole, famine, black hole, quantum mechanics, family relationships, space, robot, astronaut, scientist, single father, farmer, space station, curious, space adventure, time paradox, thoughtful, time-manipulation, father daughter relationship, 2060s, cornfield, time manipulation, complicated"
        ],
        [
         "155",
         "The Dark Knight",
         "8.512",
         "30619",
         "Released",
         "2008-07-16",
         "False",
         "Batman raises the stakes in his war on crime. With the help of Lt. Jim Gordon and District Attorney Harvey Dent, Batman sets out to dismantle the remaining criminal organizations that plague the streets. The partnership proves to be effective, but they soon find themselves prey to a reign of chaos unleashed by a rising criminal mastermind known to the terrified citizens of Gotham as the Joker.",
         "130.643",
         "Welcome to a world without rules.",
         "Drama, Action, Crime, Thriller",
         "DC Comics, Legendary Pictures, Syncopy, Isobel Griffiths, Warner Bros. Pictures",
         "joker, sadism, chaos, secret identity, crime fighter, superhero, anti hero, scarecrow, based on comic, vigilante, organized crime, tragic hero, anti villain, criminal mastermind, district attorney, super power, super villain, neo-noir"
        ],
        [
         "19995",
         "Avatar",
         "7.573",
         "29815",
         "Released",
         "2009-12-15",
         "False",
         "In the 22nd century, a paraplegic Marine is dispatched to the moon Pandora on a unique mission, but becomes torn between following orders and protecting an alien civilization.",
         "79.932",
         "Enter the world of Pandora.",
         "Action, Adventure, Fantasy, Science Fiction",
         "Dune Entertainment, Lightstorm Entertainment, 20th Century Fox, Ingenious Media",
         "future, society, culture clash, space travel, space war, space colony, tribe, romance, alien, futuristic, space, alien planet, marine, soldier, battle, love affair, nature, anti war, power relations, joyful"
        ],
        [
         "24428",
         "The Avengers",
         "7.71",
         "29166",
         "Released",
         "2012-04-25",
         "False",
         "When an unexpected enemy emerges and threatens global safety and security, Nick Fury, director of the international peacekeeping agency known as S.H.I.E.L.D., finds himself in need of a team to pull the world back from the brink of disaster. Spanning the globe, a daring recruitment effort begins!",
         "98.082",
         "Some assembly required.",
         "Science Fiction, Action, Adventure",
         "Marvel Studios",
         "new york city, superhero, shield, based on comic, alien invasion, superhero team, aftercreditsstinger, duringcreditsstinger, marvel cinematic universe (mcu)"
        ]
       ],
       "shape": {
        "columns": 12,
        "rows": 5
       }
      },
      "text/html": [
       "<div>\n",
       "<style scoped>\n",
       "    .dataframe tbody tr th:only-of-type {\n",
       "        vertical-align: middle;\n",
       "    }\n",
       "\n",
       "    .dataframe tbody tr th {\n",
       "        vertical-align: top;\n",
       "    }\n",
       "\n",
       "    .dataframe thead th {\n",
       "        text-align: right;\n",
       "    }\n",
       "</style>\n",
       "<table border=\"1\" class=\"dataframe\">\n",
       "  <thead>\n",
       "    <tr style=\"text-align: right;\">\n",
       "      <th></th>\n",
       "      <th>title</th>\n",
       "      <th>vote_average</th>\n",
       "      <th>vote_count</th>\n",
       "      <th>status</th>\n",
       "      <th>release_date</th>\n",
       "      <th>adult</th>\n",
       "      <th>overview</th>\n",
       "      <th>popularity</th>\n",
       "      <th>tagline</th>\n",
       "      <th>genres</th>\n",
       "      <th>production_companies</th>\n",
       "      <th>keywords</th>\n",
       "    </tr>\n",
       "    <tr>\n",
       "      <th>id</th>\n",
       "      <th></th>\n",
       "      <th></th>\n",
       "      <th></th>\n",
       "      <th></th>\n",
       "      <th></th>\n",
       "      <th></th>\n",
       "      <th></th>\n",
       "      <th></th>\n",
       "      <th></th>\n",
       "      <th></th>\n",
       "      <th></th>\n",
       "      <th></th>\n",
       "    </tr>\n",
       "  </thead>\n",
       "  <tbody>\n",
       "    <tr>\n",
       "      <th>27205</th>\n",
       "      <td>Inception</td>\n",
       "      <td>8.364</td>\n",
       "      <td>34495</td>\n",
       "      <td>Released</td>\n",
       "      <td>2010-07-15</td>\n",
       "      <td>False</td>\n",
       "      <td>Cobb, a skilled thief who commits corporate es...</td>\n",
       "      <td>83.952</td>\n",
       "      <td>Your mind is the scene of the crime.</td>\n",
       "      <td>Action, Science Fiction, Adventure</td>\n",
       "      <td>Legendary Pictures, Syncopy, Warner Bros. Pict...</td>\n",
       "      <td>rescue, mission, dream, airplane, paris, franc...</td>\n",
       "    </tr>\n",
       "    <tr>\n",
       "      <th>157336</th>\n",
       "      <td>Interstellar</td>\n",
       "      <td>8.417</td>\n",
       "      <td>32571</td>\n",
       "      <td>Released</td>\n",
       "      <td>2014-11-05</td>\n",
       "      <td>False</td>\n",
       "      <td>The adventures of a group of explorers who mak...</td>\n",
       "      <td>140.241</td>\n",
       "      <td>Mankind was born on Earth. It was never meant ...</td>\n",
       "      <td>Adventure, Drama, Science Fiction</td>\n",
       "      <td>Legendary Pictures, Syncopy, Lynda Obst Produc...</td>\n",
       "      <td>rescue, future, spacecraft, race against time,...</td>\n",
       "    </tr>\n",
       "    <tr>\n",
       "      <th>155</th>\n",
       "      <td>The Dark Knight</td>\n",
       "      <td>8.512</td>\n",
       "      <td>30619</td>\n",
       "      <td>Released</td>\n",
       "      <td>2008-07-16</td>\n",
       "      <td>False</td>\n",
       "      <td>Batman raises the stakes in his war on crime. ...</td>\n",
       "      <td>130.643</td>\n",
       "      <td>Welcome to a world without rules.</td>\n",
       "      <td>Drama, Action, Crime, Thriller</td>\n",
       "      <td>DC Comics, Legendary Pictures, Syncopy, Isobel...</td>\n",
       "      <td>joker, sadism, chaos, secret identity, crime f...</td>\n",
       "    </tr>\n",
       "    <tr>\n",
       "      <th>19995</th>\n",
       "      <td>Avatar</td>\n",
       "      <td>7.573</td>\n",
       "      <td>29815</td>\n",
       "      <td>Released</td>\n",
       "      <td>2009-12-15</td>\n",
       "      <td>False</td>\n",
       "      <td>In the 22nd century, a paraplegic Marine is di...</td>\n",
       "      <td>79.932</td>\n",
       "      <td>Enter the world of Pandora.</td>\n",
       "      <td>Action, Adventure, Fantasy, Science Fiction</td>\n",
       "      <td>Dune Entertainment, Lightstorm Entertainment, ...</td>\n",
       "      <td>future, society, culture clash, space travel, ...</td>\n",
       "    </tr>\n",
       "    <tr>\n",
       "      <th>24428</th>\n",
       "      <td>The Avengers</td>\n",
       "      <td>7.710</td>\n",
       "      <td>29166</td>\n",
       "      <td>Released</td>\n",
       "      <td>2012-04-25</td>\n",
       "      <td>False</td>\n",
       "      <td>When an unexpected enemy emerges and threatens...</td>\n",
       "      <td>98.082</td>\n",
       "      <td>Some assembly required.</td>\n",
       "      <td>Science Fiction, Action, Adventure</td>\n",
       "      <td>Marvel Studios</td>\n",
       "      <td>new york city, superhero, shield, based on com...</td>\n",
       "    </tr>\n",
       "  </tbody>\n",
       "</table>\n",
       "</div>"
      ],
      "text/plain": [
       "                  title  vote_average  vote_count    status release_date  \\\n",
       "id                                                                         \n",
       "27205         Inception         8.364       34495  Released   2010-07-15   \n",
       "157336     Interstellar         8.417       32571  Released   2014-11-05   \n",
       "155     The Dark Knight         8.512       30619  Released   2008-07-16   \n",
       "19995            Avatar         7.573       29815  Released   2009-12-15   \n",
       "24428      The Avengers         7.710       29166  Released   2012-04-25   \n",
       "\n",
       "        adult                                           overview  popularity  \\\n",
       "id                                                                             \n",
       "27205   False  Cobb, a skilled thief who commits corporate es...      83.952   \n",
       "157336  False  The adventures of a group of explorers who mak...     140.241   \n",
       "155     False  Batman raises the stakes in his war on crime. ...     130.643   \n",
       "19995   False  In the 22nd century, a paraplegic Marine is di...      79.932   \n",
       "24428   False  When an unexpected enemy emerges and threatens...      98.082   \n",
       "\n",
       "                                                  tagline  \\\n",
       "id                                                          \n",
       "27205                Your mind is the scene of the crime.   \n",
       "157336  Mankind was born on Earth. It was never meant ...   \n",
       "155                     Welcome to a world without rules.   \n",
       "19995                         Enter the world of Pandora.   \n",
       "24428                             Some assembly required.   \n",
       "\n",
       "                                             genres  \\\n",
       "id                                                    \n",
       "27205            Action, Science Fiction, Adventure   \n",
       "157336            Adventure, Drama, Science Fiction   \n",
       "155                  Drama, Action, Crime, Thriller   \n",
       "19995   Action, Adventure, Fantasy, Science Fiction   \n",
       "24428            Science Fiction, Action, Adventure   \n",
       "\n",
       "                                     production_companies  \\\n",
       "id                                                          \n",
       "27205   Legendary Pictures, Syncopy, Warner Bros. Pict...   \n",
       "157336  Legendary Pictures, Syncopy, Lynda Obst Produc...   \n",
       "155     DC Comics, Legendary Pictures, Syncopy, Isobel...   \n",
       "19995   Dune Entertainment, Lightstorm Entertainment, ...   \n",
       "24428                                      Marvel Studios   \n",
       "\n",
       "                                                 keywords  \n",
       "id                                                         \n",
       "27205   rescue, mission, dream, airplane, paris, franc...  \n",
       "157336  rescue, future, spacecraft, race against time,...  \n",
       "155     joker, sadism, chaos, secret identity, crime f...  \n",
       "19995   future, society, culture clash, space travel, ...  \n",
       "24428   new york city, superhero, shield, based on com...  "
      ]
     },
     "execution_count": 3,
     "metadata": {},
     "output_type": "execute_result"
    }
   ],
   "source": [
    "# Load in TMDB dataset\n",
    "df_full = pd.read_csv(\n",
    "    'data/tmdb_movie_dataset.csv',\n",
    "    usecols = [\n",
    "        'id', \n",
    "        'title', 'overview', 'tagline',                                     # useful for semantic similarity\n",
    "        'genres', 'production_companies', 'keywords', 'release_date',       # useful features for semantic similarity, keyword matching and logical filtering\n",
    "        'vote_average', 'vote_count', 'popularity',                         # useful or logical ranking and filtering (popular movies are more likely to be searched)\n",
    "        'status', 'adult'                                                   # useful for filtering the dataset to get only non adult movies\n",
    "    ],\n",
    "    index_col = 'id'\n",
    ")\n",
    "\n",
    "df_full.head()"
   ]
  },
  {
   "cell_type": "code",
   "execution_count": 4,
   "id": "42cabd9f",
   "metadata": {},
   "outputs": [
    {
     "data": {
      "application/vnd.microsoft.datawrangler.viewer.v0+json": {
       "columns": [
        {
         "name": "id",
         "rawType": "int64",
         "type": "integer"
        },
        {
         "name": "title",
         "rawType": "object",
         "type": "string"
        },
        {
         "name": "vote_average",
         "rawType": "float64",
         "type": "float"
        },
        {
         "name": "vote_count",
         "rawType": "int64",
         "type": "integer"
        },
        {
         "name": "release_date",
         "rawType": "object",
         "type": "string"
        },
        {
         "name": "overview",
         "rawType": "object",
         "type": "string"
        },
        {
         "name": "popularity",
         "rawType": "float64",
         "type": "float"
        },
        {
         "name": "tagline",
         "rawType": "object",
         "type": "string"
        },
        {
         "name": "genres",
         "rawType": "object",
         "type": "string"
        },
        {
         "name": "production_companies",
         "rawType": "object",
         "type": "string"
        },
        {
         "name": "keywords",
         "rawType": "object",
         "type": "string"
        }
       ],
       "ref": "119204c8-d2e7-4bde-b743-d8aeabd252a1",
       "rows": [
        [
         "27205",
         "Inception",
         "8.364",
         "34495",
         "2010-07-15",
         "Cobb, a skilled thief who commits corporate espionage by infiltrating the subconscious of his targets is offered a chance to regain his old life as payment for a task considered to be impossible: \"inception\", the implantation of another person's idea into a target's subconscious.",
         "83.952",
         "Your mind is the scene of the crime.",
         "Action, Science Fiction, Adventure",
         "Legendary Pictures, Syncopy, Warner Bros. Pictures",
         "rescue, mission, dream, airplane, paris, france, virtual reality, kidnapping, philosophy, spy, allegory, manipulation, car crash, heist, memory, architecture, los angeles, california, dream world, subconscious"
        ],
        [
         "157336",
         "Interstellar",
         "8.417",
         "32571",
         "2014-11-05",
         "The adventures of a group of explorers who make use of a newly discovered wormhole to surpass the limitations on human space travel and conquer the vast distances involved in an interstellar voyage.",
         "140.241",
         "Mankind was born on Earth. It was never meant to die here.",
         "Adventure, Drama, Science Fiction",
         "Legendary Pictures, Syncopy, Lynda Obst Productions",
         "rescue, future, spacecraft, race against time, artificial intelligence (a.i.), nasa, time warp, dystopia, expedition, space travel, wormhole, famine, black hole, quantum mechanics, family relationships, space, robot, astronaut, scientist, single father, farmer, space station, curious, space adventure, time paradox, thoughtful, time-manipulation, father daughter relationship, 2060s, cornfield, time manipulation, complicated"
        ],
        [
         "155",
         "The Dark Knight",
         "8.512",
         "30619",
         "2008-07-16",
         "Batman raises the stakes in his war on crime. With the help of Lt. Jim Gordon and District Attorney Harvey Dent, Batman sets out to dismantle the remaining criminal organizations that plague the streets. The partnership proves to be effective, but they soon find themselves prey to a reign of chaos unleashed by a rising criminal mastermind known to the terrified citizens of Gotham as the Joker.",
         "130.643",
         "Welcome to a world without rules.",
         "Drama, Action, Crime, Thriller",
         "DC Comics, Legendary Pictures, Syncopy, Isobel Griffiths, Warner Bros. Pictures",
         "joker, sadism, chaos, secret identity, crime fighter, superhero, anti hero, scarecrow, based on comic, vigilante, organized crime, tragic hero, anti villain, criminal mastermind, district attorney, super power, super villain, neo-noir"
        ],
        [
         "19995",
         "Avatar",
         "7.573",
         "29815",
         "2009-12-15",
         "In the 22nd century, a paraplegic Marine is dispatched to the moon Pandora on a unique mission, but becomes torn between following orders and protecting an alien civilization.",
         "79.932",
         "Enter the world of Pandora.",
         "Action, Adventure, Fantasy, Science Fiction",
         "Dune Entertainment, Lightstorm Entertainment, 20th Century Fox, Ingenious Media",
         "future, society, culture clash, space travel, space war, space colony, tribe, romance, alien, futuristic, space, alien planet, marine, soldier, battle, love affair, nature, anti war, power relations, joyful"
        ],
        [
         "24428",
         "The Avengers",
         "7.71",
         "29166",
         "2012-04-25",
         "When an unexpected enemy emerges and threatens global safety and security, Nick Fury, director of the international peacekeeping agency known as S.H.I.E.L.D., finds himself in need of a team to pull the world back from the brink of disaster. Spanning the globe, a daring recruitment effort begins!",
         "98.082",
         "Some assembly required.",
         "Science Fiction, Action, Adventure",
         "Marvel Studios",
         "new york city, superhero, shield, based on comic, alien invasion, superhero team, aftercreditsstinger, duringcreditsstinger, marvel cinematic universe (mcu)"
        ]
       ],
       "shape": {
        "columns": 10,
        "rows": 5
       }
      },
      "text/html": [
       "<div>\n",
       "<style scoped>\n",
       "    .dataframe tbody tr th:only-of-type {\n",
       "        vertical-align: middle;\n",
       "    }\n",
       "\n",
       "    .dataframe tbody tr th {\n",
       "        vertical-align: top;\n",
       "    }\n",
       "\n",
       "    .dataframe thead th {\n",
       "        text-align: right;\n",
       "    }\n",
       "</style>\n",
       "<table border=\"1\" class=\"dataframe\">\n",
       "  <thead>\n",
       "    <tr style=\"text-align: right;\">\n",
       "      <th></th>\n",
       "      <th>title</th>\n",
       "      <th>vote_average</th>\n",
       "      <th>vote_count</th>\n",
       "      <th>release_date</th>\n",
       "      <th>overview</th>\n",
       "      <th>popularity</th>\n",
       "      <th>tagline</th>\n",
       "      <th>genres</th>\n",
       "      <th>production_companies</th>\n",
       "      <th>keywords</th>\n",
       "    </tr>\n",
       "    <tr>\n",
       "      <th>id</th>\n",
       "      <th></th>\n",
       "      <th></th>\n",
       "      <th></th>\n",
       "      <th></th>\n",
       "      <th></th>\n",
       "      <th></th>\n",
       "      <th></th>\n",
       "      <th></th>\n",
       "      <th></th>\n",
       "      <th></th>\n",
       "    </tr>\n",
       "  </thead>\n",
       "  <tbody>\n",
       "    <tr>\n",
       "      <th>27205</th>\n",
       "      <td>Inception</td>\n",
       "      <td>8.364</td>\n",
       "      <td>34495</td>\n",
       "      <td>2010-07-15</td>\n",
       "      <td>Cobb, a skilled thief who commits corporate es...</td>\n",
       "      <td>83.952</td>\n",
       "      <td>Your mind is the scene of the crime.</td>\n",
       "      <td>Action, Science Fiction, Adventure</td>\n",
       "      <td>Legendary Pictures, Syncopy, Warner Bros. Pict...</td>\n",
       "      <td>rescue, mission, dream, airplane, paris, franc...</td>\n",
       "    </tr>\n",
       "    <tr>\n",
       "      <th>157336</th>\n",
       "      <td>Interstellar</td>\n",
       "      <td>8.417</td>\n",
       "      <td>32571</td>\n",
       "      <td>2014-11-05</td>\n",
       "      <td>The adventures of a group of explorers who mak...</td>\n",
       "      <td>140.241</td>\n",
       "      <td>Mankind was born on Earth. It was never meant ...</td>\n",
       "      <td>Adventure, Drama, Science Fiction</td>\n",
       "      <td>Legendary Pictures, Syncopy, Lynda Obst Produc...</td>\n",
       "      <td>rescue, future, spacecraft, race against time,...</td>\n",
       "    </tr>\n",
       "    <tr>\n",
       "      <th>155</th>\n",
       "      <td>The Dark Knight</td>\n",
       "      <td>8.512</td>\n",
       "      <td>30619</td>\n",
       "      <td>2008-07-16</td>\n",
       "      <td>Batman raises the stakes in his war on crime. ...</td>\n",
       "      <td>130.643</td>\n",
       "      <td>Welcome to a world without rules.</td>\n",
       "      <td>Drama, Action, Crime, Thriller</td>\n",
       "      <td>DC Comics, Legendary Pictures, Syncopy, Isobel...</td>\n",
       "      <td>joker, sadism, chaos, secret identity, crime f...</td>\n",
       "    </tr>\n",
       "    <tr>\n",
       "      <th>19995</th>\n",
       "      <td>Avatar</td>\n",
       "      <td>7.573</td>\n",
       "      <td>29815</td>\n",
       "      <td>2009-12-15</td>\n",
       "      <td>In the 22nd century, a paraplegic Marine is di...</td>\n",
       "      <td>79.932</td>\n",
       "      <td>Enter the world of Pandora.</td>\n",
       "      <td>Action, Adventure, Fantasy, Science Fiction</td>\n",
       "      <td>Dune Entertainment, Lightstorm Entertainment, ...</td>\n",
       "      <td>future, society, culture clash, space travel, ...</td>\n",
       "    </tr>\n",
       "    <tr>\n",
       "      <th>24428</th>\n",
       "      <td>The Avengers</td>\n",
       "      <td>7.710</td>\n",
       "      <td>29166</td>\n",
       "      <td>2012-04-25</td>\n",
       "      <td>When an unexpected enemy emerges and threatens...</td>\n",
       "      <td>98.082</td>\n",
       "      <td>Some assembly required.</td>\n",
       "      <td>Science Fiction, Action, Adventure</td>\n",
       "      <td>Marvel Studios</td>\n",
       "      <td>new york city, superhero, shield, based on com...</td>\n",
       "    </tr>\n",
       "  </tbody>\n",
       "</table>\n",
       "</div>"
      ],
      "text/plain": [
       "                  title  vote_average  vote_count release_date  \\\n",
       "id                                                               \n",
       "27205         Inception         8.364       34495   2010-07-15   \n",
       "157336     Interstellar         8.417       32571   2014-11-05   \n",
       "155     The Dark Knight         8.512       30619   2008-07-16   \n",
       "19995            Avatar         7.573       29815   2009-12-15   \n",
       "24428      The Avengers         7.710       29166   2012-04-25   \n",
       "\n",
       "                                                 overview  popularity  \\\n",
       "id                                                                      \n",
       "27205   Cobb, a skilled thief who commits corporate es...      83.952   \n",
       "157336  The adventures of a group of explorers who mak...     140.241   \n",
       "155     Batman raises the stakes in his war on crime. ...     130.643   \n",
       "19995   In the 22nd century, a paraplegic Marine is di...      79.932   \n",
       "24428   When an unexpected enemy emerges and threatens...      98.082   \n",
       "\n",
       "                                                  tagline  \\\n",
       "id                                                          \n",
       "27205                Your mind is the scene of the crime.   \n",
       "157336  Mankind was born on Earth. It was never meant ...   \n",
       "155                     Welcome to a world without rules.   \n",
       "19995                         Enter the world of Pandora.   \n",
       "24428                             Some assembly required.   \n",
       "\n",
       "                                             genres  \\\n",
       "id                                                    \n",
       "27205            Action, Science Fiction, Adventure   \n",
       "157336            Adventure, Drama, Science Fiction   \n",
       "155                  Drama, Action, Crime, Thriller   \n",
       "19995   Action, Adventure, Fantasy, Science Fiction   \n",
       "24428            Science Fiction, Action, Adventure   \n",
       "\n",
       "                                     production_companies  \\\n",
       "id                                                          \n",
       "27205   Legendary Pictures, Syncopy, Warner Bros. Pict...   \n",
       "157336  Legendary Pictures, Syncopy, Lynda Obst Produc...   \n",
       "155     DC Comics, Legendary Pictures, Syncopy, Isobel...   \n",
       "19995   Dune Entertainment, Lightstorm Entertainment, ...   \n",
       "24428                                      Marvel Studios   \n",
       "\n",
       "                                                 keywords  \n",
       "id                                                         \n",
       "27205   rescue, mission, dream, airplane, paris, franc...  \n",
       "157336  rescue, future, spacecraft, race against time,...  \n",
       "155     joker, sadism, chaos, secret identity, crime f...  \n",
       "19995   future, society, culture clash, space travel, ...  \n",
       "24428   new york city, superhero, shield, based on com...  "
      ]
     },
     "execution_count": 4,
     "metadata": {},
     "output_type": "execute_result"
    }
   ],
   "source": [
    "# Select only released movies movies that are not adult films\n",
    "df = df_full.loc[df_full['status'] == 'Released', df_full.columns.drop('status')]\n",
    "df = df.loc[~(df['adult']), df.columns.drop('adult')]\n",
    "df.head()"
   ]
  },
  {
   "cell_type": "code",
   "execution_count": 5,
   "id": "a52401d3",
   "metadata": {},
   "outputs": [
    {
     "name": "stdout",
     "output_type": "stream",
     "text": [
      "<class 'pandas.core.frame.DataFrame'>\n",
      "Index: 1093220 entries, 27205 to 1506807\n",
      "Data columns (total 10 columns):\n",
      " #   Column                Non-Null Count    Dtype  \n",
      "---  ------                --------------    -----  \n",
      " 0   title                 1093210 non-null  object \n",
      " 1   vote_average          1093220 non-null  float64\n",
      " 2   vote_count            1093220 non-null  int64  \n",
      " 3   release_date          892175 non-null   object \n",
      " 4   overview              859020 non-null   object \n",
      " 5   popularity            1093220 non-null  float64\n",
      " 6   tagline               153742 non-null   object \n",
      " 7   genres                686387 non-null   object \n",
      " 8   production_companies  435145 non-null   object \n",
      " 9   keywords              269137 non-null   object \n",
      "dtypes: float64(2), int64(1), object(7)\n",
      "memory usage: 91.7+ MB\n"
     ]
    }
   ],
   "source": [
    "df.info()"
   ]
  },
  {
   "cell_type": "markdown",
   "id": "7aacc040",
   "metadata": {},
   "source": [
    "## Clean dataset"
   ]
  },
  {
   "cell_type": "code",
   "execution_count": 6,
   "id": "c211b3ad",
   "metadata": {},
   "outputs": [
    {
     "data": {
      "application/vnd.microsoft.datawrangler.viewer.v0+json": {
       "columns": [
        {
         "name": "index",
         "rawType": "object",
         "type": "string"
        },
        {
         "name": "''",
         "rawType": "int64",
         "type": "integer"
        },
        {
         "name": "[]",
         "rawType": "int64",
         "type": "integer"
        },
        {
         "name": "'[]'",
         "rawType": "int64",
         "type": "integer"
        },
        {
         "name": "null",
         "rawType": "int64",
         "type": "integer"
        },
        {
         "name": "total",
         "rawType": "int64",
         "type": "integer"
        },
        {
         "name": "percent",
         "rawType": "float64",
         "type": "float"
        }
       ],
       "ref": "cfdabfa5-d2bc-4917-82de-3f1734cb1b0a",
       "rows": [
        [
         "tagline",
         "0",
         "0",
         "0",
         "939478",
         "939478",
         "85.937"
        ],
        [
         "keywords",
         "0",
         "0",
         "0",
         "824083",
         "824083",
         "75.381"
        ],
        [
         "production_companies",
         "0",
         "0",
         "0",
         "658075",
         "658075",
         "60.196"
        ],
        [
         "genres",
         "0",
         "0",
         "0",
         "406833",
         "406833",
         "37.214"
        ],
        [
         "overview",
         "0",
         "0",
         "0",
         "234200",
         "234200",
         "21.423"
        ],
        [
         "release_date",
         "0",
         "0",
         "0",
         "201045",
         "201045",
         "18.39"
        ],
        [
         "title",
         "0",
         "0",
         "1",
         "10",
         "11",
         "0.001"
        ],
        [
         "vote_average",
         "0",
         "0",
         "0",
         "0",
         "0",
         "0.0"
        ],
        [
         "vote_count",
         "0",
         "0",
         "0",
         "0",
         "0",
         "0.0"
        ],
        [
         "popularity",
         "0",
         "0",
         "0",
         "0",
         "0",
         "0.0"
        ]
       ],
       "shape": {
        "columns": 6,
        "rows": 10
       }
      },
      "text/html": [
       "<div>\n",
       "<style scoped>\n",
       "    .dataframe tbody tr th:only-of-type {\n",
       "        vertical-align: middle;\n",
       "    }\n",
       "\n",
       "    .dataframe tbody tr th {\n",
       "        vertical-align: top;\n",
       "    }\n",
       "\n",
       "    .dataframe thead th {\n",
       "        text-align: right;\n",
       "    }\n",
       "</style>\n",
       "<table border=\"1\" class=\"dataframe\">\n",
       "  <thead>\n",
       "    <tr style=\"text-align: right;\">\n",
       "      <th></th>\n",
       "      <th>''</th>\n",
       "      <th>[]</th>\n",
       "      <th>'[]'</th>\n",
       "      <th>null</th>\n",
       "      <th>total</th>\n",
       "      <th>percent</th>\n",
       "    </tr>\n",
       "  </thead>\n",
       "  <tbody>\n",
       "    <tr>\n",
       "      <th>tagline</th>\n",
       "      <td>0</td>\n",
       "      <td>0</td>\n",
       "      <td>0</td>\n",
       "      <td>939478</td>\n",
       "      <td>939478</td>\n",
       "      <td>85.937</td>\n",
       "    </tr>\n",
       "    <tr>\n",
       "      <th>keywords</th>\n",
       "      <td>0</td>\n",
       "      <td>0</td>\n",
       "      <td>0</td>\n",
       "      <td>824083</td>\n",
       "      <td>824083</td>\n",
       "      <td>75.381</td>\n",
       "    </tr>\n",
       "    <tr>\n",
       "      <th>production_companies</th>\n",
       "      <td>0</td>\n",
       "      <td>0</td>\n",
       "      <td>0</td>\n",
       "      <td>658075</td>\n",
       "      <td>658075</td>\n",
       "      <td>60.196</td>\n",
       "    </tr>\n",
       "    <tr>\n",
       "      <th>genres</th>\n",
       "      <td>0</td>\n",
       "      <td>0</td>\n",
       "      <td>0</td>\n",
       "      <td>406833</td>\n",
       "      <td>406833</td>\n",
       "      <td>37.214</td>\n",
       "    </tr>\n",
       "    <tr>\n",
       "      <th>overview</th>\n",
       "      <td>0</td>\n",
       "      <td>0</td>\n",
       "      <td>0</td>\n",
       "      <td>234200</td>\n",
       "      <td>234200</td>\n",
       "      <td>21.423</td>\n",
       "    </tr>\n",
       "    <tr>\n",
       "      <th>release_date</th>\n",
       "      <td>0</td>\n",
       "      <td>0</td>\n",
       "      <td>0</td>\n",
       "      <td>201045</td>\n",
       "      <td>201045</td>\n",
       "      <td>18.390</td>\n",
       "    </tr>\n",
       "    <tr>\n",
       "      <th>title</th>\n",
       "      <td>0</td>\n",
       "      <td>0</td>\n",
       "      <td>1</td>\n",
       "      <td>10</td>\n",
       "      <td>11</td>\n",
       "      <td>0.001</td>\n",
       "    </tr>\n",
       "    <tr>\n",
       "      <th>vote_average</th>\n",
       "      <td>0</td>\n",
       "      <td>0</td>\n",
       "      <td>0</td>\n",
       "      <td>0</td>\n",
       "      <td>0</td>\n",
       "      <td>0.000</td>\n",
       "    </tr>\n",
       "    <tr>\n",
       "      <th>vote_count</th>\n",
       "      <td>0</td>\n",
       "      <td>0</td>\n",
       "      <td>0</td>\n",
       "      <td>0</td>\n",
       "      <td>0</td>\n",
       "      <td>0.000</td>\n",
       "    </tr>\n",
       "    <tr>\n",
       "      <th>popularity</th>\n",
       "      <td>0</td>\n",
       "      <td>0</td>\n",
       "      <td>0</td>\n",
       "      <td>0</td>\n",
       "      <td>0</td>\n",
       "      <td>0.000</td>\n",
       "    </tr>\n",
       "  </tbody>\n",
       "</table>\n",
       "</div>"
      ],
      "text/plain": [
       "                      ''  []  '[]'    null   total  percent\n",
       "tagline                0   0     0  939478  939478   85.937\n",
       "keywords               0   0     0  824083  824083   75.381\n",
       "production_companies   0   0     0  658075  658075   60.196\n",
       "genres                 0   0     0  406833  406833   37.214\n",
       "overview               0   0     0  234200  234200   21.423\n",
       "release_date           0   0     0  201045  201045   18.390\n",
       "title                  0   0     1      10      11    0.001\n",
       "vote_average           0   0     0       0       0    0.000\n",
       "vote_count             0   0     0       0       0    0.000\n",
       "popularity             0   0     0       0       0    0.000"
      ]
     },
     "execution_count": 6,
     "metadata": {},
     "output_type": "execute_result"
    }
   ],
   "source": [
    "def empty_vals(df):\n",
    "    '''function to show both number of nulls and the percentage of nulls in the whole column'''\n",
    "    total_cnt = len(df)                                                 # Total entries in the dataframe\n",
    "    empty_strs = (df == '').sum()                                       # Number of empty strings in each column\n",
    "    empty_lists = df.map(\n",
    "        lambda x: isinstance(x, list) and len(x) == 0                   # Number of empty lists in each column\n",
    "    ).sum()\n",
    "    empty_lists_str = (df == '[]').sum()                                # Number of empty lists strings in each column\n",
    "    nulls = (df.isnull()).sum()                                         # Number of nulls in each column\n",
    "    totals = empty_strs + empty_lists + empty_lists_str + nulls         # Total number of empty/null values\n",
    "    \n",
    "    empty_vals = pd.DataFrame({         # Put all the data into a single dataframe\n",
    "        '\\'\\'': empty_strs,\n",
    "        '[]': empty_lists,\n",
    "        '\\'[]\\'': empty_lists_str,\n",
    "        'null': nulls,\n",
    "        'total':  totals\n",
    "    })\n",
    "    empty_vals['percent'] = round((empty_vals['total']/total_cnt)*100, 3)       # Round how many empty/null values there are, as %, of the df\n",
    "    \n",
    "    return empty_vals.sort_values('percent', ascending=False)\n",
    "\n",
    "empty_vals(df)"
   ]
  },
  {
   "cell_type": "code",
   "execution_count": 7,
   "id": "183a0aee",
   "metadata": {},
   "outputs": [
    {
     "data": {
      "application/vnd.microsoft.datawrangler.viewer.v0+json": {
       "columns": [
        {
         "name": "index",
         "rawType": "object",
         "type": "string"
        },
        {
         "name": "''",
         "rawType": "int64",
         "type": "integer"
        },
        {
         "name": "[]",
         "rawType": "int64",
         "type": "integer"
        },
        {
         "name": "'[]'",
         "rawType": "int64",
         "type": "integer"
        },
        {
         "name": "null",
         "rawType": "int64",
         "type": "integer"
        },
        {
         "name": "total",
         "rawType": "int64",
         "type": "integer"
        },
        {
         "name": "percent",
         "rawType": "float64",
         "type": "float"
        }
       ],
       "ref": "e327dfa4-5915-4767-ba1f-42b09b3261a7",
       "rows": [
        [
         "tagline",
         "0",
         "0",
         "0",
         "607194",
         "607194",
         "82.372"
        ],
        [
         "keywords",
         "0",
         "0",
         "0",
         "508940",
         "508940",
         "69.043"
        ],
        [
         "production_companies",
         "0",
         "0",
         "0",
         "376505",
         "376505",
         "51.077"
        ],
        [
         "genres",
         "0",
         "0",
         "0",
         "191994",
         "191994",
         "26.046"
        ],
        [
         "title",
         "0",
         "0",
         "1",
         "0",
         "1",
         "0.0"
        ],
        [
         "vote_average",
         "0",
         "0",
         "0",
         "0",
         "0",
         "0.0"
        ],
        [
         "vote_count",
         "0",
         "0",
         "0",
         "0",
         "0",
         "0.0"
        ],
        [
         "release_date",
         "0",
         "0",
         "0",
         "0",
         "0",
         "0.0"
        ],
        [
         "overview",
         "0",
         "0",
         "0",
         "0",
         "0",
         "0.0"
        ],
        [
         "popularity",
         "0",
         "0",
         "0",
         "0",
         "0",
         "0.0"
        ]
       ],
       "shape": {
        "columns": 6,
        "rows": 10
       }
      },
      "text/html": [
       "<div>\n",
       "<style scoped>\n",
       "    .dataframe tbody tr th:only-of-type {\n",
       "        vertical-align: middle;\n",
       "    }\n",
       "\n",
       "    .dataframe tbody tr th {\n",
       "        vertical-align: top;\n",
       "    }\n",
       "\n",
       "    .dataframe thead th {\n",
       "        text-align: right;\n",
       "    }\n",
       "</style>\n",
       "<table border=\"1\" class=\"dataframe\">\n",
       "  <thead>\n",
       "    <tr style=\"text-align: right;\">\n",
       "      <th></th>\n",
       "      <th>''</th>\n",
       "      <th>[]</th>\n",
       "      <th>'[]'</th>\n",
       "      <th>null</th>\n",
       "      <th>total</th>\n",
       "      <th>percent</th>\n",
       "    </tr>\n",
       "  </thead>\n",
       "  <tbody>\n",
       "    <tr>\n",
       "      <th>tagline</th>\n",
       "      <td>0</td>\n",
       "      <td>0</td>\n",
       "      <td>0</td>\n",
       "      <td>607194</td>\n",
       "      <td>607194</td>\n",
       "      <td>82.372</td>\n",
       "    </tr>\n",
       "    <tr>\n",
       "      <th>keywords</th>\n",
       "      <td>0</td>\n",
       "      <td>0</td>\n",
       "      <td>0</td>\n",
       "      <td>508940</td>\n",
       "      <td>508940</td>\n",
       "      <td>69.043</td>\n",
       "    </tr>\n",
       "    <tr>\n",
       "      <th>production_companies</th>\n",
       "      <td>0</td>\n",
       "      <td>0</td>\n",
       "      <td>0</td>\n",
       "      <td>376505</td>\n",
       "      <td>376505</td>\n",
       "      <td>51.077</td>\n",
       "    </tr>\n",
       "    <tr>\n",
       "      <th>genres</th>\n",
       "      <td>0</td>\n",
       "      <td>0</td>\n",
       "      <td>0</td>\n",
       "      <td>191994</td>\n",
       "      <td>191994</td>\n",
       "      <td>26.046</td>\n",
       "    </tr>\n",
       "    <tr>\n",
       "      <th>title</th>\n",
       "      <td>0</td>\n",
       "      <td>0</td>\n",
       "      <td>1</td>\n",
       "      <td>0</td>\n",
       "      <td>1</td>\n",
       "      <td>0.000</td>\n",
       "    </tr>\n",
       "    <tr>\n",
       "      <th>vote_average</th>\n",
       "      <td>0</td>\n",
       "      <td>0</td>\n",
       "      <td>0</td>\n",
       "      <td>0</td>\n",
       "      <td>0</td>\n",
       "      <td>0.000</td>\n",
       "    </tr>\n",
       "    <tr>\n",
       "      <th>vote_count</th>\n",
       "      <td>0</td>\n",
       "      <td>0</td>\n",
       "      <td>0</td>\n",
       "      <td>0</td>\n",
       "      <td>0</td>\n",
       "      <td>0.000</td>\n",
       "    </tr>\n",
       "    <tr>\n",
       "      <th>release_date</th>\n",
       "      <td>0</td>\n",
       "      <td>0</td>\n",
       "      <td>0</td>\n",
       "      <td>0</td>\n",
       "      <td>0</td>\n",
       "      <td>0.000</td>\n",
       "    </tr>\n",
       "    <tr>\n",
       "      <th>overview</th>\n",
       "      <td>0</td>\n",
       "      <td>0</td>\n",
       "      <td>0</td>\n",
       "      <td>0</td>\n",
       "      <td>0</td>\n",
       "      <td>0.000</td>\n",
       "    </tr>\n",
       "    <tr>\n",
       "      <th>popularity</th>\n",
       "      <td>0</td>\n",
       "      <td>0</td>\n",
       "      <td>0</td>\n",
       "      <td>0</td>\n",
       "      <td>0</td>\n",
       "      <td>0.000</td>\n",
       "    </tr>\n",
       "  </tbody>\n",
       "</table>\n",
       "</div>"
      ],
      "text/plain": [
       "                      ''  []  '[]'    null   total  percent\n",
       "tagline                0   0     0  607194  607194   82.372\n",
       "keywords               0   0     0  508940  508940   69.043\n",
       "production_companies   0   0     0  376505  376505   51.077\n",
       "genres                 0   0     0  191994  191994   26.046\n",
       "title                  0   0     1       0       1    0.000\n",
       "vote_average           0   0     0       0       0    0.000\n",
       "vote_count             0   0     0       0       0    0.000\n",
       "release_date           0   0     0       0       0    0.000\n",
       "overview               0   0     0       0       0    0.000\n",
       "popularity             0   0     0       0       0    0.000"
      ]
     },
     "execution_count": 7,
     "metadata": {},
     "output_type": "execute_result"
    }
   ],
   "source": [
    "df_cleaned = df.loc[\n",
    "    (df[\"title\"].notnull()) & \n",
    "    (df[\"release_date\"].notnull()) & \n",
    "    (df[\"overview\"].notnull())\n",
    "]\n",
    "empty_vals(df_cleaned)"
   ]
  },
  {
   "cell_type": "code",
   "execution_count": 8,
   "id": "5f664650",
   "metadata": {},
   "outputs": [
    {
     "data": {
      "application/vnd.microsoft.datawrangler.viewer.v0+json": {
       "columns": [
        {
         "name": "index",
         "rawType": "object",
         "type": "string"
        },
        {
         "name": "''",
         "rawType": "int64",
         "type": "integer"
        },
        {
         "name": "[]",
         "rawType": "int64",
         "type": "integer"
        },
        {
         "name": "'[]'",
         "rawType": "int64",
         "type": "integer"
        },
        {
         "name": "null",
         "rawType": "int64",
         "type": "integer"
        },
        {
         "name": "total",
         "rawType": "int64",
         "type": "integer"
        },
        {
         "name": "percent",
         "rawType": "float64",
         "type": "float"
        }
       ],
       "ref": "c43aba79-eff1-4894-a50f-a38038abfdcb",
       "rows": [
        [
         "title",
         "0",
         "0",
         "1",
         "0",
         "1",
         "0.0"
        ],
        [
         "vote_average",
         "0",
         "0",
         "0",
         "0",
         "0",
         "0.0"
        ],
        [
         "vote_count",
         "0",
         "0",
         "0",
         "0",
         "0",
         "0.0"
        ],
        [
         "release_date",
         "0",
         "0",
         "0",
         "0",
         "0",
         "0.0"
        ],
        [
         "overview",
         "0",
         "0",
         "0",
         "0",
         "0",
         "0.0"
        ],
        [
         "popularity",
         "0",
         "0",
         "0",
         "0",
         "0",
         "0.0"
        ],
        [
         "tagline",
         "0",
         "0",
         "0",
         "0",
         "0",
         "0.0"
        ],
        [
         "genres",
         "0",
         "0",
         "0",
         "0",
         "0",
         "0.0"
        ],
        [
         "production_companies",
         "0",
         "0",
         "0",
         "0",
         "0",
         "0.0"
        ],
        [
         "keywords",
         "0",
         "0",
         "0",
         "0",
         "0",
         "0.0"
        ]
       ],
       "shape": {
        "columns": 6,
        "rows": 10
       }
      },
      "text/html": [
       "<div>\n",
       "<style scoped>\n",
       "    .dataframe tbody tr th:only-of-type {\n",
       "        vertical-align: middle;\n",
       "    }\n",
       "\n",
       "    .dataframe tbody tr th {\n",
       "        vertical-align: top;\n",
       "    }\n",
       "\n",
       "    .dataframe thead th {\n",
       "        text-align: right;\n",
       "    }\n",
       "</style>\n",
       "<table border=\"1\" class=\"dataframe\">\n",
       "  <thead>\n",
       "    <tr style=\"text-align: right;\">\n",
       "      <th></th>\n",
       "      <th>''</th>\n",
       "      <th>[]</th>\n",
       "      <th>'[]'</th>\n",
       "      <th>null</th>\n",
       "      <th>total</th>\n",
       "      <th>percent</th>\n",
       "    </tr>\n",
       "  </thead>\n",
       "  <tbody>\n",
       "    <tr>\n",
       "      <th>title</th>\n",
       "      <td>0</td>\n",
       "      <td>0</td>\n",
       "      <td>1</td>\n",
       "      <td>0</td>\n",
       "      <td>1</td>\n",
       "      <td>0.0</td>\n",
       "    </tr>\n",
       "    <tr>\n",
       "      <th>vote_average</th>\n",
       "      <td>0</td>\n",
       "      <td>0</td>\n",
       "      <td>0</td>\n",
       "      <td>0</td>\n",
       "      <td>0</td>\n",
       "      <td>0.0</td>\n",
       "    </tr>\n",
       "    <tr>\n",
       "      <th>vote_count</th>\n",
       "      <td>0</td>\n",
       "      <td>0</td>\n",
       "      <td>0</td>\n",
       "      <td>0</td>\n",
       "      <td>0</td>\n",
       "      <td>0.0</td>\n",
       "    </tr>\n",
       "    <tr>\n",
       "      <th>release_date</th>\n",
       "      <td>0</td>\n",
       "      <td>0</td>\n",
       "      <td>0</td>\n",
       "      <td>0</td>\n",
       "      <td>0</td>\n",
       "      <td>0.0</td>\n",
       "    </tr>\n",
       "    <tr>\n",
       "      <th>overview</th>\n",
       "      <td>0</td>\n",
       "      <td>0</td>\n",
       "      <td>0</td>\n",
       "      <td>0</td>\n",
       "      <td>0</td>\n",
       "      <td>0.0</td>\n",
       "    </tr>\n",
       "    <tr>\n",
       "      <th>popularity</th>\n",
       "      <td>0</td>\n",
       "      <td>0</td>\n",
       "      <td>0</td>\n",
       "      <td>0</td>\n",
       "      <td>0</td>\n",
       "      <td>0.0</td>\n",
       "    </tr>\n",
       "    <tr>\n",
       "      <th>tagline</th>\n",
       "      <td>0</td>\n",
       "      <td>0</td>\n",
       "      <td>0</td>\n",
       "      <td>0</td>\n",
       "      <td>0</td>\n",
       "      <td>0.0</td>\n",
       "    </tr>\n",
       "    <tr>\n",
       "      <th>genres</th>\n",
       "      <td>0</td>\n",
       "      <td>0</td>\n",
       "      <td>0</td>\n",
       "      <td>0</td>\n",
       "      <td>0</td>\n",
       "      <td>0.0</td>\n",
       "    </tr>\n",
       "    <tr>\n",
       "      <th>production_companies</th>\n",
       "      <td>0</td>\n",
       "      <td>0</td>\n",
       "      <td>0</td>\n",
       "      <td>0</td>\n",
       "      <td>0</td>\n",
       "      <td>0.0</td>\n",
       "    </tr>\n",
       "    <tr>\n",
       "      <th>keywords</th>\n",
       "      <td>0</td>\n",
       "      <td>0</td>\n",
       "      <td>0</td>\n",
       "      <td>0</td>\n",
       "      <td>0</td>\n",
       "      <td>0.0</td>\n",
       "    </tr>\n",
       "  </tbody>\n",
       "</table>\n",
       "</div>"
      ],
      "text/plain": [
       "                      ''  []  '[]'  null  total  percent\n",
       "title                  0   0     1     0      1      0.0\n",
       "vote_average           0   0     0     0      0      0.0\n",
       "vote_count             0   0     0     0      0      0.0\n",
       "release_date           0   0     0     0      0      0.0\n",
       "overview               0   0     0     0      0      0.0\n",
       "popularity             0   0     0     0      0      0.0\n",
       "tagline                0   0     0     0      0      0.0\n",
       "genres                 0   0     0     0      0      0.0\n",
       "production_companies   0   0     0     0      0      0.0\n",
       "keywords               0   0     0     0      0      0.0"
      ]
     },
     "execution_count": 8,
     "metadata": {},
     "output_type": "execute_result"
    }
   ],
   "source": [
    "df_cleaned = df_cleaned.fillna(\"NA\")\n",
    "empty_vals(df_cleaned)"
   ]
  },
  {
   "cell_type": "code",
   "execution_count": 9,
   "id": "4cc772aa",
   "metadata": {},
   "outputs": [
    {
     "name": "stdout",
     "output_type": "stream",
     "text": [
      "<class 'pandas.core.frame.DataFrame'>\n",
      "Index: 737133 entries, 27205 to 1506807\n",
      "Data columns (total 10 columns):\n",
      " #   Column                Non-Null Count   Dtype  \n",
      "---  ------                --------------   -----  \n",
      " 0   title                 737133 non-null  object \n",
      " 1   vote_average          737133 non-null  float64\n",
      " 2   vote_count            737133 non-null  int64  \n",
      " 3   release_date          737133 non-null  object \n",
      " 4   overview              737133 non-null  object \n",
      " 5   popularity            737133 non-null  float64\n",
      " 6   tagline               737133 non-null  object \n",
      " 7   genres                737133 non-null  object \n",
      " 8   production_companies  737133 non-null  object \n",
      " 9   keywords              737133 non-null  object \n",
      "dtypes: float64(2), int64(1), object(7)\n",
      "memory usage: 61.9+ MB\n"
     ]
    }
   ],
   "source": [
    "df_cleaned.info()"
   ]
  },
  {
   "cell_type": "markdown",
   "id": "84c223a4",
   "metadata": {},
   "source": [
    "## Feature engineering"
   ]
  },
  {
   "cell_type": "code",
   "execution_count": 12,
   "id": "01587f14",
   "metadata": {},
   "outputs": [
    {
     "data": {
      "application/vnd.microsoft.datawrangler.viewer.v0+json": {
       "columns": [
        {
         "name": "id",
         "rawType": "int64",
         "type": "integer"
        },
        {
         "name": "movie_details",
         "rawType": "object",
         "type": "string"
        }
       ],
       "ref": "4ed04bfc-7516-4f3e-bf3b-57691ad3dbf7",
       "rows": [
        [
         "27205",
         "title: Inception release_date: 2010-07-15 genres: Action, Science Fiction, Adventure tagline: Your mind is the scene of the crime. keywords: rescue, mission, dream, airplane, paris, france, virtual reality, kidnapping, philosophy, spy, allegory, manipulation, car crash, heist, memory, architecture, los angeles, california, dream world, subconscious overview: Cobb, a skilled thief who commits corporate espionage by infiltrating the subconscious of his targets is offered a chance to regain his old life as payment for a task considered to be impossible: \"inception\", the implantation of another person's idea into a target's subconscious."
        ],
        [
         "157336",
         "title: Interstellar release_date: 2014-11-05 genres: Adventure, Drama, Science Fiction tagline: Mankind was born on Earth. It was never meant to die here. keywords: rescue, future, spacecraft, race against time, artificial intelligence (a.i.), nasa, time warp, dystopia, expedition, space travel, wormhole, famine, black hole, quantum mechanics, family relationships, space, robot, astronaut, scientist, single father, farmer, space station, curious, space adventure, time paradox, thoughtful, time-manipulation, father daughter relationship, 2060s, cornfield, time manipulation, complicated overview: The adventures of a group of explorers who make use of a newly discovered wormhole to surpass the limitations on human space travel and conquer the vast distances involved in an interstellar voyage."
        ],
        [
         "155",
         "title: The Dark Knight release_date: 2008-07-16 genres: Drama, Action, Crime, Thriller tagline: Welcome to a world without rules. keywords: joker, sadism, chaos, secret identity, crime fighter, superhero, anti hero, scarecrow, based on comic, vigilante, organized crime, tragic hero, anti villain, criminal mastermind, district attorney, super power, super villain, neo-noir overview: Batman raises the stakes in his war on crime. With the help of Lt. Jim Gordon and District Attorney Harvey Dent, Batman sets out to dismantle the remaining criminal organizations that plague the streets. The partnership proves to be effective, but they soon find themselves prey to a reign of chaos unleashed by a rising criminal mastermind known to the terrified citizens of Gotham as the Joker."
        ],
        [
         "19995",
         "title: Avatar release_date: 2009-12-15 genres: Action, Adventure, Fantasy, Science Fiction tagline: Enter the world of Pandora. keywords: future, society, culture clash, space travel, space war, space colony, tribe, romance, alien, futuristic, space, alien planet, marine, soldier, battle, love affair, nature, anti war, power relations, joyful overview: In the 22nd century, a paraplegic Marine is dispatched to the moon Pandora on a unique mission, but becomes torn between following orders and protecting an alien civilization."
        ],
        [
         "24428",
         "title: The Avengers release_date: 2012-04-25 genres: Science Fiction, Action, Adventure tagline: Some assembly required. keywords: new york city, superhero, shield, based on comic, alien invasion, superhero team, aftercreditsstinger, duringcreditsstinger, marvel cinematic universe (mcu) overview: When an unexpected enemy emerges and threatens global safety and security, Nick Fury, director of the international peacekeeping agency known as S.H.I.E.L.D., finds himself in need of a team to pull the world back from the brink of disaster. Spanning the globe, a daring recruitment effort begins!"
        ]
       ],
       "shape": {
        "columns": 1,
        "rows": 5
       }
      },
      "text/plain": [
       "id\n",
       "27205     title: Inception release_date: 2010-07-15 genr...\n",
       "157336    title: Interstellar release_date: 2014-11-05 g...\n",
       "155       title: The Dark Knight release_date: 2008-07-1...\n",
       "19995     title: Avatar release_date: 2009-12-15 genres:...\n",
       "24428     title: The Avengers release_date: 2012-04-25 g...\n",
       "Name: movie_details, dtype: object"
      ]
     },
     "execution_count": 12,
     "metadata": {},
     "output_type": "execute_result"
    }
   ],
   "source": [
    "# Create 'movie_details' column that will be vectorised\n",
    "df_cleaned['movie_details'] = \"title: \" + df_cleaned[\"title\"]\n",
    "df_cleaned['movie_details'] += \" release_date: \" + df_cleaned[\"release_date\"] \n",
    "df_cleaned['movie_details'] += \" genres: \" + df_cleaned[\"genres\"]\n",
    "df_cleaned['movie_details'] += \" tagline: \" + df_cleaned[\"tagline\"] \n",
    "df_cleaned['movie_details'] += \" keywords: \" + df_cleaned[\"keywords\"]  \n",
    "df_cleaned['movie_details'] += \" overview: \" + df_cleaned[\"overview\"] \n",
    "df_cleaned['movie_details'].head()"
   ]
  },
  {
   "cell_type": "code",
   "execution_count": 11,
   "id": "623b397c",
   "metadata": {},
   "outputs": [
    {
     "data": {
      "text/plain": [
       "0"
      ]
     },
     "execution_count": 11,
     "metadata": {},
     "output_type": "execute_result"
    }
   ],
   "source": [
    "# Null check\n",
    "df_cleaned[\"movie_details\"].isnull().sum()"
   ]
  },
  {
   "cell_type": "markdown",
   "id": "c908d1d3",
   "metadata": {},
   "source": [
    "## Save dataset"
   ]
  },
  {
   "cell_type": "code",
   "execution_count": null,
   "id": "683dcc4a",
   "metadata": {},
   "outputs": [
    {
     "ename": "",
     "evalue": "",
     "output_type": "error",
     "traceback": [
      "\u001b[1;31mThe Kernel crashed while executing code in the current cell or a previous cell. \n",
      "\u001b[1;31mPlease review the code in the cell(s) to identify a possible cause of the failure. \n",
      "\u001b[1;31mClick <a href='https://aka.ms/vscodeJupyterKernelCrash'>here</a> for more info. \n",
      "\u001b[1;31mView Jupyter <a href='command:jupyter.viewOutput'>log</a> for further details."
     ]
    }
   ],
   "source": [
    "df_cleaned.to_csv('data/processed_dataset.csv')"
   ]
  },
  {
   "cell_type": "code",
   "execution_count": null,
   "id": "feb4b720",
   "metadata": {},
   "outputs": [],
   "source": []
  }
 ],
 "metadata": {
  "kernelspec": {
   "display_name": "Python (data_analytics)",
   "language": "python",
   "name": "data_analytics"
  },
  "language_info": {
   "codemirror_mode": {
    "name": "ipython",
    "version": 3
   },
   "file_extension": ".py",
   "mimetype": "text/x-python",
   "name": "python",
   "nbconvert_exporter": "python",
   "pygments_lexer": "ipython3",
   "version": "3.12.9"
  }
 },
 "nbformat": 4,
 "nbformat_minor": 5
}
